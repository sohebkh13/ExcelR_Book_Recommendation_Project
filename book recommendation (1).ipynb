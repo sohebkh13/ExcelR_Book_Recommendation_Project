{
 "cells": [
  {
   "cell_type": "markdown",
   "id": "47b14d97-bfc0-4594-835a-a1bfdbfddb12",
   "metadata": {},
   "source": [
    "#BOOK RECOMMENDATION SYSTEM"
   ]
  },
  {
   "cell_type": "code",
   "execution_count": 7,
   "id": "a06d4ece-e7a9-4374-ac80-aee00e2cf5ed",
   "metadata": {},
   "outputs": [],
   "source": [
    "#Importing modules\n",
    "import pandas as pd\n",
    "import sys\n",
    "import numpy as np\n",
    "import matplotlib.pyplot as plt\n",
    "import seaborn as sns\n",
    "import random\n",
    "# This is to supress the warning messages (if any) generated in our code\n",
    "import warnings\n",
    "warnings.filterwarnings('ignore')"
   ]
  },
  {
   "cell_type": "code",
   "execution_count": 8,
   "id": "21348f39-45b3-4d2b-8ef9-e506cd031eee",
   "metadata": {},
   "outputs": [
    {
     "data": {
      "text/html": [
       "<div>\n",
       "<style scoped>\n",
       "    .dataframe tbody tr th:only-of-type {\n",
       "        vertical-align: middle;\n",
       "    }\n",
       "\n",
       "    .dataframe tbody tr th {\n",
       "        vertical-align: top;\n",
       "    }\n",
       "\n",
       "    .dataframe thead th {\n",
       "        text-align: right;\n",
       "    }\n",
       "</style>\n",
       "<table border=\"1\" class=\"dataframe\">\n",
       "  <thead>\n",
       "    <tr style=\"text-align: right;\">\n",
       "      <th></th>\n",
       "      <th>User-ID</th>\n",
       "      <th>Location</th>\n",
       "      <th>Age</th>\n",
       "    </tr>\n",
       "  </thead>\n",
       "  <tbody>\n",
       "    <tr>\n",
       "      <th>0</th>\n",
       "      <td>1</td>\n",
       "      <td>nyc, new york, usa</td>\n",
       "      <td>NaN</td>\n",
       "    </tr>\n",
       "    <tr>\n",
       "      <th>1</th>\n",
       "      <td>2</td>\n",
       "      <td>stockton, california, usa</td>\n",
       "      <td>18.0</td>\n",
       "    </tr>\n",
       "    <tr>\n",
       "      <th>2</th>\n",
       "      <td>3</td>\n",
       "      <td>moscow, yukon territory, russia</td>\n",
       "      <td>NaN</td>\n",
       "    </tr>\n",
       "    <tr>\n",
       "      <th>3</th>\n",
       "      <td>4</td>\n",
       "      <td>porto, v.n.gaia, portugal</td>\n",
       "      <td>17.0</td>\n",
       "    </tr>\n",
       "    <tr>\n",
       "      <th>4</th>\n",
       "      <td>5</td>\n",
       "      <td>farnborough, hants, united kingdom</td>\n",
       "      <td>NaN</td>\n",
       "    </tr>\n",
       "  </tbody>\n",
       "</table>\n",
       "</div>"
      ],
      "text/plain": [
       "   User-ID                            Location   Age\n",
       "0        1                  nyc, new york, usa   NaN\n",
       "1        2           stockton, california, usa  18.0\n",
       "2        3     moscow, yukon territory, russia   NaN\n",
       "3        4           porto, v.n.gaia, portugal  17.0\n",
       "4        5  farnborough, hants, united kingdom   NaN"
      ]
     },
     "execution_count": 8,
     "metadata": {},
     "output_type": "execute_result"
    }
   ],
   "source": [
    "file_path = (\"P505/Users.csv\")\n",
    "users = pd.read_csv(file_path, encoding=\"cp1252\")\n",
    "users.head()"
   ]
  },
  {
   "cell_type": "code",
   "execution_count": 9,
   "id": "eaf4ed67-2f90-4b2d-b33a-2094995b2b94",
   "metadata": {},
   "outputs": [
    {
     "data": {
      "text/html": [
       "<div>\n",
       "<style scoped>\n",
       "    .dataframe tbody tr th:only-of-type {\n",
       "        vertical-align: middle;\n",
       "    }\n",
       "\n",
       "    .dataframe tbody tr th {\n",
       "        vertical-align: top;\n",
       "    }\n",
       "\n",
       "    .dataframe thead th {\n",
       "        text-align: right;\n",
       "    }\n",
       "</style>\n",
       "<table border=\"1\" class=\"dataframe\">\n",
       "  <thead>\n",
       "    <tr style=\"text-align: right;\">\n",
       "      <th></th>\n",
       "      <th>ISBN</th>\n",
       "      <th>Book-Title</th>\n",
       "      <th>Book-Author</th>\n",
       "      <th>Year-Of-Publication</th>\n",
       "      <th>Publisher</th>\n",
       "      <th>Image-URL-S</th>\n",
       "      <th>Image-URL-M</th>\n",
       "      <th>Image-URL-L</th>\n",
       "    </tr>\n",
       "  </thead>\n",
       "  <tbody>\n",
       "    <tr>\n",
       "      <th>0</th>\n",
       "      <td>0195153448</td>\n",
       "      <td>Classical Mythology</td>\n",
       "      <td>Mark P. O. Morford</td>\n",
       "      <td>2002</td>\n",
       "      <td>Oxford University Press</td>\n",
       "      <td>http://images.amazon.com/images/P/0195153448.0...</td>\n",
       "      <td>http://images.amazon.com/images/P/0195153448.0...</td>\n",
       "      <td>http://images.amazon.com/images/P/0195153448.0...</td>\n",
       "    </tr>\n",
       "    <tr>\n",
       "      <th>1</th>\n",
       "      <td>0002005018</td>\n",
       "      <td>Clara Callan</td>\n",
       "      <td>Richard Bruce Wright</td>\n",
       "      <td>2001</td>\n",
       "      <td>HarperFlamingo Canada</td>\n",
       "      <td>http://images.amazon.com/images/P/0002005018.0...</td>\n",
       "      <td>http://images.amazon.com/images/P/0002005018.0...</td>\n",
       "      <td>http://images.amazon.com/images/P/0002005018.0...</td>\n",
       "    </tr>\n",
       "    <tr>\n",
       "      <th>2</th>\n",
       "      <td>0060973129</td>\n",
       "      <td>Decision in Normandy</td>\n",
       "      <td>Carlo D'Este</td>\n",
       "      <td>1991</td>\n",
       "      <td>HarperPerennial</td>\n",
       "      <td>http://images.amazon.com/images/P/0060973129.0...</td>\n",
       "      <td>http://images.amazon.com/images/P/0060973129.0...</td>\n",
       "      <td>http://images.amazon.com/images/P/0060973129.0...</td>\n",
       "    </tr>\n",
       "    <tr>\n",
       "      <th>3</th>\n",
       "      <td>0374157065</td>\n",
       "      <td>Flu: The Story of the Great Influenza Pandemic...</td>\n",
       "      <td>Gina Bari Kolata</td>\n",
       "      <td>1999</td>\n",
       "      <td>Farrar Straus Giroux</td>\n",
       "      <td>http://images.amazon.com/images/P/0374157065.0...</td>\n",
       "      <td>http://images.amazon.com/images/P/0374157065.0...</td>\n",
       "      <td>http://images.amazon.com/images/P/0374157065.0...</td>\n",
       "    </tr>\n",
       "    <tr>\n",
       "      <th>4</th>\n",
       "      <td>0393045218</td>\n",
       "      <td>The Mummies of Urumchi</td>\n",
       "      <td>E. J. W. Barber</td>\n",
       "      <td>1999</td>\n",
       "      <td>W. W. Norton &amp;amp; Company</td>\n",
       "      <td>http://images.amazon.com/images/P/0393045218.0...</td>\n",
       "      <td>http://images.amazon.com/images/P/0393045218.0...</td>\n",
       "      <td>http://images.amazon.com/images/P/0393045218.0...</td>\n",
       "    </tr>\n",
       "  </tbody>\n",
       "</table>\n",
       "</div>"
      ],
      "text/plain": [
       "         ISBN                                         Book-Title  \\\n",
       "0  0195153448                                Classical Mythology   \n",
       "1  0002005018                                       Clara Callan   \n",
       "2  0060973129                               Decision in Normandy   \n",
       "3  0374157065  Flu: The Story of the Great Influenza Pandemic...   \n",
       "4  0393045218                             The Mummies of Urumchi   \n",
       "\n",
       "            Book-Author Year-Of-Publication                   Publisher  \\\n",
       "0    Mark P. O. Morford                2002     Oxford University Press   \n",
       "1  Richard Bruce Wright                2001       HarperFlamingo Canada   \n",
       "2          Carlo D'Este                1991             HarperPerennial   \n",
       "3      Gina Bari Kolata                1999        Farrar Straus Giroux   \n",
       "4       E. J. W. Barber                1999  W. W. Norton &amp; Company   \n",
       "\n",
       "                                         Image-URL-S  \\\n",
       "0  http://images.amazon.com/images/P/0195153448.0...   \n",
       "1  http://images.amazon.com/images/P/0002005018.0...   \n",
       "2  http://images.amazon.com/images/P/0060973129.0...   \n",
       "3  http://images.amazon.com/images/P/0374157065.0...   \n",
       "4  http://images.amazon.com/images/P/0393045218.0...   \n",
       "\n",
       "                                         Image-URL-M  \\\n",
       "0  http://images.amazon.com/images/P/0195153448.0...   \n",
       "1  http://images.amazon.com/images/P/0002005018.0...   \n",
       "2  http://images.amazon.com/images/P/0060973129.0...   \n",
       "3  http://images.amazon.com/images/P/0374157065.0...   \n",
       "4  http://images.amazon.com/images/P/0393045218.0...   \n",
       "\n",
       "                                         Image-URL-L  \n",
       "0  http://images.amazon.com/images/P/0195153448.0...  \n",
       "1  http://images.amazon.com/images/P/0002005018.0...  \n",
       "2  http://images.amazon.com/images/P/0060973129.0...  \n",
       "3  http://images.amazon.com/images/P/0374157065.0...  \n",
       "4  http://images.amazon.com/images/P/0393045218.0...  "
      ]
     },
     "execution_count": 9,
     "metadata": {},
     "output_type": "execute_result"
    }
   ],
   "source": [
    "#Books data\n",
    "file_path = (\"P505/Books.csv\")\n",
    "books = pd.read_csv(file_path, encoding=\"cp1252\")\n",
    "books.head()"
   ]
  },
  {
   "cell_type": "code",
   "execution_count": 10,
   "id": "77059c93-93d3-47c6-b8f3-3b58ad335f77",
   "metadata": {},
   "outputs": [
    {
     "data": {
      "text/html": [
       "<div>\n",
       "<style scoped>\n",
       "    .dataframe tbody tr th:only-of-type {\n",
       "        vertical-align: middle;\n",
       "    }\n",
       "\n",
       "    .dataframe tbody tr th {\n",
       "        vertical-align: top;\n",
       "    }\n",
       "\n",
       "    .dataframe thead th {\n",
       "        text-align: right;\n",
       "    }\n",
       "</style>\n",
       "<table border=\"1\" class=\"dataframe\">\n",
       "  <thead>\n",
       "    <tr style=\"text-align: right;\">\n",
       "      <th></th>\n",
       "      <th>User-ID</th>\n",
       "      <th>ISBN</th>\n",
       "      <th>Book-Rating</th>\n",
       "    </tr>\n",
       "  </thead>\n",
       "  <tbody>\n",
       "    <tr>\n",
       "      <th>0</th>\n",
       "      <td>276725</td>\n",
       "      <td>034545104X</td>\n",
       "      <td>0</td>\n",
       "    </tr>\n",
       "    <tr>\n",
       "      <th>1</th>\n",
       "      <td>276726</td>\n",
       "      <td>0155061224</td>\n",
       "      <td>5</td>\n",
       "    </tr>\n",
       "    <tr>\n",
       "      <th>2</th>\n",
       "      <td>276727</td>\n",
       "      <td>0446520802</td>\n",
       "      <td>0</td>\n",
       "    </tr>\n",
       "    <tr>\n",
       "      <th>3</th>\n",
       "      <td>276729</td>\n",
       "      <td>052165615X</td>\n",
       "      <td>3</td>\n",
       "    </tr>\n",
       "    <tr>\n",
       "      <th>4</th>\n",
       "      <td>276729</td>\n",
       "      <td>0521795028</td>\n",
       "      <td>6</td>\n",
       "    </tr>\n",
       "  </tbody>\n",
       "</table>\n",
       "</div>"
      ],
      "text/plain": [
       "   User-ID        ISBN  Book-Rating\n",
       "0   276725  034545104X            0\n",
       "1   276726  0155061224            5\n",
       "2   276727  0446520802            0\n",
       "3   276729  052165615X            3\n",
       "4   276729  0521795028            6"
      ]
     },
     "execution_count": 10,
     "metadata": {},
     "output_type": "execute_result"
    }
   ],
   "source": [
    "#Ratings Data\n",
    "file_path = (\"P505/Ratings.csv\")\n",
    "ratings = pd.read_csv(file_path,encoding=\"cp1252\")\n",
    "ratings.head()\n"
   ]
  },
  {
   "cell_type": "markdown",
   "id": "b7c9411b-1bba-4b65-b71d-e8c917ad6449",
   "metadata": {},
   "source": [
    "##dimenstion of dataset"
   ]
  },
  {
   "cell_type": "code",
   "execution_count": 11,
   "id": "fd423867-4940-425d-b283-ad9469cb1799",
   "metadata": {},
   "outputs": [
    {
     "name": "stdout",
     "output_type": "stream",
     "text": [
      "\t  Book_df shape is (271360, 8)\n",
      "          Ratings_df shape is (1149780, 3)\n",
      "          Users_df shape is (278858, 3)\n"
     ]
    }
   ],
   "source": [
    "# dimension of dataset\n",
    "print(f'''\\t  Book_df shape is {books.shape}\n",
    "          Ratings_df shape is {ratings.shape}\n",
    "          Users_df shape is {users.shape}''')"
   ]
  },
  {
   "cell_type": "markdown",
   "id": "22fa4bb0-d74c-440b-8e29-db2cb210be91",
   "metadata": {},
   "source": [
    "#users_DATASET"
   ]
  },
  {
   "cell_type": "code",
   "execution_count": 12,
   "id": "6261c63f-6e1b-4778-b403-22d35ad9ffd0",
   "metadata": {},
   "outputs": [
    {
     "data": {
      "text/plain": [
       "<bound method DataFrame.info of         User-ID                            Location   Age\n",
       "0             1                  nyc, new york, usa   NaN\n",
       "1             2           stockton, california, usa  18.0\n",
       "2             3     moscow, yukon territory, russia   NaN\n",
       "3             4           porto, v.n.gaia, portugal  17.0\n",
       "4             5  farnborough, hants, united kingdom   NaN\n",
       "...         ...                                 ...   ...\n",
       "278853   278854               portland, oregon, usa   NaN\n",
       "278854   278855  tacoma, washington, united kingdom  50.0\n",
       "278855   278856           brampton, ontario, canada   NaN\n",
       "278856   278857           knoxville, tennessee, usa   NaN\n",
       "278857   278858                dublin, n/a, ireland   NaN\n",
       "\n",
       "[278858 rows x 3 columns]>"
      ]
     },
     "execution_count": 12,
     "metadata": {},
     "output_type": "execute_result"
    }
   ],
   "source": [
    "users.info"
   ]
  },
  {
   "cell_type": "code",
   "execution_count": 13,
   "id": "c36d4ea5-ec6d-4c52-ac44-c9e26d14f48b",
   "metadata": {},
   "outputs": [
    {
     "data": {
      "text/plain": [
       "User-ID       int64\n",
       "Location     object\n",
       "Age         float64\n",
       "dtype: object"
      ]
     },
     "execution_count": 13,
     "metadata": {},
     "output_type": "execute_result"
    }
   ],
   "source": [
    "users.dtypes"
   ]
  },
  {
   "cell_type": "code",
   "execution_count": 14,
   "id": "ed8d8ef0-ff27-494f-b2b8-d8080f9dc2db",
   "metadata": {},
   "outputs": [
    {
     "data": {
      "text/html": [
       "<div>\n",
       "<style scoped>\n",
       "    .dataframe tbody tr th:only-of-type {\n",
       "        vertical-align: middle;\n",
       "    }\n",
       "\n",
       "    .dataframe tbody tr th {\n",
       "        vertical-align: top;\n",
       "    }\n",
       "\n",
       "    .dataframe thead th {\n",
       "        text-align: right;\n",
       "    }\n",
       "</style>\n",
       "<table border=\"1\" class=\"dataframe\">\n",
       "  <thead>\n",
       "    <tr style=\"text-align: right;\">\n",
       "      <th></th>\n",
       "      <th>User-ID</th>\n",
       "      <th>Age</th>\n",
       "    </tr>\n",
       "  </thead>\n",
       "  <tbody>\n",
       "    <tr>\n",
       "      <th>count</th>\n",
       "      <td>278858.00000</td>\n",
       "      <td>168096.000000</td>\n",
       "    </tr>\n",
       "    <tr>\n",
       "      <th>mean</th>\n",
       "      <td>139429.50000</td>\n",
       "      <td>34.751434</td>\n",
       "    </tr>\n",
       "    <tr>\n",
       "      <th>std</th>\n",
       "      <td>80499.51502</td>\n",
       "      <td>14.428097</td>\n",
       "    </tr>\n",
       "    <tr>\n",
       "      <th>min</th>\n",
       "      <td>1.00000</td>\n",
       "      <td>0.000000</td>\n",
       "    </tr>\n",
       "    <tr>\n",
       "      <th>25%</th>\n",
       "      <td>69715.25000</td>\n",
       "      <td>24.000000</td>\n",
       "    </tr>\n",
       "    <tr>\n",
       "      <th>50%</th>\n",
       "      <td>139429.50000</td>\n",
       "      <td>32.000000</td>\n",
       "    </tr>\n",
       "    <tr>\n",
       "      <th>75%</th>\n",
       "      <td>209143.75000</td>\n",
       "      <td>44.000000</td>\n",
       "    </tr>\n",
       "    <tr>\n",
       "      <th>max</th>\n",
       "      <td>278858.00000</td>\n",
       "      <td>244.000000</td>\n",
       "    </tr>\n",
       "  </tbody>\n",
       "</table>\n",
       "</div>"
      ],
      "text/plain": [
       "            User-ID            Age\n",
       "count  278858.00000  168096.000000\n",
       "mean   139429.50000      34.751434\n",
       "std     80499.51502      14.428097\n",
       "min         1.00000       0.000000\n",
       "25%     69715.25000      24.000000\n",
       "50%    139429.50000      32.000000\n",
       "75%    209143.75000      44.000000\n",
       "max    278858.00000     244.000000"
      ]
     },
     "execution_count": 14,
     "metadata": {},
     "output_type": "execute_result"
    }
   ],
   "source": [
    "users.describe()"
   ]
  },
  {
   "cell_type": "code",
   "execution_count": 15,
   "id": "048d55f0-8901-49d3-a7ae-6cd8928e4426",
   "metadata": {},
   "outputs": [
    {
     "name": "stdout",
     "output_type": "stream",
     "text": [
      "Index(['User-ID', 'Location', 'Age'], dtype='object')\n"
     ]
    }
   ],
   "source": [
    "print(users.columns)"
   ]
  },
  {
   "cell_type": "code",
   "execution_count": 16,
   "id": "54f97b52-8c6f-4e65-988f-046d8cbed207",
   "metadata": {},
   "outputs": [
    {
     "data": {
      "text/html": [
       "<div>\n",
       "<style scoped>\n",
       "    .dataframe tbody tr th:only-of-type {\n",
       "        vertical-align: middle;\n",
       "    }\n",
       "\n",
       "    .dataframe tbody tr th {\n",
       "        vertical-align: top;\n",
       "    }\n",
       "\n",
       "    .dataframe thead th {\n",
       "        text-align: right;\n",
       "    }\n",
       "</style>\n",
       "<table border=\"1\" class=\"dataframe\">\n",
       "  <thead>\n",
       "    <tr style=\"text-align: right;\">\n",
       "      <th></th>\n",
       "      <th>User-ID</th>\n",
       "      <th>Location</th>\n",
       "      <th>Age</th>\n",
       "    </tr>\n",
       "  </thead>\n",
       "  <tbody>\n",
       "  </tbody>\n",
       "</table>\n",
       "</div>"
      ],
      "text/plain": [
       "Empty DataFrame\n",
       "Columns: [User-ID, Location, Age]\n",
       "Index: []"
      ]
     },
     "execution_count": 16,
     "metadata": {},
     "output_type": "execute_result"
    }
   ],
   "source": [
    "users[users.duplicated(keep=False)]"
   ]
  },
  {
   "cell_type": "code",
   "execution_count": 17,
   "id": "dbf02bf8-df9e-4643-b7d9-d55f43948cdc",
   "metadata": {},
   "outputs": [],
   "source": [
    "def missing_values(df):\n",
    "    mis_val=df.isnull().sum()\n",
    "    mis_val_percent=round(df.isnull().mean().mul(100),2)\n",
    "    mz_table=pd.concat([mis_val,mis_val_percent],axis=1)\n",
    "    mz_table=mz_table.rename(\n",
    "    columns={df.index.name:'col_name',0:'Missing Values',1:'% of Total Values'})\n",
    "    mz_table['Data_type']=df.dtypes\n",
    "    mz_table=mz_table.sort_values('% of Total Values',ascending=False)\n",
    "    return mz_table.reset_index()"
   ]
  },
  {
   "cell_type": "code",
   "execution_count": 18,
   "id": "9ef58a5e-64d0-4997-a284-e4345cd5e381",
   "metadata": {},
   "outputs": [
    {
     "data": {
      "text/html": [
       "<div>\n",
       "<style scoped>\n",
       "    .dataframe tbody tr th:only-of-type {\n",
       "        vertical-align: middle;\n",
       "    }\n",
       "\n",
       "    .dataframe tbody tr th {\n",
       "        vertical-align: top;\n",
       "    }\n",
       "\n",
       "    .dataframe thead th {\n",
       "        text-align: right;\n",
       "    }\n",
       "</style>\n",
       "<table border=\"1\" class=\"dataframe\">\n",
       "  <thead>\n",
       "    <tr style=\"text-align: right;\">\n",
       "      <th></th>\n",
       "      <th>index</th>\n",
       "      <th>Missing Values</th>\n",
       "      <th>% of Total Values</th>\n",
       "      <th>Data_type</th>\n",
       "    </tr>\n",
       "  </thead>\n",
       "  <tbody>\n",
       "    <tr>\n",
       "      <th>0</th>\n",
       "      <td>Age</td>\n",
       "      <td>110762</td>\n",
       "      <td>39.72</td>\n",
       "      <td>float64</td>\n",
       "    </tr>\n",
       "    <tr>\n",
       "      <th>1</th>\n",
       "      <td>User-ID</td>\n",
       "      <td>0</td>\n",
       "      <td>0.00</td>\n",
       "      <td>int64</td>\n",
       "    </tr>\n",
       "    <tr>\n",
       "      <th>2</th>\n",
       "      <td>Location</td>\n",
       "      <td>0</td>\n",
       "      <td>0.00</td>\n",
       "      <td>object</td>\n",
       "    </tr>\n",
       "  </tbody>\n",
       "</table>\n",
       "</div>"
      ],
      "text/plain": [
       "      index  Missing Values  % of Total Values Data_type\n",
       "0       Age          110762              39.72   float64\n",
       "1   User-ID               0               0.00     int64\n",
       "2  Location               0               0.00    object"
      ]
     },
     "execution_count": 18,
     "metadata": {},
     "output_type": "execute_result"
    }
   ],
   "source": [
    "missing_values(users)"
   ]
  },
  {
   "cell_type": "markdown",
   "id": "70701c45-7d07-4b47-880b-5b9fcfa41878",
   "metadata": {},
   "source": [
    "#Age have around 39% missing values."
   ]
  },
  {
   "cell_type": "code",
   "execution_count": 19,
   "id": "05b45d5d-409f-4ed7-b8c4-7afbf78d5b87",
   "metadata": {},
   "outputs": [
    {
     "data": {
      "image/png": "[encoded data removed]",
      "text/plain": [
       "<Figure size 640x480 with 1 Axes>"
      ]
     },
     "metadata": {},
     "output_type": "display_data"
    }
   ],
   "source": [
    "users.Age.hist(bins=[0, 10, 20, 30, 40, 50, 100])\n",
    "plt.title('Age Distribution\\n')\n",
    "plt.xlabel('Age')\n",
    "plt.ylabel('Count')\n",
    "plt.show()"
   ]
  },
  {
   "cell_type": "markdown",
   "id": "f6be3b29-bdd5-430e-a704-893f25cfd582",
   "metadata": {},
   "source": [
    "#LETS CHECK OUTLIERS FOR AGE"
   ]
  },
  {
   "cell_type": "code",
   "execution_count": 20,
   "id": "5be20c39-416b-4d74-bec8-f2f26f0d3cc0",
   "metadata": {},
   "outputs": [
    {
     "data": {
      "text/plain": [
       "Text(0.5, 1.0, 'Find outlier data in Age column')"
      ]
     },
     "execution_count": 20,
     "metadata": {},
     "output_type": "execute_result"
    },
    {
     "data": {
      "image/png": "[encoded data removed]",
      "text/plain": [
       "<Figure size 640x480 with 1 Axes>"
      ]
     },
     "metadata": {},
     "output_type": "display_data"
    }
   ],
   "source": [
    "sns.boxplot(y='Age', data=users)\n",
    "plt.title('Find outlier data in Age column')"
   ]
  },
  {
   "cell_type": "markdown",
   "id": "1dba8227-1e91-48ef-9c16-349d25e351a4",
   "metadata": {},
   "source": [
    "#The most active users are among those in their 20–30s."
   ]
  },
  {
   "cell_type": "code",
   "execution_count": 21,
   "id": "9199112e-201a-4b9f-a183-05110fbb9359",
   "metadata": {},
   "outputs": [
    {
     "name": "stdout",
     "output_type": "stream",
     "text": [
      "[nan, 0.0, 1.0, 2.0, 3.0, 4.0, 5.0, 6.0, 7.0, 8.0, 9.0, 10.0, 11.0, 12.0, 13.0, 14.0, 15.0, 16.0, 17.0, 18.0, 19.0, 20.0, 21.0, 22.0, 23.0, 24.0, 25.0, 26.0, 27.0, 28.0, 29.0, 30.0, 31.0, 32.0, 33.0, 34.0, 35.0, 36.0, 37.0, 38.0, 39.0, 40.0, 41.0, 42.0, 43.0, 44.0, 45.0, 46.0, 47.0, 48.0, 49.0, 50.0, 51.0, 52.0, 53.0, 54.0, 55.0, 56.0, 57.0, 58.0, 59.0, 60.0, 61.0, 62.0, 63.0, 64.0, 65.0, 66.0, 67.0, 68.0, 69.0, 70.0, 71.0, 72.0, 73.0, 74.0, 75.0, 76.0, 77.0, 78.0, 79.0, 80.0, 81.0, 82.0, 83.0, 84.0, 85.0, 86.0, 87.0, 88.0, 89.0, 90.0, 91.0, 92.0, 93.0, 94.0, 95.0, 96.0, 97.0, 98.0, 99.0, 100.0, 101.0, 102.0, 103.0, 104.0, 105.0, 106.0, 107.0, 108.0, 109.0, 110.0, 111.0, 113.0, 114.0, 115.0, 116.0, 118.0, 119.0, 123.0, 124.0, 127.0, 128.0, 132.0, 133.0, 136.0, 137.0, 138.0, 140.0, 141.0, 143.0, 146.0, 147.0, 148.0, 151.0, 152.0, 156.0, 157.0, 159.0, 162.0, 168.0, 172.0, 175.0, 183.0, 186.0, 189.0, 199.0, 200.0, 201.0, 204.0, 207.0, 208.0, 209.0, 210.0, 212.0, 219.0, 220.0, 223.0, 226.0, 228.0, 229.0, 230.0, 231.0, 237.0, 239.0, 244.0]\n"
     ]
    }
   ],
   "source": [
    "print(sorted(users.Age.unique()))"
   ]
  },
  {
   "cell_type": "code",
   "execution_count": 22,
   "id": "e3f2d9cf-b57b-4377-be17-ed073aa2fd6a",
   "metadata": {},
   "outputs": [
    {
     "data": {
      "text/plain": [
       "array(['nyc, new york, usa', 'stockton, california, usa',\n",
       "       'moscow, yukon territory, russia', ...,\n",
       "       'sergnano, lombardia, italy', 'stranraer, n/a, united kingdom',\n",
       "       'tacoma, washington, united kingdom'], dtype=object)"
      ]
     },
     "execution_count": 22,
     "metadata": {},
     "output_type": "execute_result"
    }
   ],
   "source": [
    "users.Location.unique()"
   ]
  },
  {
   "cell_type": "code",
   "execution_count": 23,
   "id": "bab05f6d-c094-464c-95cd-a01a5da048a1",
   "metadata": {},
   "outputs": [
    {
     "data": {
      "text/plain": [
       "57339"
      ]
     },
     "execution_count": 23,
     "metadata": {},
     "output_type": "execute_result"
    }
   ],
   "source": [
    "users.Location.nunique()"
   ]
  },
  {
   "cell_type": "markdown",
   "id": "ab217725-6103-4aa2-8f99-c717c5f60de0",
   "metadata": {},
   "source": [
    "57339 unique Value it's really hard to understand\n",
    "So lets create column Country"
   ]
  },
  {
   "cell_type": "code",
   "execution_count": 24,
   "id": "b19b449a-ff04-4c74-a97a-55cb8e20b902",
   "metadata": {},
   "outputs": [],
   "source": [
    "for i in users:\n",
    "    users['Country']=users.Location.str.extract(r'\\,+\\s?(\\w*\\s?\\w*)\\\"*$')   "
   ]
  },
  {
   "cell_type": "code",
   "execution_count": 25,
   "id": "3d7158ac-bc50-4d11-b3a3-6bc1211fb58b",
   "metadata": {},
   "outputs": [
    {
     "data": {
      "text/plain": [
       "529"
      ]
     },
     "execution_count": 25,
     "metadata": {},
     "output_type": "execute_result"
    }
   ],
   "source": [
    "users.Country.nunique()"
   ]
  },
  {
   "cell_type": "code",
   "execution_count": 26,
   "id": "30152a70-184e-47d0-936e-f427676f8814",
   "metadata": {},
   "outputs": [],
   "source": [
    "#drop location column\n",
    "users.drop('Location',axis=1,inplace=True)"
   ]
  },
  {
   "cell_type": "code",
   "execution_count": 27,
   "id": "94fadf4c-6d62-429a-857e-17de4797399d",
   "metadata": {},
   "outputs": [
    {
     "data": {
      "text/html": [
       "<div>\n",
       "<style scoped>\n",
       "    .dataframe tbody tr th:only-of-type {\n",
       "        vertical-align: middle;\n",
       "    }\n",
       "\n",
       "    .dataframe tbody tr th {\n",
       "        vertical-align: top;\n",
       "    }\n",
       "\n",
       "    .dataframe thead th {\n",
       "        text-align: right;\n",
       "    }\n",
       "</style>\n",
       "<table border=\"1\" class=\"dataframe\">\n",
       "  <thead>\n",
       "    <tr style=\"text-align: right;\">\n",
       "      <th></th>\n",
       "      <th>User-ID</th>\n",
       "      <th>Age</th>\n",
       "      <th>Country</th>\n",
       "    </tr>\n",
       "  </thead>\n",
       "  <tbody>\n",
       "    <tr>\n",
       "      <th>0</th>\n",
       "      <td>1</td>\n",
       "      <td>NaN</td>\n",
       "      <td>usa</td>\n",
       "    </tr>\n",
       "    <tr>\n",
       "      <th>1</th>\n",
       "      <td>2</td>\n",
       "      <td>18.0</td>\n",
       "      <td>usa</td>\n",
       "    </tr>\n",
       "  </tbody>\n",
       "</table>\n",
       "</div>"
      ],
      "text/plain": [
       "   User-ID   Age Country\n",
       "0        1   NaN     usa\n",
       "1        2  18.0     usa"
      ]
     },
     "execution_count": 27,
     "metadata": {},
     "output_type": "execute_result"
    }
   ],
   "source": [
    "users.head(2)"
   ]
  },
  {
   "cell_type": "code",
   "execution_count": 28,
   "id": "d345340d-e5fd-40a5-8778-b8089955d26c",
   "metadata": {},
   "outputs": [
    {
     "data": {
      "text/plain": [
       "User-ID         0\n",
       "Age        110762\n",
       "Country       368\n",
       "dtype: int64"
      ]
     },
     "execution_count": 28,
     "metadata": {},
     "output_type": "execute_result"
    }
   ],
   "source": [
    "users.isnull().sum()"
   ]
  },
  {
   "cell_type": "code",
   "execution_count": 29,
   "id": "011d9eff-d37c-4f61-85ab-81fc684ca881",
   "metadata": {},
   "outputs": [],
   "source": [
    "users['Country']=users['Country'].astype('str')"
   ]
  },
  {
   "cell_type": "code",
   "execution_count": 30,
   "id": "b10f8bdf-c92a-4ff7-aee4-adb23d7034a0",
   "metadata": {},
   "outputs": [
    {
     "name": "stdout",
     "output_type": "stream",
     "text": [
      "['', '01776', '02458', '19104', '23232', '30064', '85021', '87510', '_ brasil', 'a', 'aaa', 'adsgfdr', 'afghanistan', 'ahrensburg', 'alachua', 'albania', 'alderney', 'algeria', 'algérie', 'allen', 'ama lurra', 'america', 'american samoa', 'andorra', 'angola', 'antarctica', 'aotearoa', 'argentina', 'armenia', 'aroostook', 'aruba', 'asturies', 'auckland', 'austbritania', 'australia', 'australii', 'austria', 'autralia', 'az', 'azerbaijan', 'bademn würtemberg', 'bahamas', 'bahrain', 'baltimore', 'bangladesh', 'barbados', 'basilicata', 'basque country', 'bavaria', 'baxter', 'bbbzzzzz', 'belarus', 'belgi', 'belgique', 'belgium', 'belize', 'bell', 'benin', 'berguedà', 'bermuda', 'bernalillo', 'bfe', 'bhutan', 'bih', 'bkk', 'bladen', 'bolivia', 'bosnia', 'botswana', 'brasil', 'brazil', 'brunei', 'brunei darussalam', 'bucks', 'bulgaria', 'buncombe', 'burkina faso', 'burkinafasu', 'burlington', 'burma', 'butler', 'c', 'cadd0', 'calabria', 'california', 'cambodia', 'camden', 'cameroon', 'can', 'canada', 'canada eh', 'cananda', 'canda', 'cape may', 'cape town', 'cape verde', 'caribbean sea', 'carter', 'cass', 'catalonia', 'catalunya', 'catalunya spain', 'cayman islands', 'chad', 'channel islands', 'cherokee', 'chian', 'chile', 'china', 'china öð¹ú', 'chinaöð¹ú', 'clackamas', 'clinton', 'cn', 'cnina', 'collin', 'colombia', 'comoros', 'congo', 'cook', 'copenhagen', 'costa rica', 'country', 'courtenay', 'croatia', 'csa', 'cuba', 'cyprus', 'czech republic', 'côte d', 'dauphin', 'davidson', 'de', 'dekalb', 'denmark', 'der', 'deutsches reich', 'deutschland', 'dfg', 'distrito federal', 'diy', 'djibouti', 'dominica', 'dominican republic', 'doodedoo', 'dublin', 'east africa', 'ecuador', 'effingham', 'egypt', 'el salvador', 'england', 'england uk', 'english', 'equatorial geuinea', 'eritrea', 'españa', 'essex', 'estonia', 'ethiopia', 'europa', 'europe', 'euskadi', 'euskal herria', 'evil empire', 'fairyland', 'faroe islands', 'ferrara', 'fifi', 'fiji', 'finland', 'fontana', 'fort bend', 'fortaleza', 'framingham', 'france', 'fred', 'frome', 'fulton', 'gabon', 'galiza', 'galiza neghra', 'gb', 'geermany', 'georgia', 'germany', 'germay', 'ghana', 'goteborg', 'granville', 'greece', 'grenada', 'guam', 'guatemala', 'guernsey', 'guinea', 'guyana', 'haiti', 'hamilton', 'hampden', 'harvatija', 'heaven', 'hennipen', 'henry', 'hernando', 'hidalgo', 'hillsborough', 'holland', 'holy see', 'honduras', 'hong kong', 'hongkong', 'hornyonic', 'houston', 'hungary', 'iceland', 'id', 'il canada', 'in', 'india', 'indiai', 'indonesia', 'input error', 'iran', 'iraq', 'ireland', 'israel', 'isreal', 'italia', 'italien', 'italy', 'itlay', 'jackson', 'jamaica', 'japan', 'jersey', 'johnson', 'jordan', 'k1c7b1', 'kazakhstan', 'kenya', 'kern', 'kiribati', 'korea', 'kosovo', 'ksa', 'kuwait', 'kyrgyzstan', 'kz', 'l', 'la argentina', 'la belgique', 'la france', 'la suisse', 'la svizzera', 'lake', 'lane', 'laos', 'latvia', 'lazio', 'le canada', 'le madagascar', 'lebanon', 'lecce', 'lee', 'lesotho', 'liaoning', 'liberia', 'libya', 'lithuania', 'liushi', 'livingston', 'lj', 'lkjlj', 'lleida', 'lombardia', 'london', 'lornsenland', 'luxembourg', 'macau', 'macedonia', 'madagascar', 'madrid', 'maine', 'malawi', 'malaysia', 'malaysian', 'maldives', 'mali', 'malta', 'maracopa', 'maricopa', 'maroc', 'marrion', 'marshall islands', 'mauritania', 'mauritius', 'mexico', 'micronesia', 'milano', 'minnehaha', 'missouri', 'moldova', 'monaco', 'mongolia', 'monroe', 'monterrey', 'mordor', 'morgan', 'morocco', 'mozambique', 'moçambique', 'my', 'myanmar', 'mérida', 'méxico', 'namibia', 'nan', 'nederlands', 'nepal', 'netherlands', 'netherlands antilles', 'neverland', 'new london', 'new zealand', 'newzealand', 'nh', 'nicaragua', 'niger', 'nigeria', 'nl', 'no more', 'none', 'north carolina', 'north korea', 'northern ireland', 'norway', 'nowhere', 'nrw', 'nyc', 'nyhamnsläge', 'nz', 'oakland', 'ohio', 'oman', 'onondaga nation', 'orange co', 'orense', 'osceola', 'ouranos', 'pa', 'pakistan', 'palau', 'palestine', 'palm beach', 'panama', 'paraguay', 'pasco', 'pender', 'peru', 'perãº', 'petrolwar nation', 'phila', 'philippine', 'philippines', 'philippinies', 'phillipines', 'phils', 'phippines', 'pinallas', 'pippo', 'pistlavakia', 'poland', 'polk', 'polska', 'portugal', 'pr', 'prc', 'prince william', 'pueblo', 'puerto rico', 'qatar', 'queensland', 'queenspark', 'quit', 'rapides', 'rice', 'richmond country', 'rmi', 'roma', 'romania', 'rosario', 'rosello', 'rsa', 'russia', 'russian federation', 'rutherford', 'rwanda', 'saint loius', 'saint lucia', 'saint luica', 'samoa', 'san bernardino', 'san franicsco', 'san marino', 'san mateo', 'santa barbara', 'sardegna', 'sardinia', 'saudi arabia', 'saudia arabia', 'scotland', 'senegal', 'serbia', 'shelby', 'sicilia', 'sierra leone', 'singapore', 'slo', 'slovak republik', 'slovakia', 'slovenia', 'smith', 'solano', 'solomon islands', 'somalia', 'somewherein space', 'south africa', 'south korea', 'space', 'spain', 'spotsylvania', 'sri lanka', 'srilanka', 'strongbadia', 'sudan', 'suisse', 'suriname', 'swaziland', 'swazilandia', 'sweden', 'switzerland', 'syria', 'taiwan', 'tajikistan', 'tanzania', 'tdzimi', 'texas', 'thailand', 'thailoand', 'the', 'the gambia', 'the netherlands', 'the philippines', 'thing', 'tobago', 'togo', 'tonga', 'toscana', 'travelling', 'trinidad', 'tunisia', 'turkei', 'turkey', 'turkmenistan', 'tyrtyrt', 'türkiye', 'u', 'u k', 'ua', 'uae', 'uganda', 'uk', 'ukrain', 'ukraine', 'unit', 'unite states', 'united kindgdom', 'united kindgonm', 'united kingdom', 'united sates', 'united staes', 'united state', 'united statea', 'united stated', 'united states', 'universe', 'unknown', 'urugua', 'uruguay', 'us', 'usa', 'ussurfing', 'ust', 'uusa', 'uyo', 'uzbekistan', 'valtesse', 'van wert', 'vanuatu', 'vatican city', 'venezuela', 'ventura', 'ventura county', 'vicenza', 'victoria', 'vietnam', 'vorce', 'wales', 'washtenaw', 'west yorkshire', 'whatcom', 'windham', 'wonderful usa', 'wood', 'worcester', 'x', 'xinyu', 'xxxxxx', 'yakima', 'yanhill', 'yemen', 'ysa', 'yugoslavia', 'yunling', 'z', 'zambia', 'zhengjiang', 'zimbabwe', 'öð¹ú']\n"
     ]
    }
   ],
   "source": [
    "a=list(users.Country.unique())\n",
    "a=set(a)\n",
    "a=list(a)\n",
    "a = [x for x in a if x is not None]\n",
    "a.sort()\n",
    "print(a)"
   ]
  },
  {
   "cell_type": "code",
   "execution_count": 31,
   "id": "4a2c2576-66bb-4110-b073-2c14f0afccaa",
   "metadata": {},
   "outputs": [],
   "source": [
    "users['Country'].replace(['','01776','02458','19104','23232','30064','85021','87510','alachua','america','austria','autralia','cananda','geermany','italia','united kindgonm','united sates','united staes','united state','united states','us'],\n",
    "                           ['other','usa','usa','usa','usa','usa','usa','usa','usa','usa','australia','australia','canada','germany','italy','united kingdom','usa','usa','usa','usa','usa'],inplace=True)"
   ]
  },
  {
   "cell_type": "code",
   "execution_count": 32,
   "id": "e059f9ed-5b1d-443b-95a8-9232e822c691",
   "metadata": {},
   "outputs": [
    {
     "data": {
      "text/plain": [
       "Text(0.5, 1.0, 'Count of users Country wise')"
      ]
     },
     "execution_count": 32,
     "metadata": {},
     "output_type": "execute_result"
    },
    {
     "data": {
      "image/png": "[encoded data removed]",
      "text/plain": [
       "<Figure size 1500x700 with 1 Axes>"
      ]
     },
     "metadata": {},
     "output_type": "display_data"
    }
   ],
   "source": [
    "plt.figure(figsize=(15,7))\n",
    "sns.countplot(y='Country',data=users,order=pd.value_counts(users['Country']).iloc[:10].index)\n",
    "plt.title('Count of users Country wise')"
   ]
  },
  {
   "cell_type": "markdown",
   "id": "cabaafdb-3101-4862-8838-03a041209365",
   "metadata": {},
   "source": [
    "#Most number of users are from USA"
   ]
  },
  {
   "cell_type": "markdown",
   "id": "4c359f13-a3b7-4bef-8bbf-289a00f0d465",
   "metadata": {},
   "source": [
    "#LETS DRAW THE OUTLIERS"
   ]
  },
  {
   "cell_type": "code",
   "execution_count": 33,
   "id": "9608f147-9ed0-474e-bf96-e5e7a97be0eb",
   "metadata": {},
   "outputs": [
    {
     "data": {
      "text/plain": [
       "Text(0.5, 1.0, 'Age Distribution Plot')"
      ]
     },
     "execution_count": 33,
     "metadata": {},
     "output_type": "execute_result"
    },
    {
     "data": {
      "image/png": "[encoded data removed]",
      "text/plain": [
       "<Figure size 640x480 with 1 Axes>"
      ]
     },
     "metadata": {},
     "output_type": "display_data"
    }
   ],
   "source": [
    "sns.distplot(users.Age)\n",
    "plt.title('Age Distribution Plot')"
   ]
  },
  {
   "cell_type": "code",
   "execution_count": 34,
   "id": "b4ed60c8-3206-4a91-887c-abd154e002a8",
   "metadata": {},
   "outputs": [],
   "source": [
    "# outlier data became NaN\n",
    "users.loc[(users.Age > 100) | (users.Age < 5), 'Age'] = np.nan"
   ]
  },
  {
   "cell_type": "code",
   "execution_count": 35,
   "id": "a4b307c2-f046-4985-a85f-b1715802efbf",
   "metadata": {},
   "outputs": [
    {
     "data": {
      "text/plain": [
       "User-ID         0\n",
       "Age        112010\n",
       "Country         0\n",
       "dtype: int64"
      ]
     },
     "execution_count": 35,
     "metadata": {},
     "output_type": "execute_result"
    }
   ],
   "source": [
    "users.isna().sum()"
   ]
  },
  {
   "cell_type": "code",
   "execution_count": 36,
   "id": "7eece08d-7362-46b0-84ad-0629055410eb",
   "metadata": {},
   "outputs": [],
   "source": [
    "users['Age'] = users['Age'].fillna(users.groupby('Country')['Age'].transform('median'))"
   ]
  },
  {
   "cell_type": "code",
   "execution_count": 37,
   "id": "8c123695-caf5-4606-ac31-d5ba18408d46",
   "metadata": {},
   "outputs": [
    {
     "data": {
      "text/plain": [
       "User-ID      0\n",
       "Age        276\n",
       "Country      0\n",
       "dtype: int64"
      ]
     },
     "execution_count": 37,
     "metadata": {},
     "output_type": "execute_result"
    }
   ],
   "source": [
    "users.isna().sum()"
   ]
  },
  {
   "cell_type": "code",
   "execution_count": 38,
   "id": "a27fd10f-9c93-442c-88a1-1c7983acd097",
   "metadata": {},
   "outputs": [],
   "source": [
    "users['Age'].fillna(users.Age.mean(),inplace=True)"
   ]
  },
  {
   "cell_type": "code",
   "execution_count": 39,
   "id": "9a585798-e83b-44d6-ab92-909e54603e73",
   "metadata": {},
   "outputs": [
    {
     "data": {
      "text/plain": [
       "User-ID    0\n",
       "Age        0\n",
       "Country    0\n",
       "dtype: int64"
      ]
     },
     "execution_count": 39,
     "metadata": {},
     "output_type": "execute_result"
    }
   ],
   "source": [
    "users.isna().sum()"
   ]
  },
  {
   "cell_type": "markdown",
   "id": "e4e5d72d-ba97-41aa-b789-1679561664f1",
   "metadata": {},
   "source": [
    "##2.)Books_Dataset"
   ]
  },
  {
   "cell_type": "code",
   "execution_count": 40,
   "id": "607d5646-537f-462b-8c76-7862770670af",
   "metadata": {},
   "outputs": [
    {
     "data": {
      "text/html": [
       "<div>\n",
       "<style scoped>\n",
       "    .dataframe tbody tr th:only-of-type {\n",
       "        vertical-align: middle;\n",
       "    }\n",
       "\n",
       "    .dataframe tbody tr th {\n",
       "        vertical-align: top;\n",
       "    }\n",
       "\n",
       "    .dataframe thead th {\n",
       "        text-align: right;\n",
       "    }\n",
       "</style>\n",
       "<table border=\"1\" class=\"dataframe\">\n",
       "  <thead>\n",
       "    <tr style=\"text-align: right;\">\n",
       "      <th></th>\n",
       "      <th>ISBN</th>\n",
       "      <th>Book-Title</th>\n",
       "      <th>Book-Author</th>\n",
       "      <th>Year-Of-Publication</th>\n",
       "      <th>Publisher</th>\n",
       "      <th>Image-URL-S</th>\n",
       "      <th>Image-URL-M</th>\n",
       "      <th>Image-URL-L</th>\n",
       "    </tr>\n",
       "  </thead>\n",
       "  <tbody>\n",
       "    <tr>\n",
       "      <th>0</th>\n",
       "      <td>0195153448</td>\n",
       "      <td>Classical Mythology</td>\n",
       "      <td>Mark P. O. Morford</td>\n",
       "      <td>2002</td>\n",
       "      <td>Oxford University Press</td>\n",
       "      <td>http://images.amazon.com/images/P/0195153448.0...</td>\n",
       "      <td>http://images.amazon.com/images/P/0195153448.0...</td>\n",
       "      <td>http://images.amazon.com/images/P/0195153448.0...</td>\n",
       "    </tr>\n",
       "    <tr>\n",
       "      <th>1</th>\n",
       "      <td>0002005018</td>\n",
       "      <td>Clara Callan</td>\n",
       "      <td>Richard Bruce Wright</td>\n",
       "      <td>2001</td>\n",
       "      <td>HarperFlamingo Canada</td>\n",
       "      <td>http://images.amazon.com/images/P/0002005018.0...</td>\n",
       "      <td>http://images.amazon.com/images/P/0002005018.0...</td>\n",
       "      <td>http://images.amazon.com/images/P/0002005018.0...</td>\n",
       "    </tr>\n",
       "    <tr>\n",
       "      <th>2</th>\n",
       "      <td>0060973129</td>\n",
       "      <td>Decision in Normandy</td>\n",
       "      <td>Carlo D'Este</td>\n",
       "      <td>1991</td>\n",
       "      <td>HarperPerennial</td>\n",
       "      <td>http://images.amazon.com/images/P/0060973129.0...</td>\n",
       "      <td>http://images.amazon.com/images/P/0060973129.0...</td>\n",
       "      <td>http://images.amazon.com/images/P/0060973129.0...</td>\n",
       "    </tr>\n",
       "    <tr>\n",
       "      <th>3</th>\n",
       "      <td>0374157065</td>\n",
       "      <td>Flu: The Story of the Great Influenza Pandemic...</td>\n",
       "      <td>Gina Bari Kolata</td>\n",
       "      <td>1999</td>\n",
       "      <td>Farrar Straus Giroux</td>\n",
       "      <td>http://images.amazon.com/images/P/0374157065.0...</td>\n",
       "      <td>http://images.amazon.com/images/P/0374157065.0...</td>\n",
       "      <td>http://images.amazon.com/images/P/0374157065.0...</td>\n",
       "    </tr>\n",
       "    <tr>\n",
       "      <th>4</th>\n",
       "      <td>0393045218</td>\n",
       "      <td>The Mummies of Urumchi</td>\n",
       "      <td>E. J. W. Barber</td>\n",
       "      <td>1999</td>\n",
       "      <td>W. W. Norton &amp;amp; Company</td>\n",
       "      <td>http://images.amazon.com/images/P/0393045218.0...</td>\n",
       "      <td>http://images.amazon.com/images/P/0393045218.0...</td>\n",
       "      <td>http://images.amazon.com/images/P/0393045218.0...</td>\n",
       "    </tr>\n",
       "  </tbody>\n",
       "</table>\n",
       "</div>"
      ],
      "text/plain": [
       "         ISBN                                         Book-Title  \\\n",
       "0  0195153448                                Classical Mythology   \n",
       "1  0002005018                                       Clara Callan   \n",
       "2  0060973129                               Decision in Normandy   \n",
       "3  0374157065  Flu: The Story of the Great Influenza Pandemic...   \n",
       "4  0393045218                             The Mummies of Urumchi   \n",
       "\n",
       "            Book-Author Year-Of-Publication                   Publisher  \\\n",
       "0    Mark P. O. Morford                2002     Oxford University Press   \n",
       "1  Richard Bruce Wright                2001       HarperFlamingo Canada   \n",
       "2          Carlo D'Este                1991             HarperPerennial   \n",
       "3      Gina Bari Kolata                1999        Farrar Straus Giroux   \n",
       "4       E. J. W. Barber                1999  W. W. Norton &amp; Company   \n",
       "\n",
       "                                         Image-URL-S  \\\n",
       "0  http://images.amazon.com/images/P/0195153448.0...   \n",
       "1  http://images.amazon.com/images/P/0002005018.0...   \n",
       "2  http://images.amazon.com/images/P/0060973129.0...   \n",
       "3  http://images.amazon.com/images/P/0374157065.0...   \n",
       "4  http://images.amazon.com/images/P/0393045218.0...   \n",
       "\n",
       "                                         Image-URL-M  \\\n",
       "0  http://images.amazon.com/images/P/0195153448.0...   \n",
       "1  http://images.amazon.com/images/P/0002005018.0...   \n",
       "2  http://images.amazon.com/images/P/0060973129.0...   \n",
       "3  http://images.amazon.com/images/P/0374157065.0...   \n",
       "4  http://images.amazon.com/images/P/0393045218.0...   \n",
       "\n",
       "                                         Image-URL-L  \n",
       "0  http://images.amazon.com/images/P/0195153448.0...  \n",
       "1  http://images.amazon.com/images/P/0002005018.0...  \n",
       "2  http://images.amazon.com/images/P/0060973129.0...  \n",
       "3  http://images.amazon.com/images/P/0374157065.0...  \n",
       "4  http://images.amazon.com/images/P/0393045218.0...  "
      ]
     },
     "execution_count": 40,
     "metadata": {},
     "output_type": "execute_result"
    }
   ],
   "source": [
    "books.head()"
   ]
  },
  {
   "cell_type": "code",
   "execution_count": 41,
   "id": "b4676c17-b17e-4e5b-91b2-7bcc03489e52",
   "metadata": {},
   "outputs": [
    {
     "data": {
      "text/html": [
       "<div>\n",
       "<style scoped>\n",
       "    .dataframe tbody tr th:only-of-type {\n",
       "        vertical-align: middle;\n",
       "    }\n",
       "\n",
       "    .dataframe tbody tr th {\n",
       "        vertical-align: top;\n",
       "    }\n",
       "\n",
       "    .dataframe thead th {\n",
       "        text-align: right;\n",
       "    }\n",
       "</style>\n",
       "<table border=\"1\" class=\"dataframe\">\n",
       "  <thead>\n",
       "    <tr style=\"text-align: right;\">\n",
       "      <th></th>\n",
       "      <th>ISBN</th>\n",
       "      <th>Book-Title</th>\n",
       "      <th>Book-Author</th>\n",
       "      <th>Year-Of-Publication</th>\n",
       "      <th>Publisher</th>\n",
       "      <th>Image-URL-S</th>\n",
       "      <th>Image-URL-M</th>\n",
       "      <th>Image-URL-L</th>\n",
       "    </tr>\n",
       "  </thead>\n",
       "  <tbody>\n",
       "    <tr>\n",
       "      <th>0</th>\n",
       "      <td>0195153448</td>\n",
       "      <td>Classical Mythology</td>\n",
       "      <td>Mark P. O. Morford</td>\n",
       "      <td>2002</td>\n",
       "      <td>Oxford University Press</td>\n",
       "      <td>http://images.amazon.com/images/P/0195153448.0...</td>\n",
       "      <td>http://images.amazon.com/images/P/0195153448.0...</td>\n",
       "      <td>http://images.amazon.com/images/P/0195153448.0...</td>\n",
       "    </tr>\n",
       "    <tr>\n",
       "      <th>1</th>\n",
       "      <td>0002005018</td>\n",
       "      <td>Clara Callan</td>\n",
       "      <td>Richard Bruce Wright</td>\n",
       "      <td>2001</td>\n",
       "      <td>HarperFlamingo Canada</td>\n",
       "      <td>http://images.amazon.com/images/P/0002005018.0...</td>\n",
       "      <td>http://images.amazon.com/images/P/0002005018.0...</td>\n",
       "      <td>http://images.amazon.com/images/P/0002005018.0...</td>\n",
       "    </tr>\n",
       "  </tbody>\n",
       "</table>\n",
       "</div>"
      ],
      "text/plain": [
       "         ISBN           Book-Title           Book-Author Year-Of-Publication  \\\n",
       "0  0195153448  Classical Mythology    Mark P. O. Morford                2002   \n",
       "1  0002005018         Clara Callan  Richard Bruce Wright                2001   \n",
       "\n",
       "                 Publisher                                        Image-URL-S  \\\n",
       "0  Oxford University Press  http://images.amazon.com/images/P/0195153448.0...   \n",
       "1    HarperFlamingo Canada  http://images.amazon.com/images/P/0002005018.0...   \n",
       "\n",
       "                                         Image-URL-M  \\\n",
       "0  http://images.amazon.com/images/P/0195153448.0...   \n",
       "1  http://images.amazon.com/images/P/0002005018.0...   \n",
       "\n",
       "                                         Image-URL-L  \n",
       "0  http://images.amazon.com/images/P/0195153448.0...  \n",
       "1  http://images.amazon.com/images/P/0002005018.0...  "
      ]
     },
     "execution_count": 41,
     "metadata": {},
     "output_type": "execute_result"
    }
   ],
   "source": [
    "books.head(2)"
   ]
  },
  {
   "cell_type": "code",
   "execution_count": 42,
   "id": "decd66eb-0f2c-4103-aee7-1fc3348eba9c",
   "metadata": {},
   "outputs": [
    {
     "data": {
      "text/plain": [
       "<bound method DataFrame.info of               ISBN                                         Book-Title  \\\n",
       "0       0195153448                                Classical Mythology   \n",
       "1       0002005018                                       Clara Callan   \n",
       "2       0060973129                               Decision in Normandy   \n",
       "3       0374157065  Flu: The Story of the Great Influenza Pandemic...   \n",
       "4       0393045218                             The Mummies of Urumchi   \n",
       "...            ...                                                ...   \n",
       "271355  0440400988                         There's a Bat in Bunk Five   \n",
       "271356  0525447644                            From One to One Hundred   \n",
       "271357  006008667X  Lily Dale : The True Story of the Town that Ta...   \n",
       "271358  0192126040                        Republic (World's Classics)   \n",
       "271359  0767409752  A Guided Tour of Rene Descartes' Meditations o...   \n",
       "\n",
       "                 Book-Author Year-Of-Publication  \\\n",
       "0         Mark P. O. Morford                2002   \n",
       "1       Richard Bruce Wright                2001   \n",
       "2               Carlo D'Este                1991   \n",
       "3           Gina Bari Kolata                1999   \n",
       "4            E. J. W. Barber                1999   \n",
       "...                      ...                 ...   \n",
       "271355        Paula Danziger                1988   \n",
       "271356            Teri Sloat                1991   \n",
       "271357      Christine Wicker                2004   \n",
       "271358                 Plato                1996   \n",
       "271359   Christopher  Biffle                2000   \n",
       "\n",
       "                                               Publisher  \\\n",
       "0                                Oxford University Press   \n",
       "1                                  HarperFlamingo Canada   \n",
       "2                                        HarperPerennial   \n",
       "3                                   Farrar Straus Giroux   \n",
       "4                             W. W. Norton &amp; Company   \n",
       "...                                                  ...   \n",
       "271355                   Random House Childrens Pub (Mm)   \n",
       "271356                                      Dutton Books   \n",
       "271357                                HarperSanFrancisco   \n",
       "271358                           Oxford University Press   \n",
       "271359  McGraw-Hill Humanities/Social Sciences/Languages   \n",
       "\n",
       "                                              Image-URL-S  \\\n",
       "0       http://images.amazon.com/images/P/0195153448.0...   \n",
       "1       http://images.amazon.com/images/P/0002005018.0...   \n",
       "2       http://images.amazon.com/images/P/0060973129.0...   \n",
       "3       http://images.amazon.com/images/P/0374157065.0...   \n",
       "4       http://images.amazon.com/images/P/0393045218.0...   \n",
       "...                                                   ...   \n",
       "271355  http://images.amazon.com/images/P/0440400988.0...   \n",
       "271356  http://images.amazon.com/images/P/0525447644.0...   \n",
       "271357  http://images.amazon.com/images/P/006008667X.0...   \n",
       "271358  http://images.amazon.com/images/P/0192126040.0...   \n",
       "271359  http://images.amazon.com/images/P/0767409752.0...   \n",
       "\n",
       "                                              Image-URL-M  \\\n",
       "0       http://images.amazon.com/images/P/0195153448.0...   \n",
       "1       http://images.amazon.com/images/P/0002005018.0...   \n",
       "2       http://images.amazon.com/images/P/0060973129.0...   \n",
       "3       http://images.amazon.com/images/P/0374157065.0...   \n",
       "4       http://images.amazon.com/images/P/0393045218.0...   \n",
       "...                                                   ...   \n",
       "271355  http://images.amazon.com/images/P/0440400988.0...   \n",
       "271356  http://images.amazon.com/images/P/0525447644.0...   \n",
       "271357  http://images.amazon.com/images/P/006008667X.0...   \n",
       "271358  http://images.amazon.com/images/P/0192126040.0...   \n",
       "271359  http://images.amazon.com/images/P/0767409752.0...   \n",
       "\n",
       "                                              Image-URL-L  \n",
       "0       http://images.amazon.com/images/P/0195153448.0...  \n",
       "1       http://images.amazon.com/images/P/0002005018.0...  \n",
       "2       http://images.amazon.com/images/P/0060973129.0...  \n",
       "3       http://images.amazon.com/images/P/0374157065.0...  \n",
       "4       http://images.amazon.com/images/P/0393045218.0...  \n",
       "...                                                   ...  \n",
       "271355  http://images.amazon.com/images/P/0440400988.0...  \n",
       "271356  http://images.amazon.com/images/P/0525447644.0...  \n",
       "271357  http://images.amazon.com/images/P/006008667X.0...  \n",
       "271358  http://images.amazon.com/images/P/0192126040.0...  \n",
       "271359  http://images.amazon.com/images/P/0767409752.0...  \n",
       "\n",
       "[271360 rows x 8 columns]>"
      ]
     },
     "execution_count": 42,
     "metadata": {},
     "output_type": "execute_result"
    }
   ],
   "source": [
    "books.info"
   ]
  },
  {
   "cell_type": "code",
   "execution_count": 43,
   "id": "e2b8a7e7-14e0-4ad0-8d73-455730057919",
   "metadata": {},
   "outputs": [
    {
     "data": {
      "text/plain": [
       "Text(0.5, 1.0, 'Top 10 Authors')"
      ]
     },
     "execution_count": 43,
     "metadata": {},
     "output_type": "execute_result"
    },
    {
     "data": {
      "image/png": "[encoded data removed]",
      "text/plain": [
       "<Figure size 1500x700 with 1 Axes>"
      ]
     },
     "metadata": {},
     "output_type": "display_data"
    }
   ],
   "source": [
    "plt.figure(figsize=(15,7))\n",
    "sns.countplot(y='Book-Author',data=books,order=pd.value_counts(books['Book-Author']).iloc[:10].index)\n",
    "plt.title('Top 10 Authors')"
   ]
  },
  {
   "cell_type": "markdown",
   "id": "323d2289-96f8-41d8-a261-51d69f23df62",
   "metadata": {},
   "source": [
    "#Top 10 Publisher which have published the most books."
   ]
  },
  {
   "cell_type": "code",
   "execution_count": 44,
   "id": "6dfdde78-e579-4c97-baab-f1d93690e7ea",
   "metadata": {},
   "outputs": [
    {
     "data": {
      "text/plain": [
       "Text(0.5, 1.0, 'Top 10 Publishers')"
      ]
     },
     "execution_count": 44,
     "metadata": {},
     "output_type": "execute_result"
    },
    {
     "data": {
      "image/png": "[encoded data removed]",
      "text/plain": [
       "<Figure size 1500x700 with 1 Axes>"
      ]
     },
     "metadata": {},
     "output_type": "display_data"
    }
   ],
   "source": [
    "plt.figure(figsize=(15,7))\n",
    "sns.countplot(y='Publisher',data=books,order=pd.value_counts(books['Publisher']).iloc[:10].index)\n",
    "plt.title('Top 10 Publishers')"
   ]
  },
  {
   "cell_type": "code",
   "execution_count": 45,
   "id": "51c030d6-10a7-4e37-a874-f1c97108028e",
   "metadata": {},
   "outputs": [
    {
     "name": "stdout",
     "output_type": "stream",
     "text": [
      "['0', '1376', '1378', '1806', '1897', '1900', '1901', '1902', '1904', '1906', '1908', '1909', '1910', '1911', '1914', '1917', '1919', '1920', '1921', '1922', '1923', '1924', '1925', '1926', '1927', '1928', '1929', '1930', '1931', '1932', '1933', '1934', '1935', '1936', '1937', '1938', '1939', '1940', '1941', '1942', '1943', '1944', '1945', '1946', '1947', '1948', '1949', '1950', '1951', '1952', '1953', '1954', '1955', '1956', '1957', '1958', '1959', '1960', '1961', '1962', '1963', '1964', '1965', '1966', '1967', '1968', '1969', '1970', '1971', '1972', '1973', '1974', '1975', '1976', '1977', '1978', '1979', '1980', '1981', '1982', '1983', '1984', '1985', '1986', '1987', '1988', '1989', '1990', '1991', '1992', '1993', '1994', '1995', '1996', '1997', '1998', '1999', '2000', '2001', '2002', '2003', '2004', '2005', '2006', '2008', '2010', '2011', '2012', '2020', '2021', '2024', '2026', '2030', '2037', '2038', '2050', 'DK Publishing Inc', 'Gallimard']\n"
     ]
    }
   ],
   "source": [
    "books['Year-Of-Publication']=books['Year-Of-Publication'].astype('str')\n",
    "a=list(books['Year-Of-Publication'].unique())\n",
    "a=set(a)\n",
    "a=list(a)\n",
    "a = [x for x in a if x is not None]\n",
    "a.sort()\n",
    "print(a)"
   ]
  },
  {
   "cell_type": "code",
   "execution_count": 46,
   "id": "a0fe6895-9c18-49b6-8f9b-b879e25e2269",
   "metadata": {},
   "outputs": [
    {
     "data": {
      "text/html": [
       "<div>\n",
       "<style scoped>\n",
       "    .dataframe tbody tr th:only-of-type {\n",
       "        vertical-align: middle;\n",
       "    }\n",
       "\n",
       "    .dataframe tbody tr th {\n",
       "        vertical-align: top;\n",
       "    }\n",
       "\n",
       "    .dataframe thead th {\n",
       "        text-align: right;\n",
       "    }\n",
       "</style>\n",
       "<table border=\"1\" class=\"dataframe\">\n",
       "  <thead>\n",
       "    <tr style=\"text-align: right;\">\n",
       "      <th></th>\n",
       "      <th>ISBN</th>\n",
       "      <th>Book-Title</th>\n",
       "      <th>Book-Author</th>\n",
       "      <th>Year-Of-Publication</th>\n",
       "      <th>Publisher</th>\n",
       "      <th>Image-URL-S</th>\n",
       "      <th>Image-URL-M</th>\n",
       "      <th>Image-URL-L</th>\n",
       "    </tr>\n",
       "  </thead>\n",
       "  <tbody>\n",
       "    <tr>\n",
       "      <th>209538</th>\n",
       "      <td>078946697X</td>\n",
       "      <td>DK Readers: Creating the X-Men, How It All Beg...</td>\n",
       "      <td>2000</td>\n",
       "      <td>DK Publishing Inc</td>\n",
       "      <td>http://images.amazon.com/images/P/078946697X.0...</td>\n",
       "      <td>http://images.amazon.com/images/P/078946697X.0...</td>\n",
       "      <td>http://images.amazon.com/images/P/078946697X.0...</td>\n",
       "      <td>NaN</td>\n",
       "    </tr>\n",
       "    <tr>\n",
       "      <th>221678</th>\n",
       "      <td>0789466953</td>\n",
       "      <td>DK Readers: Creating the X-Men, How Comic Book...</td>\n",
       "      <td>2000</td>\n",
       "      <td>DK Publishing Inc</td>\n",
       "      <td>http://images.amazon.com/images/P/0789466953.0...</td>\n",
       "      <td>http://images.amazon.com/images/P/0789466953.0...</td>\n",
       "      <td>http://images.amazon.com/images/P/0789466953.0...</td>\n",
       "      <td>NaN</td>\n",
       "    </tr>\n",
       "  </tbody>\n",
       "</table>\n",
       "</div>"
      ],
      "text/plain": [
       "              ISBN                                         Book-Title  \\\n",
       "209538  078946697X  DK Readers: Creating the X-Men, How It All Beg...   \n",
       "221678  0789466953  DK Readers: Creating the X-Men, How Comic Book...   \n",
       "\n",
       "       Book-Author Year-Of-Publication  \\\n",
       "209538        2000   DK Publishing Inc   \n",
       "221678        2000   DK Publishing Inc   \n",
       "\n",
       "                                                Publisher  \\\n",
       "209538  http://images.amazon.com/images/P/078946697X.0...   \n",
       "221678  http://images.amazon.com/images/P/0789466953.0...   \n",
       "\n",
       "                                              Image-URL-S  \\\n",
       "209538  http://images.amazon.com/images/P/078946697X.0...   \n",
       "221678  http://images.amazon.com/images/P/0789466953.0...   \n",
       "\n",
       "                                              Image-URL-M Image-URL-L  \n",
       "209538  http://images.amazon.com/images/P/078946697X.0...         NaN  \n",
       "221678  http://images.amazon.com/images/P/0789466953.0...         NaN  "
      ]
     },
     "execution_count": 46,
     "metadata": {},
     "output_type": "execute_result"
    }
   ],
   "source": [
    "#investigating the rows having 'DK Publishing Inc' as yearOfPublication\n",
    "books.loc[books['Year-Of-Publication'] == 'DK Publishing Inc',:]"
   ]
  },
  {
   "cell_type": "code",
   "execution_count": 47,
   "id": "422e859c-5fee-47ad-a5d0-41b943f56576",
   "metadata": {},
   "outputs": [
    {
     "data": {
      "text/html": [
       "<div>\n",
       "<style scoped>\n",
       "    .dataframe tbody tr th:only-of-type {\n",
       "        vertical-align: middle;\n",
       "    }\n",
       "\n",
       "    .dataframe tbody tr th {\n",
       "        vertical-align: top;\n",
       "    }\n",
       "\n",
       "    .dataframe thead th {\n",
       "        text-align: right;\n",
       "    }\n",
       "</style>\n",
       "<table border=\"1\" class=\"dataframe\">\n",
       "  <thead>\n",
       "    <tr style=\"text-align: right;\">\n",
       "      <th></th>\n",
       "      <th>ISBN</th>\n",
       "      <th>Book-Title</th>\n",
       "      <th>Book-Author</th>\n",
       "      <th>Year-Of-Publication</th>\n",
       "      <th>Publisher</th>\n",
       "      <th>Image-URL-S</th>\n",
       "      <th>Image-URL-M</th>\n",
       "      <th>Image-URL-L</th>\n",
       "    </tr>\n",
       "  </thead>\n",
       "  <tbody>\n",
       "    <tr>\n",
       "      <th>209538</th>\n",
       "      <td>078946697X</td>\n",
       "      <td>DK Readers: Creating the X-Men, How It All Beg...</td>\n",
       "      <td>Michael Teitelbaum</td>\n",
       "      <td>2000</td>\n",
       "      <td>DK Publishing Inc</td>\n",
       "      <td>http://images.amazon.com/images/P/078946697X.0...</td>\n",
       "      <td>http://images.amazon.com/images/P/078946697X.0...</td>\n",
       "      <td>NaN</td>\n",
       "    </tr>\n",
       "    <tr>\n",
       "      <th>221678</th>\n",
       "      <td>0789466953</td>\n",
       "      <td>DK Readers: Creating the X-Men, How Comic Book...</td>\n",
       "      <td>James Buckley</td>\n",
       "      <td>2000</td>\n",
       "      <td>DK Publishing Inc</td>\n",
       "      <td>http://images.amazon.com/images/P/0789466953.0...</td>\n",
       "      <td>http://images.amazon.com/images/P/0789466953.0...</td>\n",
       "      <td>NaN</td>\n",
       "    </tr>\n",
       "  </tbody>\n",
       "</table>\n",
       "</div>"
      ],
      "text/plain": [
       "              ISBN                                         Book-Title  \\\n",
       "209538  078946697X  DK Readers: Creating the X-Men, How It All Beg...   \n",
       "221678  0789466953  DK Readers: Creating the X-Men, How Comic Book...   \n",
       "\n",
       "               Book-Author Year-Of-Publication          Publisher  \\\n",
       "209538  Michael Teitelbaum                2000  DK Publishing Inc   \n",
       "221678       James Buckley                2000  DK Publishing Inc   \n",
       "\n",
       "                                              Image-URL-S  \\\n",
       "209538  http://images.amazon.com/images/P/078946697X.0...   \n",
       "221678  http://images.amazon.com/images/P/0789466953.0...   \n",
       "\n",
       "                                              Image-URL-M Image-URL-L  \n",
       "209538  http://images.amazon.com/images/P/078946697X.0...         NaN  \n",
       "221678  http://images.amazon.com/images/P/0789466953.0...         NaN  "
      ]
     },
     "execution_count": 47,
     "metadata": {},
     "output_type": "execute_result"
    }
   ],
   "source": [
    "#From above, it is seen that bookAuthor is incorrectly loaded with bookTitle, hence making required corrections\n",
    "#ISBN '0789466953'\n",
    "books.loc[books.ISBN == '0789466953','Year-Of-Publication'] = 2000\n",
    "books.loc[books.ISBN == '0789466953','Book-Author'] = \"James Buckley\"\n",
    "books.loc[books.ISBN == '0789466953','Publisher'] = \"DK Publishing Inc\"\n",
    "books.loc[books.ISBN == '0789466953','Book-Title'] = \"DK Readers: Creating the X-Men, How Comic Books Come to Life (Level 4: Proficient Readers)\"\n",
    "\n",
    "#ISBN '078946697X'\n",
    "books.loc[books.ISBN == '078946697X','Year-Of-Publication'] = 2000\n",
    "books.loc[books.ISBN == '078946697X','Book-Author'] = \"Michael Teitelbaum\"\n",
    "books.loc[books.ISBN == '078946697X','Publisher'] = \"DK Publishing Inc\"\n",
    "books.loc[books.ISBN == '078946697X','Book-Title'] = \"DK Readers: Creating the X-Men, How It All Began (Level 4: Proficient Readers)\"\n",
    "\n",
    "#rechecking\n",
    "books.loc[(books.ISBN == '0789466953') | (books.ISBN == '078946697X'),:]\n",
    "#corrections done"
   ]
  },
  {
   "cell_type": "code",
   "execution_count": 48,
   "id": "89ecdaa7-f1eb-4728-a5d8-53ebed8987bd",
   "metadata": {},
   "outputs": [
    {
     "data": {
      "text/html": [
       "<div>\n",
       "<style scoped>\n",
       "    .dataframe tbody tr th:only-of-type {\n",
       "        vertical-align: middle;\n",
       "    }\n",
       "\n",
       "    .dataframe tbody tr th {\n",
       "        vertical-align: top;\n",
       "    }\n",
       "\n",
       "    .dataframe thead th {\n",
       "        text-align: right;\n",
       "    }\n",
       "</style>\n",
       "<table border=\"1\" class=\"dataframe\">\n",
       "  <thead>\n",
       "    <tr style=\"text-align: right;\">\n",
       "      <th></th>\n",
       "      <th>ISBN</th>\n",
       "      <th>Book-Title</th>\n",
       "      <th>Book-Author</th>\n",
       "      <th>Year-Of-Publication</th>\n",
       "      <th>Publisher</th>\n",
       "      <th>Image-URL-S</th>\n",
       "      <th>Image-URL-M</th>\n",
       "      <th>Image-URL-L</th>\n",
       "    </tr>\n",
       "  </thead>\n",
       "  <tbody>\n",
       "    <tr>\n",
       "      <th>220731</th>\n",
       "      <td>2070426769</td>\n",
       "      <td>Peuple du ciel, suivi de 'Les Bergers\\\";Jean-M...</td>\n",
       "      <td>2003</td>\n",
       "      <td>Gallimard</td>\n",
       "      <td>http://images.amazon.com/images/P/2070426769.0...</td>\n",
       "      <td>http://images.amazon.com/images/P/2070426769.0...</td>\n",
       "      <td>http://images.amazon.com/images/P/2070426769.0...</td>\n",
       "      <td>NaN</td>\n",
       "    </tr>\n",
       "  </tbody>\n",
       "</table>\n",
       "</div>"
      ],
      "text/plain": [
       "              ISBN                                         Book-Title  \\\n",
       "220731  2070426769  Peuple du ciel, suivi de 'Les Bergers\\\";Jean-M...   \n",
       "\n",
       "       Book-Author Year-Of-Publication  \\\n",
       "220731        2003           Gallimard   \n",
       "\n",
       "                                                Publisher  \\\n",
       "220731  http://images.amazon.com/images/P/2070426769.0...   \n",
       "\n",
       "                                              Image-URL-S  \\\n",
       "220731  http://images.amazon.com/images/P/2070426769.0...   \n",
       "\n",
       "                                              Image-URL-M Image-URL-L  \n",
       "220731  http://images.amazon.com/images/P/2070426769.0...         NaN  "
      ]
     },
     "execution_count": 48,
     "metadata": {},
     "output_type": "execute_result"
    }
   ],
   "source": [
    "#investigating the rows having 'Gallimard' as yearOfPublication\n",
    "books.loc[books['Year-Of-Publication'] == 'Gallimard',:]"
   ]
  },
  {
   "cell_type": "code",
   "execution_count": 49,
   "id": "cf4326b8-8966-49fb-adf3-fc127acffd9a",
   "metadata": {},
   "outputs": [
    {
     "data": {
      "text/html": [
       "<div>\n",
       "<style scoped>\n",
       "    .dataframe tbody tr th:only-of-type {\n",
       "        vertical-align: middle;\n",
       "    }\n",
       "\n",
       "    .dataframe tbody tr th {\n",
       "        vertical-align: top;\n",
       "    }\n",
       "\n",
       "    .dataframe thead th {\n",
       "        text-align: right;\n",
       "    }\n",
       "</style>\n",
       "<table border=\"1\" class=\"dataframe\">\n",
       "  <thead>\n",
       "    <tr style=\"text-align: right;\">\n",
       "      <th></th>\n",
       "      <th>ISBN</th>\n",
       "      <th>Book-Title</th>\n",
       "      <th>Book-Author</th>\n",
       "      <th>Year-Of-Publication</th>\n",
       "      <th>Publisher</th>\n",
       "      <th>Image-URL-S</th>\n",
       "      <th>Image-URL-M</th>\n",
       "      <th>Image-URL-L</th>\n",
       "    </tr>\n",
       "  </thead>\n",
       "  <tbody>\n",
       "    <tr>\n",
       "      <th>220731</th>\n",
       "      <td>2070426769</td>\n",
       "      <td>Peuple du ciel, suivi de 'Les Bergers</td>\n",
       "      <td>Jean-Marie Gustave Le ClÃ?Â©zio</td>\n",
       "      <td>2003</td>\n",
       "      <td>Gallimard</td>\n",
       "      <td>http://images.amazon.com/images/P/2070426769.0...</td>\n",
       "      <td>http://images.amazon.com/images/P/2070426769.0...</td>\n",
       "      <td>NaN</td>\n",
       "    </tr>\n",
       "  </tbody>\n",
       "</table>\n",
       "</div>"
      ],
      "text/plain": [
       "              ISBN                             Book-Title  \\\n",
       "220731  2070426769  Peuple du ciel, suivi de 'Les Bergers   \n",
       "\n",
       "                            Book-Author Year-Of-Publication  Publisher  \\\n",
       "220731  Jean-Marie Gustave Le ClÃ?Â©zio                2003  Gallimard   \n",
       "\n",
       "                                              Image-URL-S  \\\n",
       "220731  http://images.amazon.com/images/P/2070426769.0...   \n",
       "\n",
       "                                              Image-URL-M Image-URL-L  \n",
       "220731  http://images.amazon.com/images/P/2070426769.0...         NaN  "
      ]
     },
     "execution_count": 49,
     "metadata": {},
     "output_type": "execute_result"
    }
   ],
   "source": [
    "#making required corrections as above, keeping other fields intact\n",
    "books.loc[books.ISBN == '2070426769','Year-Of-Publication'] = 2003\n",
    "books.loc[books.ISBN == '2070426769','Book-Author'] = \"Jean-Marie Gustave Le ClÃ?Â©zio\"\n",
    "books.loc[books.ISBN == '2070426769','Publisher'] = \"Gallimard\"\n",
    "books.loc[books.ISBN == '2070426769','Book-Title'] = \"Peuple du ciel, suivi de 'Les Bergers\"\n",
    "\n",
    "\n",
    "books.loc[books.ISBN == '2070426769',:]"
   ]
  },
  {
   "cell_type": "code",
   "execution_count": 50,
   "id": "dc9a42c0-2fbc-45e3-acdc-ec7aa7b932ad",
   "metadata": {},
   "outputs": [
    {
     "name": "stdout",
     "output_type": "stream",
     "text": [
      "[0, 1376, 1378, 1806, 1897, 1900, 1901, 1902, 1904, 1906, 1908, 1909, 1910, 1911, 1914, 1917, 1919, 1920, 1921, 1922, 1923, 1924, 1925, 1926, 1927, 1928, 1929, 1930, 1931, 1932, 1933, 1934, 1935, 1936, 1937, 1938, 1939, 1940, 1941, 1942, 1943, 1944, 1945, 1946, 1947, 1948, 1949, 1950, 1951, 1952, 1953, 1954, 1955, 1956, 1957, 1958, 1959, 1960, 1961, 1962, 1963, 1964, 1965, 1966, 1967, 1968, 1969, 1970, 1971, 1972, 1973, 1974, 1975, 1976, 1977, 1978, 1979, 1980, 1981, 1982, 1983, 1984, 1985, 1986, 1987, 1988, 1989, 1990, 1991, 1992, 1993, 1994, 1995, 1996, 1997, 1998, 1999, 2000, 2001, 2002, 2003, 2004, 2005, 2006, 2008, 2010, 2011, 2012, 2020, 2021, 2024, 2026, 2030, 2037, 2038, 2050]\n"
     ]
    }
   ],
   "source": [
    "books['Year-Of-Publication']=pd.to_numeric(books['Year-Of-Publication'], errors='coerce')\n",
    "\n",
    "print(sorted(books['Year-Of-Publication'].unique()))\n",
    "#Now it can be seen that yearOfPublication has all values as integers"
   ]
  },
  {
   "cell_type": "code",
   "execution_count": 51,
   "id": "708f6210-4138-4b3e-9212-ad595f08aa24",
   "metadata": {},
   "outputs": [],
   "source": [
    "books.loc[(books['Year-Of-Publication'] > 2006) | (books['Year-Of-Publication'] == 0),'Year-Of-Publication'] = np.NAN\n",
    "\n",
    "#replacing NaNs with median value of Year-Of-Publication\n",
    "books['Year-Of-Publication'].fillna(round(books['Year-Of-Publication'].median()), inplace=True)"
   ]
  },
  {
   "cell_type": "code",
   "execution_count": 52,
   "id": "937fb1ac-6c0d-45be-888f-dc354225bbc0",
   "metadata": {},
   "outputs": [],
   "source": [
    "#dropping last three columns containing image URLs which will not be required for analysis\n",
    "books.drop(['Image-URL-S', 'Image-URL-M', 'Image-URL-L'],axis=1,inplace=True)"
   ]
  },
  {
   "cell_type": "code",
   "execution_count": 53,
   "id": "095b7451-8ee3-4ec2-9106-e89d5834171b",
   "metadata": {},
   "outputs": [
    {
     "data": {
      "text/plain": [
       "ISBN                   0\n",
       "Book-Title             0\n",
       "Book-Author            2\n",
       "Year-Of-Publication    0\n",
       "Publisher              2\n",
       "dtype: int64"
      ]
     },
     "execution_count": 53,
     "metadata": {},
     "output_type": "execute_result"
    }
   ],
   "source": [
    "books.isna().sum()"
   ]
  },
  {
   "cell_type": "code",
   "execution_count": 54,
   "id": "f4790253-c53e-41a9-af1c-e1be82eb84ed",
   "metadata": {},
   "outputs": [
    {
     "data": {
      "text/html": [
       "<div>\n",
       "<style scoped>\n",
       "    .dataframe tbody tr th:only-of-type {\n",
       "        vertical-align: middle;\n",
       "    }\n",
       "\n",
       "    .dataframe tbody tr th {\n",
       "        vertical-align: top;\n",
       "    }\n",
       "\n",
       "    .dataframe thead th {\n",
       "        text-align: right;\n",
       "    }\n",
       "</style>\n",
       "<table border=\"1\" class=\"dataframe\">\n",
       "  <thead>\n",
       "    <tr style=\"text-align: right;\">\n",
       "      <th></th>\n",
       "      <th>ISBN</th>\n",
       "      <th>Book-Title</th>\n",
       "      <th>Book-Author</th>\n",
       "      <th>Year-Of-Publication</th>\n",
       "      <th>Publisher</th>\n",
       "    </tr>\n",
       "  </thead>\n",
       "  <tbody>\n",
       "    <tr>\n",
       "      <th>128890</th>\n",
       "      <td>193169656X</td>\n",
       "      <td>Tyrant Moon</td>\n",
       "      <td>Elaine Corvidae</td>\n",
       "      <td>2002.0</td>\n",
       "      <td>NaN</td>\n",
       "    </tr>\n",
       "    <tr>\n",
       "      <th>129037</th>\n",
       "      <td>1931696993</td>\n",
       "      <td>Finders Keepers</td>\n",
       "      <td>Linnea Sinclair</td>\n",
       "      <td>2001.0</td>\n",
       "      <td>NaN</td>\n",
       "    </tr>\n",
       "  </tbody>\n",
       "</table>\n",
       "</div>"
      ],
      "text/plain": [
       "              ISBN       Book-Title      Book-Author  Year-Of-Publication  \\\n",
       "128890  193169656X      Tyrant Moon  Elaine Corvidae               2002.0   \n",
       "129037  1931696993  Finders Keepers  Linnea Sinclair               2001.0   \n",
       "\n",
       "       Publisher  \n",
       "128890       NaN  \n",
       "129037       NaN  "
      ]
     },
     "execution_count": 54,
     "metadata": {},
     "output_type": "execute_result"
    }
   ],
   "source": [
    "#exploring 'publisher' column\n",
    "books.loc[books.Publisher.isnull(),:]\n",
    "#two NaNs|"
   ]
  },
  {
   "cell_type": "code",
   "execution_count": 55,
   "id": "d96847b8-2ea9-43a1-a15c-36ae6339b9c4",
   "metadata": {},
   "outputs": [],
   "source": [
    "#Filling Nan of Publisher with others\n",
    "books.Publisher.fillna('other',inplace=True)"
   ]
  },
  {
   "cell_type": "code",
   "execution_count": 56,
   "id": "6a113f68-b747-40c3-bd0c-6a3c73fbcc59",
   "metadata": {},
   "outputs": [
    {
     "data": {
      "text/html": [
       "<div>\n",
       "<style scoped>\n",
       "    .dataframe tbody tr th:only-of-type {\n",
       "        vertical-align: middle;\n",
       "    }\n",
       "\n",
       "    .dataframe tbody tr th {\n",
       "        vertical-align: top;\n",
       "    }\n",
       "\n",
       "    .dataframe thead th {\n",
       "        text-align: right;\n",
       "    }\n",
       "</style>\n",
       "<table border=\"1\" class=\"dataframe\">\n",
       "  <thead>\n",
       "    <tr style=\"text-align: right;\">\n",
       "      <th></th>\n",
       "      <th>ISBN</th>\n",
       "      <th>Book-Title</th>\n",
       "      <th>Book-Author</th>\n",
       "      <th>Year-Of-Publication</th>\n",
       "      <th>Publisher</th>\n",
       "    </tr>\n",
       "  </thead>\n",
       "  <tbody>\n",
       "    <tr>\n",
       "      <th>118033</th>\n",
       "      <td>0751352497</td>\n",
       "      <td>A+ Quiz Masters:01 Earth</td>\n",
       "      <td>NaN</td>\n",
       "      <td>1999.0</td>\n",
       "      <td>Dorling Kindersley</td>\n",
       "    </tr>\n",
       "    <tr>\n",
       "      <th>187689</th>\n",
       "      <td>9627982032</td>\n",
       "      <td>The Credit Suisse Guide to Managing Your Perso...</td>\n",
       "      <td>NaN</td>\n",
       "      <td>1995.0</td>\n",
       "      <td>Edinburgh Financial Publishing</td>\n",
       "    </tr>\n",
       "  </tbody>\n",
       "</table>\n",
       "</div>"
      ],
      "text/plain": [
       "              ISBN                                         Book-Title  \\\n",
       "118033  0751352497                           A+ Quiz Masters:01 Earth   \n",
       "187689  9627982032  The Credit Suisse Guide to Managing Your Perso...   \n",
       "\n",
       "       Book-Author  Year-Of-Publication                       Publisher  \n",
       "118033         NaN               1999.0              Dorling Kindersley  \n",
       "187689         NaN               1995.0  Edinburgh Financial Publishing  "
      ]
     },
     "execution_count": 56,
     "metadata": {},
     "output_type": "execute_result"
    }
   ],
   "source": [
    "#exploring 'Book-Author' column\n",
    "books.loc[books['Book-Author'].isnull(),:]"
   ]
  },
  {
   "cell_type": "code",
   "execution_count": 57,
   "id": "ce6ada7e-0a69-4622-9b3f-78fcf50b9c9d",
   "metadata": {},
   "outputs": [],
   "source": [
    "#Filling Nan of Book-Author with others\n",
    "books['Book-Author'].fillna('other',inplace=True)"
   ]
  },
  {
   "cell_type": "code",
   "execution_count": 58,
   "id": "976a5f4a-1295-404c-b9dc-4622ebbf12a5",
   "metadata": {},
   "outputs": [
    {
     "data": {
      "text/plain": [
       "ISBN                   0\n",
       "Book-Title             0\n",
       "Book-Author            0\n",
       "Year-Of-Publication    0\n",
       "Publisher              0\n",
       "dtype: int64"
      ]
     },
     "execution_count": 58,
     "metadata": {},
     "output_type": "execute_result"
    }
   ],
   "source": [
    "books.isna().sum()"
   ]
  },
  {
   "cell_type": "markdown",
   "id": "f7e3d126-578d-4eaf-be34-914cada0a453",
   "metadata": {},
   "source": [
    "#3.)Ratings_Dataset"
   ]
  },
  {
   "cell_type": "code",
   "execution_count": 59,
   "id": "69727370-8ced-4065-b638-0532042704b5",
   "metadata": {},
   "outputs": [
    {
     "data": {
      "text/html": [
       "<div>\n",
       "<style scoped>\n",
       "    .dataframe tbody tr th:only-of-type {\n",
       "        vertical-align: middle;\n",
       "    }\n",
       "\n",
       "    .dataframe tbody tr th {\n",
       "        vertical-align: top;\n",
       "    }\n",
       "\n",
       "    .dataframe thead th {\n",
       "        text-align: right;\n",
       "    }\n",
       "</style>\n",
       "<table border=\"1\" class=\"dataframe\">\n",
       "  <thead>\n",
       "    <tr style=\"text-align: right;\">\n",
       "      <th></th>\n",
       "      <th>User-ID</th>\n",
       "      <th>ISBN</th>\n",
       "      <th>Book-Rating</th>\n",
       "    </tr>\n",
       "  </thead>\n",
       "  <tbody>\n",
       "    <tr>\n",
       "      <th>0</th>\n",
       "      <td>276725</td>\n",
       "      <td>034545104X</td>\n",
       "      <td>0</td>\n",
       "    </tr>\n",
       "    <tr>\n",
       "      <th>1</th>\n",
       "      <td>276726</td>\n",
       "      <td>0155061224</td>\n",
       "      <td>5</td>\n",
       "    </tr>\n",
       "  </tbody>\n",
       "</table>\n",
       "</div>"
      ],
      "text/plain": [
       "   User-ID        ISBN  Book-Rating\n",
       "0   276725  034545104X            0\n",
       "1   276726  0155061224            5"
      ]
     },
     "execution_count": 59,
     "metadata": {},
     "output_type": "execute_result"
    }
   ],
   "source": [
    "ratings.head(2)"
   ]
  },
  {
   "cell_type": "code",
   "execution_count": 60,
   "id": "b8c877ab-f527-4464-be44-8637b800920f",
   "metadata": {},
   "outputs": [
    {
     "data": {
      "text/plain": [
       "((1149780, 3), (1031136, 3))"
      ]
     },
     "execution_count": 60,
     "metadata": {},
     "output_type": "execute_result"
    }
   ],
   "source": [
    "ratings_new = ratings[ratings.ISBN.isin(books.ISBN)]\n",
    "ratings.shape,ratings_new.shape"
   ]
  },
  {
   "cell_type": "markdown",
   "id": "91747171-b997-4d97-adc6-2507c3cd8bcb",
   "metadata": {},
   "source": [
    "It can be seen that many rows having book ISBN not part of books dataset got dropped off\n",
    "\n",
    "Ratings dataset should have ratings from users which exist in users dataset.\n"
   ]
  },
  {
   "cell_type": "code",
   "execution_count": 61,
   "id": "3ef2614d-8ae9-4717-a3b7-577e2044eb4d",
   "metadata": {},
   "outputs": [
    {
     "name": "stdout",
     "output_type": "stream",
     "text": [
      "Shape of dataset before dropping (1031136, 3)\n",
      "shape of dataset after dropping (1031136, 3)\n"
     ]
    }
   ],
   "source": [
    "print(\"Shape of dataset before dropping\",ratings_new.shape)\n",
    "ratings_new = ratings_new[ratings_new['User-ID'].isin(users['User-ID'])]\n",
    "print(\"shape of dataset after dropping\",ratings_new.shape)"
   ]
  },
  {
   "cell_type": "markdown",
   "id": "9e36aced-0061-4eb4-81a4-3e230471285f",
   "metadata": {},
   "source": [
    "It can be seen that no new user was there in ratings dataset.\n",
    "\n",
    "Let's see how the ratings are distributed"
   ]
  },
  {
   "cell_type": "code",
   "execution_count": 62,
   "id": "02056912-f847-4c27-9132-28ecb4ad3f52",
   "metadata": {},
   "outputs": [
    {
     "data": {
      "image/png": "[encoded data removed]",
      "text/plain": [
       "<Figure size 640x480 with 1 Axes>"
      ]
     },
     "metadata": {},
     "output_type": "display_data"
    }
   ],
   "source": [
    "plt.rc(\"font\", size=15)\n",
    "ratings_new['Book-Rating'].value_counts(sort=False).plot(kind='bar')\n",
    "plt.title('Rating Distribution\\n')\n",
    "plt.xlabel('Rating')\n",
    "plt.ylabel('Count')\n",
    "plt.show()"
   ]
  },
  {
   "cell_type": "code",
   "execution_count": 63,
   "id": "b520ea75-1b6b-4287-853a-9f6e67526952",
   "metadata": {},
   "outputs": [],
   "source": [
    "#Hence segragating implicit and explict ratings datasets\n",
    "ratings_explicit = ratings_new[ratings_new['Book-Rating'] != 0]\n",
    "ratings_implicit = ratings_new[ratings_new['Book-Rating'] == 0]"
   ]
  },
  {
   "cell_type": "code",
   "execution_count": 64,
   "id": "f3bbbc0a-6136-4bd3-9ca1-81d59d96710d",
   "metadata": {},
   "outputs": [
    {
     "name": "stdout",
     "output_type": "stream",
     "text": [
      "ratings_explicit dataset shape (383842, 3)\n",
      "ratings_implicit dataset (647294, 3)\n"
     ]
    }
   ],
   "source": [
    "print('ratings_explicit dataset shape',ratings_explicit.shape)\n",
    "print('ratings_implicit dataset',ratings_implicit.shape)"
   ]
  },
  {
   "cell_type": "code",
   "execution_count": 65,
   "id": "0dc9b281-eabd-4ae2-b94c-1de4024786cb",
   "metadata": {},
   "outputs": [
    {
     "data": {
      "text/plain": [
       "<Axes: xlabel='Book-Rating', ylabel='count'>"
      ]
     },
     "execution_count": 65,
     "metadata": {},
     "output_type": "execute_result"
    },
    {
     "data": {
      "image/png": "[encoded data removed]",
      "text/plain": [
       "<Figure size 1200x800 with 1 Axes>"
      ]
     },
     "metadata": {},
     "output_type": "display_data"
    }
   ],
   "source": [
    "plt.style.use('fivethirtyeight')\n",
    "plt.figure(figsize=(12, 8))\n",
    "sns.countplot(data=ratings_explicit , x='Book-Rating', palette='rocket_r')"
   ]
  },
  {
   "cell_type": "markdown",
   "id": "da3a4497-70b5-49b2-9532-d8506b86e382",
   "metadata": {},
   "source": [
    "Let's find the top 5 books which are rated by most number of users."
   ]
  },
  {
   "cell_type": "code",
   "execution_count": 66,
   "id": "243dc792-5c52-4022-905c-1d4d27cf3a91",
   "metadata": {},
   "outputs": [
    {
     "data": {
      "text/html": [
       "<div>\n",
       "<style scoped>\n",
       "    .dataframe tbody tr th:only-of-type {\n",
       "        vertical-align: middle;\n",
       "    }\n",
       "\n",
       "    .dataframe tbody tr th {\n",
       "        vertical-align: top;\n",
       "    }\n",
       "\n",
       "    .dataframe thead th {\n",
       "        text-align: right;\n",
       "    }\n",
       "</style>\n",
       "<table border=\"1\" class=\"dataframe\">\n",
       "  <thead>\n",
       "    <tr style=\"text-align: right;\">\n",
       "      <th></th>\n",
       "      <th>Book-Rating</th>\n",
       "    </tr>\n",
       "    <tr>\n",
       "      <th>ISBN</th>\n",
       "      <th></th>\n",
       "    </tr>\n",
       "  </thead>\n",
       "  <tbody>\n",
       "    <tr>\n",
       "      <th>0316666343</th>\n",
       "      <td>707</td>\n",
       "    </tr>\n",
       "    <tr>\n",
       "      <th>0971880107</th>\n",
       "      <td>581</td>\n",
       "    </tr>\n",
       "    <tr>\n",
       "      <th>0385504209</th>\n",
       "      <td>487</td>\n",
       "    </tr>\n",
       "    <tr>\n",
       "      <th>0312195516</th>\n",
       "      <td>383</td>\n",
       "    </tr>\n",
       "    <tr>\n",
       "      <th>0060928336</th>\n",
       "      <td>320</td>\n",
       "    </tr>\n",
       "  </tbody>\n",
       "</table>\n",
       "</div>"
      ],
      "text/plain": [
       "            Book-Rating\n",
       "ISBN                   \n",
       "0316666343          707\n",
       "0971880107          581\n",
       "0385504209          487\n",
       "0312195516          383\n",
       "0060928336          320"
      ]
     },
     "execution_count": 66,
     "metadata": {},
     "output_type": "execute_result"
    }
   ],
   "source": [
    "rating_count = pd.DataFrame(ratings_explicit.groupby('ISBN')['Book-Rating'].count())\n",
    "rating_count.sort_values('Book-Rating', ascending=False).head()"
   ]
  },
  {
   "cell_type": "code",
   "execution_count": 67,
   "id": "dbec6926-23e9-41f9-806b-d93c4701eb34",
   "metadata": {},
   "outputs": [
    {
     "data": {
      "text/html": [
       "<div>\n",
       "<style scoped>\n",
       "    .dataframe tbody tr th:only-of-type {\n",
       "        vertical-align: middle;\n",
       "    }\n",
       "\n",
       "    .dataframe tbody tr th {\n",
       "        vertical-align: top;\n",
       "    }\n",
       "\n",
       "    .dataframe thead th {\n",
       "        text-align: right;\n",
       "    }\n",
       "</style>\n",
       "<table border=\"1\" class=\"dataframe\">\n",
       "  <thead>\n",
       "    <tr style=\"text-align: right;\">\n",
       "      <th></th>\n",
       "      <th>ISBN</th>\n",
       "      <th>Book-Title</th>\n",
       "      <th>Book-Author</th>\n",
       "      <th>Year-Of-Publication</th>\n",
       "      <th>Publisher</th>\n",
       "    </tr>\n",
       "  </thead>\n",
       "  <tbody>\n",
       "    <tr>\n",
       "      <th>0</th>\n",
       "      <td>0316666343</td>\n",
       "      <td>The Lovely Bones: A Novel</td>\n",
       "      <td>Alice Sebold</td>\n",
       "      <td>2002.0</td>\n",
       "      <td>Little, Brown</td>\n",
       "    </tr>\n",
       "    <tr>\n",
       "      <th>1</th>\n",
       "      <td>0971880107</td>\n",
       "      <td>Wild Animus</td>\n",
       "      <td>Rich Shapero</td>\n",
       "      <td>2004.0</td>\n",
       "      <td>Too Far</td>\n",
       "    </tr>\n",
       "    <tr>\n",
       "      <th>2</th>\n",
       "      <td>0385504209</td>\n",
       "      <td>The Da Vinci Code</td>\n",
       "      <td>Dan Brown</td>\n",
       "      <td>2003.0</td>\n",
       "      <td>Doubleday</td>\n",
       "    </tr>\n",
       "    <tr>\n",
       "      <th>3</th>\n",
       "      <td>0312195516</td>\n",
       "      <td>The Red Tent (Bestselling Backlist)</td>\n",
       "      <td>Anita Diamant</td>\n",
       "      <td>1998.0</td>\n",
       "      <td>Picador USA</td>\n",
       "    </tr>\n",
       "    <tr>\n",
       "      <th>4</th>\n",
       "      <td>0060928336</td>\n",
       "      <td>Divine Secrets of the Ya-Ya Sisterhood: A Novel</td>\n",
       "      <td>Rebecca Wells</td>\n",
       "      <td>1997.0</td>\n",
       "      <td>Perennial</td>\n",
       "    </tr>\n",
       "  </tbody>\n",
       "</table>\n",
       "</div>"
      ],
      "text/plain": [
       "         ISBN                                       Book-Title    Book-Author  \\\n",
       "0  0316666343                        The Lovely Bones: A Novel   Alice Sebold   \n",
       "1  0971880107                                      Wild Animus   Rich Shapero   \n",
       "2  0385504209                                The Da Vinci Code      Dan Brown   \n",
       "3  0312195516              The Red Tent (Bestselling Backlist)  Anita Diamant   \n",
       "4  0060928336  Divine Secrets of the Ya-Ya Sisterhood: A Novel  Rebecca Wells   \n",
       "\n",
       "   Year-Of-Publication      Publisher  \n",
       "0               2002.0  Little, Brown  \n",
       "1               2004.0        Too Far  \n",
       "2               2003.0      Doubleday  \n",
       "3               1998.0    Picador USA  \n",
       "4               1997.0      Perennial  "
      ]
     },
     "execution_count": 67,
     "metadata": {},
     "output_type": "execute_result"
    }
   ],
   "source": [
    "most_rated_books = pd.DataFrame(['0316666343', '0971880107', '0385504209', '0312195516', '0060928336'], index=np.arange(5), columns = ['ISBN'])\n",
    "most_rated_books_summary = pd.merge(most_rated_books, books, on='ISBN')\n",
    "most_rated_books_summary"
   ]
  },
  {
   "cell_type": "code",
   "execution_count": 68,
   "id": "cc0b5f00-c8c8-4925-b2ff-a899603cc432",
   "metadata": {},
   "outputs": [],
   "source": [
    "# Create column Rating average \n",
    "ratings_explicit['Avg_Rating']=ratings_explicit.groupby('ISBN')['Book-Rating'].transform('mean')\n",
    "# Create column Rating sum\n",
    "ratings_explicit['Total_No_Of_Users_Rated']=ratings_explicit.groupby('ISBN')['Book-Rating'].transform('count')"
   ]
  },
  {
   "cell_type": "code",
   "execution_count": 69,
   "id": "93d66363-da8a-4be2-9b93-6123ffdaceb9",
   "metadata": {},
   "outputs": [
    {
     "data": {
      "text/html": [
       "<div>\n",
       "<style scoped>\n",
       "    .dataframe tbody tr th:only-of-type {\n",
       "        vertical-align: middle;\n",
       "    }\n",
       "\n",
       "    .dataframe tbody tr th {\n",
       "        vertical-align: top;\n",
       "    }\n",
       "\n",
       "    .dataframe thead th {\n",
       "        text-align: right;\n",
       "    }\n",
       "</style>\n",
       "<table border=\"1\" class=\"dataframe\">\n",
       "  <thead>\n",
       "    <tr style=\"text-align: right;\">\n",
       "      <th></th>\n",
       "      <th>User-ID</th>\n",
       "      <th>ISBN</th>\n",
       "      <th>Book-Rating</th>\n",
       "      <th>Avg_Rating</th>\n",
       "      <th>Total_No_Of_Users_Rated</th>\n",
       "    </tr>\n",
       "  </thead>\n",
       "  <tbody>\n",
       "    <tr>\n",
       "      <th>1</th>\n",
       "      <td>276726</td>\n",
       "      <td>0155061224</td>\n",
       "      <td>5</td>\n",
       "      <td>5.000000</td>\n",
       "      <td>1</td>\n",
       "    </tr>\n",
       "    <tr>\n",
       "      <th>3</th>\n",
       "      <td>276729</td>\n",
       "      <td>052165615X</td>\n",
       "      <td>3</td>\n",
       "      <td>3.000000</td>\n",
       "      <td>1</td>\n",
       "    </tr>\n",
       "    <tr>\n",
       "      <th>4</th>\n",
       "      <td>276729</td>\n",
       "      <td>0521795028</td>\n",
       "      <td>6</td>\n",
       "      <td>6.000000</td>\n",
       "      <td>1</td>\n",
       "    </tr>\n",
       "    <tr>\n",
       "      <th>8</th>\n",
       "      <td>276744</td>\n",
       "      <td>038550120X</td>\n",
       "      <td>7</td>\n",
       "      <td>7.580247</td>\n",
       "      <td>81</td>\n",
       "    </tr>\n",
       "    <tr>\n",
       "      <th>16</th>\n",
       "      <td>276747</td>\n",
       "      <td>0060517794</td>\n",
       "      <td>9</td>\n",
       "      <td>8.000000</td>\n",
       "      <td>30</td>\n",
       "    </tr>\n",
       "  </tbody>\n",
       "</table>\n",
       "</div>"
      ],
      "text/plain": [
       "    User-ID        ISBN  Book-Rating  Avg_Rating  Total_No_Of_Users_Rated\n",
       "1    276726  0155061224            5    5.000000                        1\n",
       "3    276729  052165615X            3    3.000000                        1\n",
       "4    276729  0521795028            6    6.000000                        1\n",
       "8    276744  038550120X            7    7.580247                       81\n",
       "16   276747  0060517794            9    8.000000                       30"
      ]
     },
     "execution_count": 69,
     "metadata": {},
     "output_type": "execute_result"
    }
   ],
   "source": [
    "ratings_explicit.head()"
   ]
  },
  {
   "cell_type": "markdown",
   "id": "33368047-0239-45b7-a6a3-bff466af76c2",
   "metadata": {},
   "source": [
    "#MERGING ALL DATASETS"
   ]
  },
  {
   "cell_type": "code",
   "execution_count": 70,
   "id": "8743c9ab-15f4-46ff-b808-8c2a8118da13",
   "metadata": {},
   "outputs": [],
   "source": [
    "Final_Dataset=users.copy()\n",
    "Final_Dataset=pd.merge(Final_Dataset,ratings_explicit,on='User-ID')\n",
    "Final_Dataset=pd.merge(Final_Dataset,books,on='ISBN')"
   ]
  },
  {
   "cell_type": "code",
   "execution_count": 71,
   "id": "b1139f2d-0fd0-416d-b646-cc0e97f322be",
   "metadata": {},
   "outputs": [
    {
     "data": {
      "text/html": [
       "<div>\n",
       "<style scoped>\n",
       "    .dataframe tbody tr th:only-of-type {\n",
       "        vertical-align: middle;\n",
       "    }\n",
       "\n",
       "    .dataframe tbody tr th {\n",
       "        vertical-align: top;\n",
       "    }\n",
       "\n",
       "    .dataframe thead th {\n",
       "        text-align: right;\n",
       "    }\n",
       "</style>\n",
       "<table border=\"1\" class=\"dataframe\">\n",
       "  <thead>\n",
       "    <tr style=\"text-align: right;\">\n",
       "      <th></th>\n",
       "      <th>User-ID</th>\n",
       "      <th>Age</th>\n",
       "      <th>Country</th>\n",
       "      <th>ISBN</th>\n",
       "      <th>Book-Rating</th>\n",
       "      <th>Avg_Rating</th>\n",
       "      <th>Total_No_Of_Users_Rated</th>\n",
       "      <th>Book-Title</th>\n",
       "      <th>Book-Author</th>\n",
       "      <th>Year-Of-Publication</th>\n",
       "      <th>Publisher</th>\n",
       "    </tr>\n",
       "  </thead>\n",
       "  <tbody>\n",
       "    <tr>\n",
       "      <th>0</th>\n",
       "      <td>8</td>\n",
       "      <td>33.0</td>\n",
       "      <td>canada</td>\n",
       "      <td>0002005018</td>\n",
       "      <td>5</td>\n",
       "      <td>7.666667</td>\n",
       "      <td>9</td>\n",
       "      <td>Clara Callan</td>\n",
       "      <td>Richard Bruce Wright</td>\n",
       "      <td>2001.0</td>\n",
       "      <td>HarperFlamingo Canada</td>\n",
       "    </tr>\n",
       "    <tr>\n",
       "      <th>1</th>\n",
       "      <td>8</td>\n",
       "      <td>33.0</td>\n",
       "      <td>canada</td>\n",
       "      <td>074322678X</td>\n",
       "      <td>5</td>\n",
       "      <td>5.000000</td>\n",
       "      <td>1</td>\n",
       "      <td>Where You'll Find Me: And Other Stories</td>\n",
       "      <td>Ann Beattie</td>\n",
       "      <td>2002.0</td>\n",
       "      <td>Scribner</td>\n",
       "    </tr>\n",
       "    <tr>\n",
       "      <th>2</th>\n",
       "      <td>8</td>\n",
       "      <td>33.0</td>\n",
       "      <td>canada</td>\n",
       "      <td>0887841740</td>\n",
       "      <td>5</td>\n",
       "      <td>5.000000</td>\n",
       "      <td>1</td>\n",
       "      <td>The Middle Stories</td>\n",
       "      <td>Sheila Heti</td>\n",
       "      <td>2004.0</td>\n",
       "      <td>House of Anansi Press</td>\n",
       "    </tr>\n",
       "    <tr>\n",
       "      <th>3</th>\n",
       "      <td>8</td>\n",
       "      <td>33.0</td>\n",
       "      <td>canada</td>\n",
       "      <td>1552041778</td>\n",
       "      <td>5</td>\n",
       "      <td>5.000000</td>\n",
       "      <td>1</td>\n",
       "      <td>Jane Doe</td>\n",
       "      <td>R. J. Kaiser</td>\n",
       "      <td>1999.0</td>\n",
       "      <td>Mira Books</td>\n",
       "    </tr>\n",
       "    <tr>\n",
       "      <th>4</th>\n",
       "      <td>8</td>\n",
       "      <td>33.0</td>\n",
       "      <td>canada</td>\n",
       "      <td>1567407781</td>\n",
       "      <td>6</td>\n",
       "      <td>6.000000</td>\n",
       "      <td>1</td>\n",
       "      <td>The Witchfinder (Amos Walker Mystery Series)</td>\n",
       "      <td>Loren D. Estleman</td>\n",
       "      <td>1998.0</td>\n",
       "      <td>Brilliance Audio - Trade</td>\n",
       "    </tr>\n",
       "  </tbody>\n",
       "</table>\n",
       "</div>"
      ],
      "text/plain": [
       "   User-ID   Age Country        ISBN  Book-Rating  Avg_Rating  \\\n",
       "0        8  33.0  canada  0002005018            5    7.666667   \n",
       "1        8  33.0  canada  074322678X            5    5.000000   \n",
       "2        8  33.0  canada  0887841740            5    5.000000   \n",
       "3        8  33.0  canada  1552041778            5    5.000000   \n",
       "4        8  33.0  canada  1567407781            6    6.000000   \n",
       "\n",
       "   Total_No_Of_Users_Rated                                    Book-Title  \\\n",
       "0                        9                                  Clara Callan   \n",
       "1                        1       Where You'll Find Me: And Other Stories   \n",
       "2                        1                            The Middle Stories   \n",
       "3                        1                                      Jane Doe   \n",
       "4                        1  The Witchfinder (Amos Walker Mystery Series)   \n",
       "\n",
       "            Book-Author  Year-Of-Publication                 Publisher  \n",
       "0  Richard Bruce Wright               2001.0     HarperFlamingo Canada  \n",
       "1           Ann Beattie               2002.0                  Scribner  \n",
       "2           Sheila Heti               2004.0     House of Anansi Press  \n",
       "3          R. J. Kaiser               1999.0                Mira Books  \n",
       "4     Loren D. Estleman               1998.0  Brilliance Audio - Trade  "
      ]
     },
     "execution_count": 71,
     "metadata": {},
     "output_type": "execute_result"
    }
   ],
   "source": [
    "Final_Dataset.head()"
   ]
  },
  {
   "cell_type": "code",
   "execution_count": 72,
   "id": "37857405-a96b-4ba4-a95d-dd1fb3b9bd39",
   "metadata": {},
   "outputs": [
    {
     "data": {
      "text/html": [
       "<div>\n",
       "<style scoped>\n",
       "    .dataframe tbody tr th:only-of-type {\n",
       "        vertical-align: middle;\n",
       "    }\n",
       "\n",
       "    .dataframe tbody tr th {\n",
       "        vertical-align: top;\n",
       "    }\n",
       "\n",
       "    .dataframe thead th {\n",
       "        text-align: right;\n",
       "    }\n",
       "</style>\n",
       "<table border=\"1\" class=\"dataframe\">\n",
       "  <thead>\n",
       "    <tr style=\"text-align: right;\">\n",
       "      <th></th>\n",
       "      <th>index</th>\n",
       "      <th>Missing Values</th>\n",
       "      <th>% of Total Values</th>\n",
       "      <th>Data_type</th>\n",
       "    </tr>\n",
       "  </thead>\n",
       "  <tbody>\n",
       "    <tr>\n",
       "      <th>0</th>\n",
       "      <td>User-ID</td>\n",
       "      <td>0</td>\n",
       "      <td>0.0</td>\n",
       "      <td>int64</td>\n",
       "    </tr>\n",
       "    <tr>\n",
       "      <th>1</th>\n",
       "      <td>Age</td>\n",
       "      <td>0</td>\n",
       "      <td>0.0</td>\n",
       "      <td>float64</td>\n",
       "    </tr>\n",
       "    <tr>\n",
       "      <th>2</th>\n",
       "      <td>Country</td>\n",
       "      <td>0</td>\n",
       "      <td>0.0</td>\n",
       "      <td>object</td>\n",
       "    </tr>\n",
       "    <tr>\n",
       "      <th>3</th>\n",
       "      <td>ISBN</td>\n",
       "      <td>0</td>\n",
       "      <td>0.0</td>\n",
       "      <td>object</td>\n",
       "    </tr>\n",
       "    <tr>\n",
       "      <th>4</th>\n",
       "      <td>Book-Rating</td>\n",
       "      <td>0</td>\n",
       "      <td>0.0</td>\n",
       "      <td>int64</td>\n",
       "    </tr>\n",
       "    <tr>\n",
       "      <th>5</th>\n",
       "      <td>Avg_Rating</td>\n",
       "      <td>0</td>\n",
       "      <td>0.0</td>\n",
       "      <td>float64</td>\n",
       "    </tr>\n",
       "    <tr>\n",
       "      <th>6</th>\n",
       "      <td>Total_No_Of_Users_Rated</td>\n",
       "      <td>0</td>\n",
       "      <td>0.0</td>\n",
       "      <td>int64</td>\n",
       "    </tr>\n",
       "    <tr>\n",
       "      <th>7</th>\n",
       "      <td>Book-Title</td>\n",
       "      <td>0</td>\n",
       "      <td>0.0</td>\n",
       "      <td>object</td>\n",
       "    </tr>\n",
       "    <tr>\n",
       "      <th>8</th>\n",
       "      <td>Book-Author</td>\n",
       "      <td>0</td>\n",
       "      <td>0.0</td>\n",
       "      <td>object</td>\n",
       "    </tr>\n",
       "    <tr>\n",
       "      <th>9</th>\n",
       "      <td>Year-Of-Publication</td>\n",
       "      <td>0</td>\n",
       "      <td>0.0</td>\n",
       "      <td>float64</td>\n",
       "    </tr>\n",
       "    <tr>\n",
       "      <th>10</th>\n",
       "      <td>Publisher</td>\n",
       "      <td>0</td>\n",
       "      <td>0.0</td>\n",
       "      <td>object</td>\n",
       "    </tr>\n",
       "  </tbody>\n",
       "</table>\n",
       "</div>"
      ],
      "text/plain": [
       "                      index  Missing Values  % of Total Values Data_type\n",
       "0                   User-ID               0                0.0     int64\n",
       "1                       Age               0                0.0   float64\n",
       "2                   Country               0                0.0    object\n",
       "3                      ISBN               0                0.0    object\n",
       "4               Book-Rating               0                0.0     int64\n",
       "5                Avg_Rating               0                0.0   float64\n",
       "6   Total_No_Of_Users_Rated               0                0.0     int64\n",
       "7                Book-Title               0                0.0    object\n",
       "8               Book-Author               0                0.0    object\n",
       "9       Year-Of-Publication               0                0.0   float64\n",
       "10                Publisher               0                0.0    object"
      ]
     },
     "execution_count": 72,
     "metadata": {},
     "output_type": "execute_result"
    }
   ],
   "source": [
    "missing_values(Final_Dataset)"
   ]
  },
  {
   "cell_type": "code",
   "execution_count": 73,
   "id": "62197800-9f38-44eb-98d5-15bfbbd5c5ee",
   "metadata": {},
   "outputs": [
    {
     "data": {
      "text/plain": [
       "(383842, 11)"
      ]
     },
     "execution_count": 73,
     "metadata": {},
     "output_type": "execute_result"
    }
   ],
   "source": [
    "Final_Dataset.shape"
   ]
  },
  {
   "cell_type": "markdown",
   "id": "ef65fadc-0a2d-4c4f-a51f-ae7c8ab94045",
   "metadata": {},
   "source": [
    "##Popularity Based Filtering\n",
    "\n",
    "As the name suggests Popularity based recommendation system works with the trend. It basically uses the items which are in trend right now. For example, if any book which is usually bought by every new user then there are chances that it may suggest that book to the user who just signed up.\n",
    "Book weighted avg formula:\n",
    "Weighted Rating(WR)=[vR/(v+m)]+[mC/(v+m)]\n",
    "where,\n",
    "v is the number of votes for the books;\n",
    "m is the minimum votes required to be listed in the chart;\n",
    "R is the average rating of the book; and\n",
    "C is the mean vote across the whole report.\n",
    "Now we find the values ofv,m,R,C.\n",
    "\n"
   ]
  },
  {
   "cell_type": "code",
   "execution_count": 74,
   "id": "acf44865-abfb-48db-b73b-4d92ac528dc2",
   "metadata": {
    "scrolled": true
   },
   "outputs": [
    {
     "name": "stdout",
     "output_type": "stream",
     "text": [
      "C=7.626700569505161 , m=64.0\n"
     ]
    },
    {
     "data": {
      "text/plain": [
       "(38570, 11)"
      ]
     },
     "execution_count": 74,
     "metadata": {},
     "output_type": "execute_result"
    }
   ],
   "source": [
    "C= Final_Dataset['Avg_Rating'].mean()\n",
    "m= Final_Dataset['Total_No_Of_Users_Rated'].quantile(0.90)\n",
    "Top_Books = Final_Dataset.loc[Final_Dataset['Total_No_Of_Users_Rated'] >= m]\n",
    "print(f'C={C} , m={m}')\n",
    "Top_Books.shape"
   ]
  },
  {
   "cell_type": "markdown",
   "id": "080bff37-84cf-42df-95f8-76ba7f5f2eba",
   "metadata": {},
   "source": [
    "Here we used 90th percentile as our cutoff. In other words, for a book to feature in the charts, it must have more votes than at least 90% of the books in the list.\n",
    "We see that there are 38570 books which qualify to be in this list. Now, we need to calculate our metric for each qualified book. To do this, we will define a function, weighted_rating() and define a new feature score, of which we’ll calculate the value by applying this function to our DataFrame of qualified books:\n",
    "den"
   ]
  },
  {
   "cell_type": "markdown",
   "id": "3ec56f66-20e0-4e4e-a5bd-a3646fbb692d",
   "metadata": {},
   "source": [
    "Model Based Collaborative Filtering Recommender"
   ]
  },
  {
   "cell_type": "code",
   "execution_count": 75,
   "id": "68c4ca6f-19c0-4cc4-b3b2-6e0de32dbc05",
   "metadata": {},
   "outputs": [],
   "source": [
    "import scipy\n",
    "import math\n",
    "import sklearn\n",
    "from nltk.corpus import stopwords\n",
    "from sklearn.model_selection import train_test_split\n",
    "from sklearn.feature_extraction.text import TfidfVectorizer\n",
    "from sklearn.metrics.pairwise import cosine_similarity\n",
    "from scipy.sparse.linalg import svds\n",
    "import matplotlib.pyplot as plt"
   ]
  },
  {
   "cell_type": "markdown",
   "id": "7f3c44f5-d693-4435-9e70-9db9d146b499",
   "metadata": {},
   "source": [
    "This analysis aims to build a book recommendation system using the Book-Crossing dataset. To enhance efficiency and prevent memory issues, we will refine the dataset by selecting users who have provided at least three ratings and focusing on the top 10% of the most frequently rated books. This filtering approach helps in reducing sparsity while retaining meaningful interactions.\n",
    "\n",
    "For the recommendation model, we will leverage the Surprise package, employing matrix factorization-based techniques to learn latent features from user-book interactions. These models are well-suited for capturing hidden patterns in rating behavior, ultimately improving the quality of recommendations.\n",
    "\n"
   ]
  },
  {
   "cell_type": "code",
   "execution_count": 76,
   "id": "7a50bf34-283b-436c-a39e-ba46b84d502a",
   "metadata": {},
   "outputs": [],
   "source": [
    "ratings_explicit.rename(columns = {'User-ID':'user_id' ,'ISBN':'isbn' ,'Book-Rating':'book_rating'},inplace=True)"
   ]
  },
  {
   "cell_type": "code",
   "execution_count": 77,
   "id": "f4e5ed69-f9cb-49a1-9285-682c2f2b17fe",
   "metadata": {},
   "outputs": [
    {
     "name": "stdout",
     "output_type": "stream",
     "text": [
      "Filter: users with at least 3 ratings\n",
      "Number of records: 327271\n"
     ]
    }
   ],
   "source": [
    "user_ratings_threshold = 3\n",
    "\n",
    "filter_users = ratings_explicit['user_id'].value_counts()\n",
    "filter_users_list = filter_users[filter_users >= user_ratings_threshold].index.to_list()\n",
    "\n",
    "df_ratings_top = ratings_explicit[ratings_explicit['user_id'].isin(filter_users_list)]\n",
    "\n",
    "print('Filter: users with at least %d ratings\\nNumber of records: %d' % (user_ratings_threshold, len(df_ratings_top)))"
   ]
  },
  {
   "cell_type": "code",
   "execution_count": 78,
   "id": "9ef03430-887d-4963-9906-069bee08e1f8",
   "metadata": {},
   "outputs": [
    {
     "data": {
      "image/png": "[encoded data removed]",
      "text/plain": [
       "<Figure size 1000x500 with 1 Axes>"
      ]
     },
     "metadata": {},
     "output_type": "display_data"
    }
   ],
   "source": [
    "import matplotlib.pyplot as plt\n",
    "\n",
    "# Plot distribution of user ratings count\n",
    "plt.figure(figsize=(10,5))\n",
    "ratings_explicit['user_id'].value_counts().hist(bins=50, edgecolor='black')\n",
    "plt.axvline(user_ratings_threshold, color='red', linestyle='dashed', linewidth=2, label=f'Threshold: {user_ratings_threshold}')\n",
    "plt.xlabel('Number of Ratings per User')\n",
    "plt.ylabel('Number of Users')\n",
    "plt.title('Distribution of Ratings per User')\n",
    "plt.legend()\n",
    "plt.show()\n"
   ]
  },
  {
   "cell_type": "markdown",
   "id": "99ef7582-1a4d-4896-b5be-43cdcfd0d036",
   "metadata": {},
   "source": [
    "# Many users have rated only 1 or 2 books, which doesn't provide enough data for meaningful recommendations.\n",
    "# Filtering out these low-rating users reduces noise and improves the efficiency of the recommendation system.\n",
    "# The model can then focus on users with more interactions, leading to better book recommendations."
   ]
  },
  {
   "cell_type": "code",
   "execution_count": 79,
   "id": "16c778b2-361f-4f4c-be9e-ebf80c66f4e6",
   "metadata": {},
   "outputs": [
    {
     "name": "stdout",
     "output_type": "stream",
     "text": [
      "Filter: top 10% most frequently rated books\n",
      "Number of records: 160787\n"
     ]
    }
   ],
   "source": [
    "book_ratings_threshold_perc = 0.1\n",
    "book_ratings_threshold = len(df_ratings_top['isbn'].unique()) * book_ratings_threshold_perc\n",
    "\n",
    "filter_books_list = df_ratings_top['isbn'].value_counts().head(int(book_ratings_threshold)).index.to_list()\n",
    "df_ratings_top = df_ratings_top[df_ratings_top['isbn'].isin(filter_books_list)]\n",
    "\n",
    "print('Filter: top %d%% most frequently rated books\\nNumber of records: %d' % (book_ratings_threshold_perc*100, len(df_ratings_top)))"
   ]
  },
  {
   "cell_type": "markdown",
   "id": "c37d2efb-a43d-4a1c-a06d-d3d544958dac",
   "metadata": {},
   "source": [
    "Focuses on users with fewer ratings (1–50 instead of the entire range).\n",
    " Makes the pattern more visible by zooming in where most users fall.\n",
    "Still includes the threshold line for clarity."
   ]
  },
  {
   "cell_type": "markdown",
   "id": "dc84d602-6915-496e-bb9b-a13d09e70d1e",
   "metadata": {},
   "source": [
    "SVD and NMF models comparison\n",
    "Singular Value Decomposition (SVD) and Non-negative Matrix Factorization (NMF) are matrix factorization techniques used for dimensionality reduction. Surprise package provides implementation of those algorithms.\n",
    "\n"
   ]
  },
  {
   "cell_type": "code",
   "execution_count": 80,
   "id": "9e7ddbed-5538-4aee-9f5b-3ae4ee1880c1",
   "metadata": {},
   "outputs": [
    {
     "name": "stdout",
     "output_type": "stream",
     "text": [
      "Requirement already satisfied: pip in /opt/anaconda3/envs/assignments/lib/python3.12/site-packages (25.0)\n",
      "Collecting pip\n",
      "  Downloading pip-25.0.1-py3-none-any.whl.metadata (3.7 kB)\n",
      "Downloading pip-25.0.1-py3-none-any.whl (1.8 MB)\n",
      "\u001b[2K   \u001b[90m━━━━━━━━━━━━━━━━━━━━━━━━━━━━━━━━━━━━━━━━\u001b[0m \u001b[32m1.8/1.8 MB\u001b[0m \u001b[31m11.5 MB/s\u001b[0m eta \u001b[36m0:00:00\u001b[0m\n",
      "\u001b[?25hInstalling collected packages: pip\n",
      "  Attempting uninstall: pip\n",
      "    Found existing installation: pip 25.0\n",
      "    Uninstalling pip-25.0:\n",
      "      Successfully uninstalled pip-25.0\n",
      "Successfully installed pip-25.0.1\n",
      "Requirement already satisfied: scikit-surprise in /opt/anaconda3/envs/assignments/lib/python3.12/site-packages (1.1.4)\n",
      "Requirement already satisfied: joblib>=1.2.0 in /opt/anaconda3/envs/assignments/lib/python3.12/site-packages (from scikit-surprise) (1.4.2)\n",
      "Requirement already satisfied: numpy>=1.19.5 in /opt/anaconda3/envs/assignments/lib/python3.12/site-packages (from scikit-surprise) (1.26.4)\n",
      "Requirement already satisfied: scipy>=1.6.0 in /opt/anaconda3/envs/assignments/lib/python3.12/site-packages (from scikit-surprise) (1.14.1)\n"
     ]
    }
   ],
   "source": [
    "!python -m pip install --upgrade pip\n",
    "!pip install scikit-surprise\n"
   ]
  },
  {
   "cell_type": "code",
   "execution_count": 81,
   "id": "5ce9740d-d934-40c5-9207-08718c144b06",
   "metadata": {},
   "outputs": [
    {
     "name": "stdout",
     "output_type": "stream",
     "text": [
      "Requirement already satisfied: scikit-surprise in /opt/anaconda3/envs/assignments/lib/python3.12/site-packages (1.1.4)\n",
      "Requirement already satisfied: joblib>=1.2.0 in /opt/anaconda3/envs/assignments/lib/python3.12/site-packages (from scikit-surprise) (1.4.2)\n",
      "Requirement already satisfied: numpy>=1.19.5 in /opt/anaconda3/envs/assignments/lib/python3.12/site-packages (from scikit-surprise) (1.26.4)\n",
      "Requirement already satisfied: scipy>=1.6.0 in /opt/anaconda3/envs/assignments/lib/python3.12/site-packages (from scikit-surprise) (1.14.1)\n"
     ]
    }
   ],
   "source": [
    "!pip install --no-build-isolation --no-cache-dir scikit-surprise\n"
   ]
  },
  {
   "cell_type": "code",
   "execution_count": 82,
   "id": "19163a78-2538-49ee-8ff2-259ebd148c68",
   "metadata": {},
   "outputs": [
    {
     "name": "stdout",
     "output_type": "stream",
     "text": [
      "Collecting surprise\n",
      "  Using cached surprise-0.1-py2.py3-none-any.whl.metadata (327 bytes)\n",
      "Requirement already satisfied: scikit-surprise in /opt/anaconda3/envs/assignments/lib/python3.12/site-packages (from surprise) (1.1.4)\n",
      "Requirement already satisfied: joblib>=1.2.0 in /opt/anaconda3/envs/assignments/lib/python3.12/site-packages (from scikit-surprise->surprise) (1.4.2)\n",
      "Requirement already satisfied: numpy>=1.19.5 in /opt/anaconda3/envs/assignments/lib/python3.12/site-packages (from scikit-surprise->surprise) (1.26.4)\n",
      "Requirement already satisfied: scipy>=1.6.0 in /opt/anaconda3/envs/assignments/lib/python3.12/site-packages (from scikit-surprise->surprise) (1.14.1)\n",
      "Using cached surprise-0.1-py2.py3-none-any.whl (1.8 kB)\n",
      "Installing collected packages: surprise\n",
      "Successfully installed surprise-0.1\n"
     ]
    }
   ],
   "source": [
    "!pip install surprise"
   ]
  },
  {
   "cell_type": "code",
   "execution_count": 83,
   "id": "17044d4e-3874-4c53-8630-59d681f15743",
   "metadata": {},
   "outputs": [],
   "source": [
    "from surprise import Dataset, Reader\n",
    "from surprise import SVD, NMF\n",
    "from surprise.model_selection import cross_validate, train_test_split, GridSearchCV"
   ]
  },
  {
   "cell_type": "code",
   "execution_count": 84,
   "id": "04c6579d-0d40-4c65-b04c-ab92fedb5aeb",
   "metadata": {},
   "outputs": [],
   "source": [
    "df=df_ratings_top.copy()\n",
    "reader = Reader(rating_scale=(1, 10))\n",
    "data = Dataset.load_from_df(df[['user_id', 'isbn', 'book_rating']], reader)"
   ]
  },
  {
   "cell_type": "code",
   "execution_count": 85,
   "id": "4a97e15a-ca1c-47e1-84f6-0e8637d6c2f8",
   "metadata": {},
   "outputs": [
    {
     "data": {
      "text/plain": [
       "test_rmse    1.600730\n",
       "test_mae     1.238789\n",
       "fit_time     0.780155\n",
       "test_time    0.209796\n",
       "dtype: float64"
      ]
     },
     "execution_count": 85,
     "metadata": {},
     "output_type": "execute_result"
    }
   ],
   "source": [
    "model_svd = SVD()\n",
    "cv_results_svd = cross_validate(model_svd, data, cv=3)\n",
    "pd.DataFrame(cv_results_svd).mean()"
   ]
  },
  {
   "cell_type": "code",
   "execution_count": 86,
   "id": "6e193c3e-9ee9-437f-8c70-7ef64609ccda",
   "metadata": {},
   "outputs": [
    {
     "data": {
      "text/plain": [
       "test_rmse    2.618182\n",
       "test_mae     2.234164\n",
       "fit_time     2.039286\n",
       "test_time    0.093099\n",
       "dtype: float64"
      ]
     },
     "execution_count": 86,
     "metadata": {},
     "output_type": "execute_result"
    }
   ],
   "source": [
    "model_nmf = NMF()\n",
    "cv_results_nmf = cross_validate(model_nmf, data, cv=3)\n",
    "pd.DataFrame(cv_results_nmf).mean()"
   ]
  },
  {
   "cell_type": "markdown",
   "id": "053fb9de-5aed-4529-bd28-8065ce238775",
   "metadata": {},
   "source": [
    "For the given dataset, SVD performs better than NMF in terms of both accuracy and efficiency.\n",
    "\n",
    "Higher Accuracy: SVD captures more complex user-book relationships, leading to better predictions.\n",
    "Faster Training & Testing: SVD efficiently handles missing values, making it computationally more efficient.\n",
    "Better Generalization: It balances latent factors effectively, reducing overfitting compared to NMF.\n",
    "\n",
    "Thus, SVD is the preferred choice for this dataset due to its superior performance in recommendation quality and speed"
   ]
  },
  {
   "cell_type": "markdown",
   "id": "14730fa5-a635-4623-a1a3-f059877bb0ec",
   "metadata": {},
   "source": [
    "Optimization of the SVD Algorithm using Grid Search Cross-Validation\n",
    "Grid Search Cross-Validation helps fine-tune the hyperparameters of the SVD model by testing different combinations to find the best configuration. It evaluates performance using accuracy metrics over multiple validation sets.\n",
    "\n",
    "Key Parameters Tuned:\n",
    "\n",
    "n_factors: Number of latent factors capturing user-book interactions.\n",
    "\n",
    "n_epochs: Number of iterations for model training.\n",
    "\n",
    "lr_all: Learning rate controlling how weights are updated.\n",
    "\n",
    "reg_all: Regularization term to prevent overfitting.\n",
    "As a result, regarding the majority of parameters, the default setting is the most optimal one. The improvement obtained with Grid Search is very small.\n",
    "\n"
   ]
  },
  {
   "cell_type": "code",
   "execution_count": 87,
   "id": "52185d40-052e-4966-a154-81484dea6d6a",
   "metadata": {},
   "outputs": [
    {
     "name": "stdout",
     "output_type": "stream",
     "text": [
      "1.5940695532304971\n",
      "{'n_factors': 80, 'n_epochs': 20, 'lr_all': 0.005, 'reg_all': 0.2}\n"
     ]
    }
   ],
   "source": [
    "param_grid = {'n_factors': [80,100],\n",
    "              'n_epochs': [5, 20],\n",
    "              'lr_all': [0.002, 0.005],\n",
    "              'reg_all': [0.2, 0.4]}\n",
    "\n",
    "gs = GridSearchCV(SVD, param_grid, measures=['rmse', 'mae'], cv=3)\n",
    "gs.fit(data)\n",
    "\n",
    "print(gs.best_score['rmse'])\n",
    "print(gs.best_params['rmse'])"
   ]
  },
  {
   "cell_type": "code",
   "execution_count": 88,
   "id": "fd6ce16e-5a8d-45f3-9dfd-d751e06eaf54",
   "metadata": {},
   "outputs": [],
   "source": [
    "trainset, testset = train_test_split(data, test_size=0.2)\n",
    "\n",
    "model = SVD(n_factors=80, n_epochs=20, lr_all=0.005, reg_all=0.2)\n",
    "model.fit(trainset)\n",
    "predictions = model.test(testset)"
   ]
  },
  {
   "cell_type": "code",
   "execution_count": 89,
   "id": "fbc06274-aabf-4bee-bafa-13f99876ea6a",
   "metadata": {},
   "outputs": [
    {
     "data": {
      "text/html": [
       "<div>\n",
       "<style scoped>\n",
       "    .dataframe tbody tr th:only-of-type {\n",
       "        vertical-align: middle;\n",
       "    }\n",
       "\n",
       "    .dataframe tbody tr th {\n",
       "        vertical-align: top;\n",
       "    }\n",
       "\n",
       "    .dataframe thead th {\n",
       "        text-align: right;\n",
       "    }\n",
       "</style>\n",
       "<table border=\"1\" class=\"dataframe\">\n",
       "  <thead>\n",
       "    <tr style=\"text-align: right;\">\n",
       "      <th></th>\n",
       "      <th>user_id</th>\n",
       "      <th>isbn</th>\n",
       "      <th>actual_rating</th>\n",
       "      <th>pred_rating</th>\n",
       "      <th>impossible</th>\n",
       "      <th>pred_rating_round</th>\n",
       "      <th>abs_err</th>\n",
       "    </tr>\n",
       "  </thead>\n",
       "  <tbody>\n",
       "    <tr>\n",
       "      <th>10785</th>\n",
       "      <td>98758</td>\n",
       "      <td>0380723336</td>\n",
       "      <td>8.0</td>\n",
       "      <td>7.957943</td>\n",
       "      <td>False</td>\n",
       "      <td>8.0</td>\n",
       "      <td>0.042057</td>\n",
       "    </tr>\n",
       "    <tr>\n",
       "      <th>10102</th>\n",
       "      <td>49889</td>\n",
       "      <td>1888054557</td>\n",
       "      <td>10.0</td>\n",
       "      <td>9.032159</td>\n",
       "      <td>False</td>\n",
       "      <td>9.0</td>\n",
       "      <td>0.967841</td>\n",
       "    </tr>\n",
       "    <tr>\n",
       "      <th>10815</th>\n",
       "      <td>227250</td>\n",
       "      <td>1551669633</td>\n",
       "      <td>10.0</td>\n",
       "      <td>9.226169</td>\n",
       "      <td>False</td>\n",
       "      <td>9.0</td>\n",
       "      <td>0.773831</td>\n",
       "    </tr>\n",
       "    <tr>\n",
       "      <th>9835</th>\n",
       "      <td>177556</td>\n",
       "      <td>3612275127</td>\n",
       "      <td>9.0</td>\n",
       "      <td>6.987728</td>\n",
       "      <td>False</td>\n",
       "      <td>7.0</td>\n",
       "      <td>2.012272</td>\n",
       "    </tr>\n",
       "    <tr>\n",
       "      <th>17270</th>\n",
       "      <td>31556</td>\n",
       "      <td>0061097853</td>\n",
       "      <td>7.0</td>\n",
       "      <td>7.628474</td>\n",
       "      <td>False</td>\n",
       "      <td>8.0</td>\n",
       "      <td>0.628474</td>\n",
       "    </tr>\n",
       "  </tbody>\n",
       "</table>\n",
       "</div>"
      ],
      "text/plain": [
       "       user_id        isbn  actual_rating  pred_rating  impossible  \\\n",
       "10785    98758  0380723336            8.0     7.957943       False   \n",
       "10102    49889  1888054557           10.0     9.032159       False   \n",
       "10815   227250  1551669633           10.0     9.226169       False   \n",
       "9835    177556  3612275127            9.0     6.987728       False   \n",
       "17270    31556  0061097853            7.0     7.628474       False   \n",
       "\n",
       "       pred_rating_round   abs_err  \n",
       "10785                8.0  0.042057  \n",
       "10102                9.0  0.967841  \n",
       "10815                9.0  0.773831  \n",
       "9835                 7.0  2.012272  \n",
       "17270                8.0  0.628474  "
      ]
     },
     "execution_count": 89,
     "metadata": {},
     "output_type": "execute_result"
    }
   ],
   "source": [
    "df_pred = pd.DataFrame(predictions, columns=['user_id', 'isbn', 'actual_rating', 'pred_rating', 'details'])\n",
    "df_pred['impossible'] = df_pred['details'].apply(lambda x: x['was_impossible'])\n",
    "df_pred['pred_rating_round'] = df_pred['pred_rating'].round()\n",
    "df_pred['abs_err'] = abs(df_pred['pred_rating'] - df_pred['actual_rating'])\n",
    "df_pred.drop(['details'], axis=1, inplace=True)\n",
    "df_pred.sample(5)"
   ]
  },
  {
   "cell_type": "markdown",
   "id": "dd8956a6-69fa-42de-8011-db356e084b09",
   "metadata": {},
   "source": [
    "Distribution of actual and predicted ratings in the test set"
   ]
  },
  {
   "cell_type": "code",
   "execution_count": 90,
   "id": "99c5c665-47ee-4b04-a2ac-6fc81a281c54",
   "metadata": {},
   "outputs": [
    {
     "data": {
      "image/png": "[encoded data removed]",
      "text/plain": [
       "<Figure size 1400x400 with 2 Axes>"
      ]
     },
     "metadata": {},
     "output_type": "display_data"
    }
   ],
   "source": [
    "import matplotlib.pyplot as plt\n",
    "import seaborn as sns\n",
    "\n",
    "# Define the color palette\n",
    "palette = sns.color_palette(\"RdBu\", 10)\n",
    "\n",
    "# Set figure size\n",
    "fig, (ax1, ax2) = plt.subplots(nrows=1, ncols=2, figsize=(14, 4))\n",
    "\n",
    "# Plot actual ratings\n",
    "df_pred['actual_rating'].value_counts().sort_index().plot(kind='bar', color=palette, ax=ax1)\n",
    "ax1.set_title('Distribution of Actual Ratings')\n",
    "ax1.set_xlabel('Rating')\n",
    "ax1.set_ylabel('Count')\n",
    "\n",
    "# Plot predicted ratings\n",
    "df_pred['pred_rating_round'].value_counts().sort_index().plot(kind='bar', color=palette, ax=ax2)\n",
    "ax2.set_title('Distribution of Predicted Ratings')\n",
    "ax2.set_xlabel('Rating')\n",
    "ax2.set_ylabel('Count')\n",
    "\n",
    "plt.show()\n"
   ]
  },
  {
   "cell_type": "markdown",
   "id": "b7cc462d-4b49-4c24-b5f0-3edb50c02bfa",
   "metadata": {},
   "source": [
    "Absolute error of predicted ratings\n"
   ]
  },
  {
   "cell_type": "code",
   "execution_count": 91,
   "id": "13ef2fe6-84bd-4157-9660-6dcd5e10341a",
   "metadata": {},
   "outputs": [
    {
     "data": {
      "image/png": "[encoded data removed]",
      "text/plain": [
       "<Figure size 1400x400 with 2 Axes>"
      ]
     },
     "metadata": {},
     "output_type": "display_data"
    }
   ],
   "source": [
    "import matplotlib.pyplot as plt\n",
    "import seaborn as sns\n",
    "\n",
    "# Compute Mean Absolute Error for each actual rating\n",
    "df_pred_err = df_pred.groupby('actual_rating')['abs_err'].mean().reset_index()\n",
    "\n",
    "# Set figure size\n",
    "fig, (ax1, ax2) = plt.subplots(nrows=1, ncols=2, figsize=(14, 4))\n",
    "\n",
    "# Histogram for absolute error distribution\n",
    "ax1.hist(df_pred['abs_err'], bins=20, color='#2f6194', edgecolor='black', alpha=0.7)\n",
    "ax1.set_title('Distribution of Absolute Error in Test Set')\n",
    "ax1.set_xlabel('Absolute Error')\n",
    "ax1.set_ylabel('Frequency')\n",
    "\n",
    "# Line plot for mean absolute error per rating\n",
    "ax2.plot(df_pred_err['actual_rating'], df_pred_err['abs_err'], marker='o', linestyle='-', color='red')\n",
    "ax2.set_title('Mean Absolute Error for Each Rating')\n",
    "ax2.set_xlabel('Actual Rating')\n",
    "ax2.set_ylabel('Mean Absolute Error')\n",
    "ax2.grid(True)\n",
    "\n",
    "plt.show()\n"
   ]
  },
  {
   "cell_type": "markdown",
   "id": "63e850b8-f343-4c78-a809-9748c2071641",
   "metadata": {},
   "source": [
    "Overall, the model performs well, with small errors for most ratings.\n",
    "\n",
    "Higher errors for extreme ratings suggest that the model may need more data or better regularization.\n",
    "\n",
    "Further fine-tuning (adjusting latent factors or adding bias terms) could help improve performance on extreme ratings."
   ]
  },
  {
   "cell_type": "code",
   "execution_count": 92,
   "id": "ebcfa85f-4421-4aec-afff-64059c707921",
   "metadata": {},
   "outputs": [],
   "source": [
    "df_books = books.copy()\n",
    "df_books.rename(columns = {'ISBN':'isbn' ,'Book-Title':'book_title'},inplace=True)\n",
    "df_ext = df.merge(df_books[['isbn', 'book_title']], on='isbn', how='left')\n",
    "df_ext = df_ext.merge(df_pred[['isbn', 'user_id', 'pred_rating']], on=['isbn', 'user_id'], how='left')"
   ]
  },
  {
   "cell_type": "markdown",
   "id": "ac989289-1297-470f-8ba8-fdb4893e8c34",
   "metadata": {},
   "source": [
    "###Train set: Top rated books"
   ]
  },
  {
   "cell_type": "code",
   "execution_count": 93,
   "id": "c24cd003-f4b0-498e-8d9d-90d01dfe3ef7",
   "metadata": {},
   "outputs": [
    {
     "data": {
      "text/html": [
       "<div>\n",
       "<style scoped>\n",
       "    .dataframe tbody tr th:only-of-type {\n",
       "        vertical-align: middle;\n",
       "    }\n",
       "\n",
       "    .dataframe tbody tr th {\n",
       "        vertical-align: top;\n",
       "    }\n",
       "\n",
       "    .dataframe thead th {\n",
       "        text-align: right;\n",
       "    }\n",
       "</style>\n",
       "<table border=\"1\" class=\"dataframe\">\n",
       "  <thead>\n",
       "    <tr style=\"text-align: right;\">\n",
       "      <th></th>\n",
       "      <th>user_id</th>\n",
       "      <th>isbn</th>\n",
       "      <th>book_rating</th>\n",
       "      <th>Avg_Rating</th>\n",
       "      <th>Total_No_Of_Users_Rated</th>\n",
       "      <th>book_title</th>\n",
       "      <th>pred_rating</th>\n",
       "    </tr>\n",
       "  </thead>\n",
       "  <tbody>\n",
       "    <tr>\n",
       "      <th>113619</th>\n",
       "      <td>193458</td>\n",
       "      <td>0671880314</td>\n",
       "      <td>9</td>\n",
       "      <td>8.305556</td>\n",
       "      <td>36</td>\n",
       "      <td>Schindler's List</td>\n",
       "      <td>NaN</td>\n",
       "    </tr>\n",
       "    <tr>\n",
       "      <th>113587</th>\n",
       "      <td>193458</td>\n",
       "      <td>0142001740</td>\n",
       "      <td>9</td>\n",
       "      <td>8.452769</td>\n",
       "      <td>307</td>\n",
       "      <td>The Secret Life of Bees</td>\n",
       "      <td>NaN</td>\n",
       "    </tr>\n",
       "    <tr>\n",
       "      <th>113578</th>\n",
       "      <td>193458</td>\n",
       "      <td>0064471063</td>\n",
       "      <td>9</td>\n",
       "      <td>8.518519</td>\n",
       "      <td>27</td>\n",
       "      <td>The Horse and His Boy</td>\n",
       "      <td>NaN</td>\n",
       "    </tr>\n",
       "    <tr>\n",
       "      <th>113599</th>\n",
       "      <td>193458</td>\n",
       "      <td>0345431057</td>\n",
       "      <td>9</td>\n",
       "      <td>9.125000</td>\n",
       "      <td>8</td>\n",
       "      <td>Slaves in the Family (Ballantine Reader's Circle)</td>\n",
       "      <td>NaN</td>\n",
       "    </tr>\n",
       "    <tr>\n",
       "      <th>113615</th>\n",
       "      <td>193458</td>\n",
       "      <td>0553258001</td>\n",
       "      <td>9</td>\n",
       "      <td>8.236842</td>\n",
       "      <td>38</td>\n",
       "      <td>The Cider House Rules</td>\n",
       "      <td>NaN</td>\n",
       "    </tr>\n",
       "    <tr>\n",
       "      <th>113585</th>\n",
       "      <td>193458</td>\n",
       "      <td>0140620125</td>\n",
       "      <td>9</td>\n",
       "      <td>8.133333</td>\n",
       "      <td>15</td>\n",
       "      <td>Wuthering Heights (Penguin Popular Classics)</td>\n",
       "      <td>NaN</td>\n",
       "    </tr>\n",
       "    <tr>\n",
       "      <th>113579</th>\n",
       "      <td>193458</td>\n",
       "      <td>0064471071</td>\n",
       "      <td>9</td>\n",
       "      <td>8.733333</td>\n",
       "      <td>15</td>\n",
       "      <td>The Voyage of the Dawn Treader (rack) (Narnia)</td>\n",
       "      <td>NaN</td>\n",
       "    </tr>\n",
       "    <tr>\n",
       "      <th>113583</th>\n",
       "      <td>193458</td>\n",
       "      <td>014011369X</td>\n",
       "      <td>9</td>\n",
       "      <td>9.125000</td>\n",
       "      <td>8</td>\n",
       "      <td>And the Band Played on: Politics, People, and ...</td>\n",
       "      <td>NaN</td>\n",
       "    </tr>\n",
       "    <tr>\n",
       "      <th>113630</th>\n",
       "      <td>193458</td>\n",
       "      <td>1853260169</td>\n",
       "      <td>10</td>\n",
       "      <td>8.153846</td>\n",
       "      <td>13</td>\n",
       "      <td>Sense and Sensibility (Wordsworth Classics)</td>\n",
       "      <td>NaN</td>\n",
       "    </tr>\n",
       "    <tr>\n",
       "      <th>113593</th>\n",
       "      <td>193458</td>\n",
       "      <td>0345342569</td>\n",
       "      <td>9</td>\n",
       "      <td>7.947368</td>\n",
       "      <td>19</td>\n",
       "      <td>Shoeless Joe</td>\n",
       "      <td>NaN</td>\n",
       "    </tr>\n",
       "  </tbody>\n",
       "</table>\n",
       "</div>"
      ],
      "text/plain": [
       "        user_id        isbn  book_rating  Avg_Rating  Total_No_Of_Users_Rated  \\\n",
       "113619   193458  0671880314            9    8.305556                       36   \n",
       "113587   193458  0142001740            9    8.452769                      307   \n",
       "113578   193458  0064471063            9    8.518519                       27   \n",
       "113599   193458  0345431057            9    9.125000                        8   \n",
       "113615   193458  0553258001            9    8.236842                       38   \n",
       "113585   193458  0140620125            9    8.133333                       15   \n",
       "113579   193458  0064471071            9    8.733333                       15   \n",
       "113583   193458  014011369X            9    9.125000                        8   \n",
       "113630   193458  1853260169           10    8.153846                       13   \n",
       "113593   193458  0345342569            9    7.947368                       19   \n",
       "\n",
       "                                               book_title  pred_rating  \n",
       "113619                                   Schindler's List          NaN  \n",
       "113587                            The Secret Life of Bees          NaN  \n",
       "113578                              The Horse and His Boy          NaN  \n",
       "113599  Slaves in the Family (Ballantine Reader's Circle)          NaN  \n",
       "113615                              The Cider House Rules          NaN  \n",
       "113585       Wuthering Heights (Penguin Popular Classics)          NaN  \n",
       "113579     The Voyage of the Dawn Treader (rack) (Narnia)          NaN  \n",
       "113583  And the Band Played on: Politics, People, and ...          NaN  \n",
       "113630        Sense and Sensibility (Wordsworth Classics)          NaN  \n",
       "113593                                       Shoeless Joe          NaN  "
      ]
     },
     "execution_count": 93,
     "metadata": {},
     "output_type": "execute_result"
    }
   ],
   "source": [
    "selected_user_id = 193458\n",
    "df_user = df_ext[df_ext['user_id']==selected_user_id]\n",
    "\n",
    "df_user[(df_user['pred_rating'].isna())&(df_user['book_rating']>=9)].sample(10)"
   ]
  },
  {
   "cell_type": "markdown",
   "id": "b7634c0f-d090-4c17-8282-99141b0b6c1f",
   "metadata": {},
   "source": [
    "####Test set: predicted top rated books"
   ]
  },
  {
   "cell_type": "code",
   "execution_count": 94,
   "id": "acb08bf3-2324-47c4-9ce1-67e3b590baf1",
   "metadata": {},
   "outputs": [
    {
     "data": {
      "text/html": [
       "<div>\n",
       "<style scoped>\n",
       "    .dataframe tbody tr th:only-of-type {\n",
       "        vertical-align: middle;\n",
       "    }\n",
       "\n",
       "    .dataframe tbody tr th {\n",
       "        vertical-align: top;\n",
       "    }\n",
       "\n",
       "    .dataframe thead th {\n",
       "        text-align: right;\n",
       "    }\n",
       "</style>\n",
       "<table border=\"1\" class=\"dataframe\">\n",
       "  <thead>\n",
       "    <tr style=\"text-align: right;\">\n",
       "      <th></th>\n",
       "      <th>user_id</th>\n",
       "      <th>isbn</th>\n",
       "      <th>book_rating</th>\n",
       "      <th>Avg_Rating</th>\n",
       "      <th>Total_No_Of_Users_Rated</th>\n",
       "      <th>book_title</th>\n",
       "      <th>pred_rating</th>\n",
       "    </tr>\n",
       "  </thead>\n",
       "  <tbody>\n",
       "    <tr>\n",
       "      <th>113598</th>\n",
       "      <td>193458</td>\n",
       "      <td>0345424719</td>\n",
       "      <td>8</td>\n",
       "      <td>8.017544</td>\n",
       "      <td>57</td>\n",
       "      <td>A Widow for One Year</td>\n",
       "      <td>8.164297</td>\n",
       "    </tr>\n",
       "    <tr>\n",
       "      <th>113581</th>\n",
       "      <td>193458</td>\n",
       "      <td>0064471098</td>\n",
       "      <td>9</td>\n",
       "      <td>8.733333</td>\n",
       "      <td>15</td>\n",
       "      <td>The Silver Chair</td>\n",
       "      <td>8.012335</td>\n",
       "    </tr>\n",
       "    <tr>\n",
       "      <th>113631</th>\n",
       "      <td>193458</td>\n",
       "      <td>1853260622</td>\n",
       "      <td>5</td>\n",
       "      <td>8.272727</td>\n",
       "      <td>11</td>\n",
       "      <td>War and Peace (Wordsworth Classics)</td>\n",
       "      <td>7.995241</td>\n",
       "    </tr>\n",
       "    <tr>\n",
       "      <th>113628</th>\n",
       "      <td>193458</td>\n",
       "      <td>1853260002</td>\n",
       "      <td>10</td>\n",
       "      <td>8.217391</td>\n",
       "      <td>23</td>\n",
       "      <td>Pride &amp;amp; Prejudice (Wordsworth Classics)</td>\n",
       "      <td>7.984513</td>\n",
       "    </tr>\n",
       "    <tr>\n",
       "      <th>113622</th>\n",
       "      <td>193458</td>\n",
       "      <td>0767904133</td>\n",
       "      <td>8</td>\n",
       "      <td>7.777778</td>\n",
       "      <td>9</td>\n",
       "      <td>Close to Shore: A True Story of Terror in an A...</td>\n",
       "      <td>7.841696</td>\n",
       "    </tr>\n",
       "  </tbody>\n",
       "</table>\n",
       "</div>"
      ],
      "text/plain": [
       "        user_id        isbn  book_rating  Avg_Rating  Total_No_Of_Users_Rated  \\\n",
       "113598   193458  0345424719            8    8.017544                       57   \n",
       "113581   193458  0064471098            9    8.733333                       15   \n",
       "113631   193458  1853260622            5    8.272727                       11   \n",
       "113628   193458  1853260002           10    8.217391                       23   \n",
       "113622   193458  0767904133            8    7.777778                        9   \n",
       "\n",
       "                                               book_title  pred_rating  \n",
       "113598                               A Widow for One Year     8.164297  \n",
       "113581                                   The Silver Chair     8.012335  \n",
       "113631                War and Peace (Wordsworth Classics)     7.995241  \n",
       "113628        Pride &amp; Prejudice (Wordsworth Classics)     7.984513  \n",
       "113622  Close to Shore: A True Story of Terror in an A...     7.841696  "
      ]
     },
     "execution_count": 94,
     "metadata": {},
     "output_type": "execute_result"
    }
   ],
   "source": [
    "df_user[df_user['pred_rating'].notna()].sort_values('pred_rating', ascending=False).head(5)"
   ]
  },
  {
   "cell_type": "markdown",
   "id": "8383643d-ccd8-4171-90c5-d188e11c3baa",
   "metadata": {},
   "source": [
    "####Test set: actual top rated books"
   ]
  },
  {
   "cell_type": "code",
   "execution_count": 95,
   "id": "e6b2b132-328c-4b4f-8dd0-7f24739e7b02",
   "metadata": {},
   "outputs": [
    {
     "data": {
      "text/html": [
       "<div>\n",
       "<style scoped>\n",
       "    .dataframe tbody tr th:only-of-type {\n",
       "        vertical-align: middle;\n",
       "    }\n",
       "\n",
       "    .dataframe tbody tr th {\n",
       "        vertical-align: top;\n",
       "    }\n",
       "\n",
       "    .dataframe thead th {\n",
       "        text-align: right;\n",
       "    }\n",
       "</style>\n",
       "<table border=\"1\" class=\"dataframe\">\n",
       "  <thead>\n",
       "    <tr style=\"text-align: right;\">\n",
       "      <th></th>\n",
       "      <th>user_id</th>\n",
       "      <th>isbn</th>\n",
       "      <th>book_rating</th>\n",
       "      <th>Avg_Rating</th>\n",
       "      <th>Total_No_Of_Users_Rated</th>\n",
       "      <th>book_title</th>\n",
       "      <th>pred_rating</th>\n",
       "    </tr>\n",
       "  </thead>\n",
       "  <tbody>\n",
       "    <tr>\n",
       "      <th>113628</th>\n",
       "      <td>193458</td>\n",
       "      <td>1853260002</td>\n",
       "      <td>10</td>\n",
       "      <td>8.217391</td>\n",
       "      <td>23</td>\n",
       "      <td>Pride &amp;amp; Prejudice (Wordsworth Classics)</td>\n",
       "      <td>7.984513</td>\n",
       "    </tr>\n",
       "    <tr>\n",
       "      <th>113581</th>\n",
       "      <td>193458</td>\n",
       "      <td>0064471098</td>\n",
       "      <td>9</td>\n",
       "      <td>8.733333</td>\n",
       "      <td>15</td>\n",
       "      <td>The Silver Chair</td>\n",
       "      <td>8.012335</td>\n",
       "    </tr>\n",
       "    <tr>\n",
       "      <th>113584</th>\n",
       "      <td>193458</td>\n",
       "      <td>0140298479</td>\n",
       "      <td>9</td>\n",
       "      <td>7.539823</td>\n",
       "      <td>113</td>\n",
       "      <td>Bridget Jones: The Edge of Reason</td>\n",
       "      <td>7.652564</td>\n",
       "    </tr>\n",
       "    <tr>\n",
       "      <th>113592</th>\n",
       "      <td>193458</td>\n",
       "      <td>0330352695</td>\n",
       "      <td>9</td>\n",
       "      <td>7.615385</td>\n",
       "      <td>13</td>\n",
       "      <td>Four Letters of Love</td>\n",
       "      <td>7.575940</td>\n",
       "    </tr>\n",
       "    <tr>\n",
       "      <th>113590</th>\n",
       "      <td>193458</td>\n",
       "      <td>0316569321</td>\n",
       "      <td>8</td>\n",
       "      <td>7.500000</td>\n",
       "      <td>120</td>\n",
       "      <td>White Oleander : A Novel</td>\n",
       "      <td>7.488372</td>\n",
       "    </tr>\n",
       "  </tbody>\n",
       "</table>\n",
       "</div>"
      ],
      "text/plain": [
       "        user_id        isbn  book_rating  Avg_Rating  Total_No_Of_Users_Rated  \\\n",
       "113628   193458  1853260002           10    8.217391                       23   \n",
       "113581   193458  0064471098            9    8.733333                       15   \n",
       "113584   193458  0140298479            9    7.539823                      113   \n",
       "113592   193458  0330352695            9    7.615385                       13   \n",
       "113590   193458  0316569321            8    7.500000                      120   \n",
       "\n",
       "                                         book_title  pred_rating  \n",
       "113628  Pride &amp; Prejudice (Wordsworth Classics)     7.984513  \n",
       "113581                             The Silver Chair     8.012335  \n",
       "113584            Bridget Jones: The Edge of Reason     7.652564  \n",
       "113592                         Four Letters of Love     7.575940  \n",
       "113590                     White Oleander : A Novel     7.488372  "
      ]
     },
     "execution_count": 95,
     "metadata": {},
     "output_type": "execute_result"
    }
   ],
   "source": [
    "df_user[df_user['pred_rating'].notna()].sort_values('book_rating', ascending=False).head(5)"
   ]
  },
  {
   "cell_type": "markdown",
   "id": "702b8097-8a9f-4ea8-8aa5-8fd92617e4cc",
   "metadata": {},
   "source": [
    "Recommendation System Using Item-Based Collaborative Filtering"
   ]
  },
  {
   "cell_type": "code",
   "execution_count": 100,
   "id": "e98ee94e-d9ce-499c-8841-78209cbe91af",
   "metadata": {},
   "outputs": [],
   "source": [
    "from sklearn.neighbors import NearestNeighbors\n",
    "from scipy.spatial.distance import correlation\n",
    "from sklearn.metrics.pairwise import pairwise_distances\n",
    "import ipywidgets as widgets\n",
    "from IPython.display import display, clear_output\n",
    "from contextlib import contextmanager\n",
    "import numpy as np\n",
    "import os, sys\n",
    "import re\n",
    "from scipy.sparse import csr_matrix"
   ]
  },
  {
   "cell_type": "code",
   "execution_count": 101,
   "id": "543543c5-d2f7-45d2-b661-d9db32b874c5",
   "metadata": {},
   "outputs": [
    {
     "data": {
      "text/html": [
       "<div>\n",
       "<style scoped>\n",
       "    .dataframe tbody tr th:only-of-type {\n",
       "        vertical-align: middle;\n",
       "    }\n",
       "\n",
       "    .dataframe tbody tr th {\n",
       "        vertical-align: top;\n",
       "    }\n",
       "\n",
       "    .dataframe thead th {\n",
       "        text-align: right;\n",
       "    }\n",
       "</style>\n",
       "<table border=\"1\" class=\"dataframe\">\n",
       "  <thead>\n",
       "    <tr style=\"text-align: right;\">\n",
       "      <th></th>\n",
       "      <th>user_id</th>\n",
       "      <th>isbn</th>\n",
       "      <th>book_rating</th>\n",
       "      <th>Avg_Rating</th>\n",
       "      <th>Total_No_Of_Users_Rated</th>\n",
       "    </tr>\n",
       "  </thead>\n",
       "  <tbody>\n",
       "    <tr>\n",
       "      <th>16</th>\n",
       "      <td>276747</td>\n",
       "      <td>0060517794</td>\n",
       "      <td>9</td>\n",
       "      <td>8.000000</td>\n",
       "      <td>30</td>\n",
       "    </tr>\n",
       "    <tr>\n",
       "      <th>19</th>\n",
       "      <td>276747</td>\n",
       "      <td>0671537458</td>\n",
       "      <td>9</td>\n",
       "      <td>7.176471</td>\n",
       "      <td>17</td>\n",
       "    </tr>\n",
       "    <tr>\n",
       "      <th>20</th>\n",
       "      <td>276747</td>\n",
       "      <td>0679776818</td>\n",
       "      <td>8</td>\n",
       "      <td>7.476190</td>\n",
       "      <td>21</td>\n",
       "    </tr>\n",
       "    <tr>\n",
       "      <th>59</th>\n",
       "      <td>276772</td>\n",
       "      <td>0553572369</td>\n",
       "      <td>7</td>\n",
       "      <td>6.625000</td>\n",
       "      <td>8</td>\n",
       "    </tr>\n",
       "    <tr>\n",
       "      <th>61</th>\n",
       "      <td>276772</td>\n",
       "      <td>3499230933</td>\n",
       "      <td>10</td>\n",
       "      <td>7.166667</td>\n",
       "      <td>6</td>\n",
       "    </tr>\n",
       "  </tbody>\n",
       "</table>\n",
       "</div>"
      ],
      "text/plain": [
       "    user_id        isbn  book_rating  Avg_Rating  Total_No_Of_Users_Rated\n",
       "16   276747  0060517794            9    8.000000                       30\n",
       "19   276747  0671537458            9    7.176471                       17\n",
       "20   276747  0679776818            8    7.476190                       21\n",
       "59   276772  0553572369            7    6.625000                        8\n",
       "61   276772  3499230933           10    7.166667                        6"
      ]
     },
     "execution_count": 101,
     "metadata": {},
     "output_type": "execute_result"
    }
   ],
   "source": [
    "df_ratings_top.head()"
   ]
  },
  {
   "cell_type": "code",
   "execution_count": 102,
   "id": "9cbe231a-fb30-424e-b3c7-68029dd123c9",
   "metadata": {},
   "outputs": [],
   "source": [
    "df_ratings_top.rename(columns={'user_id':'userID' ,'isbn':'ISBN','book_rating':'bookRating'},inplace=True)"
   ]
  },
  {
   "cell_type": "code",
   "execution_count": 103,
   "id": "2cdb92fa-42c5-4711-a562-b246ce714572",
   "metadata": {},
   "outputs": [
    {
     "data": {
      "text/html": [
       "<div>\n",
       "<style scoped>\n",
       "    .dataframe tbody tr th:only-of-type {\n",
       "        vertical-align: middle;\n",
       "    }\n",
       "\n",
       "    .dataframe tbody tr th {\n",
       "        vertical-align: top;\n",
       "    }\n",
       "\n",
       "    .dataframe thead th {\n",
       "        text-align: right;\n",
       "    }\n",
       "</style>\n",
       "<table border=\"1\" class=\"dataframe\">\n",
       "  <thead>\n",
       "    <tr style=\"text-align: right;\">\n",
       "      <th></th>\n",
       "      <th>userID</th>\n",
       "      <th>ISBN</th>\n",
       "      <th>bookRating</th>\n",
       "      <th>Avg_Rating</th>\n",
       "      <th>Total_No_Of_Users_Rated</th>\n",
       "    </tr>\n",
       "  </thead>\n",
       "  <tbody>\n",
       "    <tr>\n",
       "      <th>16</th>\n",
       "      <td>276747</td>\n",
       "      <td>0060517794</td>\n",
       "      <td>9</td>\n",
       "      <td>8.000000</td>\n",
       "      <td>30</td>\n",
       "    </tr>\n",
       "    <tr>\n",
       "      <th>19</th>\n",
       "      <td>276747</td>\n",
       "      <td>0671537458</td>\n",
       "      <td>9</td>\n",
       "      <td>7.176471</td>\n",
       "      <td>17</td>\n",
       "    </tr>\n",
       "    <tr>\n",
       "      <th>20</th>\n",
       "      <td>276747</td>\n",
       "      <td>0679776818</td>\n",
       "      <td>8</td>\n",
       "      <td>7.476190</td>\n",
       "      <td>21</td>\n",
       "    </tr>\n",
       "    <tr>\n",
       "      <th>59</th>\n",
       "      <td>276772</td>\n",
       "      <td>0553572369</td>\n",
       "      <td>7</td>\n",
       "      <td>6.625000</td>\n",
       "      <td>8</td>\n",
       "    </tr>\n",
       "    <tr>\n",
       "      <th>61</th>\n",
       "      <td>276772</td>\n",
       "      <td>3499230933</td>\n",
       "      <td>10</td>\n",
       "      <td>7.166667</td>\n",
       "      <td>6</td>\n",
       "    </tr>\n",
       "  </tbody>\n",
       "</table>\n",
       "</div>"
      ],
      "text/plain": [
       "    userID        ISBN  bookRating  Avg_Rating  Total_No_Of_Users_Rated\n",
       "16  276747  0060517794           9    8.000000                       30\n",
       "19  276747  0671537458           9    7.176471                       17\n",
       "20  276747  0679776818           8    7.476190                       21\n",
       "59  276772  0553572369           7    6.625000                        8\n",
       "61  276772  3499230933          10    7.166667                        6"
      ]
     },
     "execution_count": 103,
     "metadata": {},
     "output_type": "execute_result"
    }
   ],
   "source": [
    "df_ratings_top.head()"
   ]
  },
  {
   "cell_type": "markdown",
   "id": "f80e4109-5a30-4463-8ebf-54188b2800bc",
   "metadata": {},
   "source": [
    "#Implementing KNN"
   ]
  },
  {
   "cell_type": "code",
   "execution_count": 104,
   "id": "f2901684-ed63-4293-bdd0-93f2626c37db",
   "metadata": {},
   "outputs": [
    {
     "name": "stdout",
     "output_type": "stream",
     "text": [
      "(18549, 13740)\n"
     ]
    },
    {
     "data": {
      "text/html": [
       "<div>\n",
       "<style scoped>\n",
       "    .dataframe tbody tr th:only-of-type {\n",
       "        vertical-align: middle;\n",
       "    }\n",
       "\n",
       "    .dataframe tbody tr th {\n",
       "        vertical-align: top;\n",
       "    }\n",
       "\n",
       "    .dataframe thead th {\n",
       "        text-align: right;\n",
       "    }\n",
       "</style>\n",
       "<table border=\"1\" class=\"dataframe\">\n",
       "  <thead>\n",
       "    <tr style=\"text-align: right;\">\n",
       "      <th>ISBN</th>\n",
       "      <th>0002005018</th>\n",
       "      <th>0002251760</th>\n",
       "      <th>0002558122</th>\n",
       "      <th>0003300277</th>\n",
       "      <th>000617616X</th>\n",
       "      <th>0006480764</th>\n",
       "      <th>000648302X</th>\n",
       "      <th>0006485200</th>\n",
       "      <th>000649840X</th>\n",
       "      <th>0006511767</th>\n",
       "      <th>...</th>\n",
       "      <th>9500723832</th>\n",
       "      <th>950491036X</th>\n",
       "      <th>9505156642</th>\n",
       "      <th>9505156944</th>\n",
       "      <th>9580464162</th>\n",
       "      <th>958704049X</th>\n",
       "      <th>9681500555</th>\n",
       "      <th>9722016563</th>\n",
       "      <th>9812327975</th>\n",
       "      <th>9871138148</th>\n",
       "    </tr>\n",
       "    <tr>\n",
       "      <th>userID</th>\n",
       "      <th></th>\n",
       "      <th></th>\n",
       "      <th></th>\n",
       "      <th></th>\n",
       "      <th></th>\n",
       "      <th></th>\n",
       "      <th></th>\n",
       "      <th></th>\n",
       "      <th></th>\n",
       "      <th></th>\n",
       "      <th></th>\n",
       "      <th></th>\n",
       "      <th></th>\n",
       "      <th></th>\n",
       "      <th></th>\n",
       "      <th></th>\n",
       "      <th></th>\n",
       "      <th></th>\n",
       "      <th></th>\n",
       "      <th></th>\n",
       "      <th></th>\n",
       "    </tr>\n",
       "  </thead>\n",
       "  <tbody>\n",
       "    <tr>\n",
       "      <th>8</th>\n",
       "      <td>5.0</td>\n",
       "      <td>NaN</td>\n",
       "      <td>NaN</td>\n",
       "      <td>NaN</td>\n",
       "      <td>NaN</td>\n",
       "      <td>NaN</td>\n",
       "      <td>NaN</td>\n",
       "      <td>NaN</td>\n",
       "      <td>NaN</td>\n",
       "      <td>NaN</td>\n",
       "      <td>...</td>\n",
       "      <td>NaN</td>\n",
       "      <td>NaN</td>\n",
       "      <td>NaN</td>\n",
       "      <td>NaN</td>\n",
       "      <td>NaN</td>\n",
       "      <td>NaN</td>\n",
       "      <td>NaN</td>\n",
       "      <td>NaN</td>\n",
       "      <td>NaN</td>\n",
       "      <td>NaN</td>\n",
       "    </tr>\n",
       "    <tr>\n",
       "      <th>17</th>\n",
       "      <td>NaN</td>\n",
       "      <td>NaN</td>\n",
       "      <td>NaN</td>\n",
       "      <td>NaN</td>\n",
       "      <td>NaN</td>\n",
       "      <td>NaN</td>\n",
       "      <td>NaN</td>\n",
       "      <td>NaN</td>\n",
       "      <td>NaN</td>\n",
       "      <td>NaN</td>\n",
       "      <td>...</td>\n",
       "      <td>NaN</td>\n",
       "      <td>NaN</td>\n",
       "      <td>NaN</td>\n",
       "      <td>NaN</td>\n",
       "      <td>NaN</td>\n",
       "      <td>NaN</td>\n",
       "      <td>NaN</td>\n",
       "      <td>NaN</td>\n",
       "      <td>NaN</td>\n",
       "      <td>NaN</td>\n",
       "    </tr>\n",
       "    <tr>\n",
       "      <th>53</th>\n",
       "      <td>NaN</td>\n",
       "      <td>NaN</td>\n",
       "      <td>NaN</td>\n",
       "      <td>NaN</td>\n",
       "      <td>NaN</td>\n",
       "      <td>NaN</td>\n",
       "      <td>NaN</td>\n",
       "      <td>NaN</td>\n",
       "      <td>NaN</td>\n",
       "      <td>NaN</td>\n",
       "      <td>...</td>\n",
       "      <td>NaN</td>\n",
       "      <td>NaN</td>\n",
       "      <td>NaN</td>\n",
       "      <td>NaN</td>\n",
       "      <td>NaN</td>\n",
       "      <td>NaN</td>\n",
       "      <td>NaN</td>\n",
       "      <td>NaN</td>\n",
       "      <td>NaN</td>\n",
       "      <td>NaN</td>\n",
       "    </tr>\n",
       "    <tr>\n",
       "      <th>92</th>\n",
       "      <td>NaN</td>\n",
       "      <td>NaN</td>\n",
       "      <td>NaN</td>\n",
       "      <td>NaN</td>\n",
       "      <td>NaN</td>\n",
       "      <td>NaN</td>\n",
       "      <td>NaN</td>\n",
       "      <td>NaN</td>\n",
       "      <td>NaN</td>\n",
       "      <td>NaN</td>\n",
       "      <td>...</td>\n",
       "      <td>NaN</td>\n",
       "      <td>NaN</td>\n",
       "      <td>NaN</td>\n",
       "      <td>NaN</td>\n",
       "      <td>NaN</td>\n",
       "      <td>NaN</td>\n",
       "      <td>NaN</td>\n",
       "      <td>NaN</td>\n",
       "      <td>NaN</td>\n",
       "      <td>NaN</td>\n",
       "    </tr>\n",
       "    <tr>\n",
       "      <th>99</th>\n",
       "      <td>NaN</td>\n",
       "      <td>NaN</td>\n",
       "      <td>NaN</td>\n",
       "      <td>NaN</td>\n",
       "      <td>NaN</td>\n",
       "      <td>NaN</td>\n",
       "      <td>NaN</td>\n",
       "      <td>NaN</td>\n",
       "      <td>NaN</td>\n",
       "      <td>NaN</td>\n",
       "      <td>...</td>\n",
       "      <td>NaN</td>\n",
       "      <td>NaN</td>\n",
       "      <td>NaN</td>\n",
       "      <td>NaN</td>\n",
       "      <td>NaN</td>\n",
       "      <td>NaN</td>\n",
       "      <td>NaN</td>\n",
       "      <td>NaN</td>\n",
       "      <td>NaN</td>\n",
       "      <td>NaN</td>\n",
       "    </tr>\n",
       "  </tbody>\n",
       "</table>\n",
       "<p>5 rows × 13740 columns</p>\n",
       "</div>"
      ],
      "text/plain": [
       "ISBN    0002005018  0002251760  0002558122  0003300277  000617616X  \\\n",
       "userID                                                               \n",
       "8              5.0         NaN         NaN         NaN         NaN   \n",
       "17             NaN         NaN         NaN         NaN         NaN   \n",
       "53             NaN         NaN         NaN         NaN         NaN   \n",
       "92             NaN         NaN         NaN         NaN         NaN   \n",
       "99             NaN         NaN         NaN         NaN         NaN   \n",
       "\n",
       "ISBN    0006480764  000648302X  0006485200  000649840X  0006511767  ...  \\\n",
       "userID                                                              ...   \n",
       "8              NaN         NaN         NaN         NaN         NaN  ...   \n",
       "17             NaN         NaN         NaN         NaN         NaN  ...   \n",
       "53             NaN         NaN         NaN         NaN         NaN  ...   \n",
       "92             NaN         NaN         NaN         NaN         NaN  ...   \n",
       "99             NaN         NaN         NaN         NaN         NaN  ...   \n",
       "\n",
       "ISBN    9500723832  950491036X  9505156642  9505156944  9580464162  \\\n",
       "userID                                                               \n",
       "8              NaN         NaN         NaN         NaN         NaN   \n",
       "17             NaN         NaN         NaN         NaN         NaN   \n",
       "53             NaN         NaN         NaN         NaN         NaN   \n",
       "92             NaN         NaN         NaN         NaN         NaN   \n",
       "99             NaN         NaN         NaN         NaN         NaN   \n",
       "\n",
       "ISBN    958704049X  9681500555  9722016563  9812327975  9871138148  \n",
       "userID                                                              \n",
       "8              NaN         NaN         NaN         NaN         NaN  \n",
       "17             NaN         NaN         NaN         NaN         NaN  \n",
       "53             NaN         NaN         NaN         NaN         NaN  \n",
       "92             NaN         NaN         NaN         NaN         NaN  \n",
       "99             NaN         NaN         NaN         NaN         NaN  \n",
       "\n",
       "[5 rows x 13740 columns]"
      ]
     },
     "execution_count": 104,
     "metadata": {},
     "output_type": "execute_result"
    }
   ],
   "source": [
    "#Generating ratings matrix from explicit ratings table\n",
    "ratings_matrix = df_ratings_top.pivot(index='userID', columns='ISBN', values='bookRating')\n",
    "userID = ratings_matrix.index\n",
    "ISBN = ratings_matrix.columns\n",
    "print(ratings_matrix.shape)\n",
    "ratings_matrix.head()\n",
    "#Notice that most of the values are NaN (undefined) implying absence of ratings"
   ]
  },
  {
   "cell_type": "code",
   "execution_count": 105,
   "id": "40a5bb5b-4a2e-4a7c-94d7-38dce36dedb1",
   "metadata": {},
   "outputs": [
    {
     "name": "stdout",
     "output_type": "stream",
     "text": [
      "18549 13740\n"
     ]
    }
   ],
   "source": [
    "n_users = ratings_matrix.shape[0] #considering only those users who gave explicit ratings\n",
    "n_books = ratings_matrix.shape[1]\n",
    "print (n_users, n_books)"
   ]
  },
  {
   "cell_type": "code",
   "execution_count": 106,
   "id": "19f3cc57-8a3f-42c0-8f0a-8b48a065a7a7",
   "metadata": {},
   "outputs": [],
   "source": [
    "ratings_matrix.fillna(0, inplace = True)\n",
    "ratings_matrix = ratings_matrix.astype(np.int32)"
   ]
  },
  {
   "cell_type": "code",
   "execution_count": 107,
   "id": "7f2b81a5-180b-43f1-9073-251139715c07",
   "metadata": {},
   "outputs": [
    {
     "data": {
      "text/html": [
       "<div>\n",
       "<style scoped>\n",
       "    .dataframe tbody tr th:only-of-type {\n",
       "        vertical-align: middle;\n",
       "    }\n",
       "\n",
       "    .dataframe tbody tr th {\n",
       "        vertical-align: top;\n",
       "    }\n",
       "\n",
       "    .dataframe thead th {\n",
       "        text-align: right;\n",
       "    }\n",
       "</style>\n",
       "<table border=\"1\" class=\"dataframe\">\n",
       "  <thead>\n",
       "    <tr style=\"text-align: right;\">\n",
       "      <th>ISBN</th>\n",
       "      <th>0002005018</th>\n",
       "      <th>0002251760</th>\n",
       "      <th>0002558122</th>\n",
       "      <th>0003300277</th>\n",
       "      <th>000617616X</th>\n",
       "      <th>0006480764</th>\n",
       "      <th>000648302X</th>\n",
       "      <th>0006485200</th>\n",
       "      <th>000649840X</th>\n",
       "      <th>0006511767</th>\n",
       "      <th>...</th>\n",
       "      <th>9500723832</th>\n",
       "      <th>950491036X</th>\n",
       "      <th>9505156642</th>\n",
       "      <th>9505156944</th>\n",
       "      <th>9580464162</th>\n",
       "      <th>958704049X</th>\n",
       "      <th>9681500555</th>\n",
       "      <th>9722016563</th>\n",
       "      <th>9812327975</th>\n",
       "      <th>9871138148</th>\n",
       "    </tr>\n",
       "    <tr>\n",
       "      <th>userID</th>\n",
       "      <th></th>\n",
       "      <th></th>\n",
       "      <th></th>\n",
       "      <th></th>\n",
       "      <th></th>\n",
       "      <th></th>\n",
       "      <th></th>\n",
       "      <th></th>\n",
       "      <th></th>\n",
       "      <th></th>\n",
       "      <th></th>\n",
       "      <th></th>\n",
       "      <th></th>\n",
       "      <th></th>\n",
       "      <th></th>\n",
       "      <th></th>\n",
       "      <th></th>\n",
       "      <th></th>\n",
       "      <th></th>\n",
       "      <th></th>\n",
       "      <th></th>\n",
       "    </tr>\n",
       "  </thead>\n",
       "  <tbody>\n",
       "    <tr>\n",
       "      <th>8</th>\n",
       "      <td>5</td>\n",
       "      <td>0</td>\n",
       "      <td>0</td>\n",
       "      <td>0</td>\n",
       "      <td>0</td>\n",
       "      <td>0</td>\n",
       "      <td>0</td>\n",
       "      <td>0</td>\n",
       "      <td>0</td>\n",
       "      <td>0</td>\n",
       "      <td>...</td>\n",
       "      <td>0</td>\n",
       "      <td>0</td>\n",
       "      <td>0</td>\n",
       "      <td>0</td>\n",
       "      <td>0</td>\n",
       "      <td>0</td>\n",
       "      <td>0</td>\n",
       "      <td>0</td>\n",
       "      <td>0</td>\n",
       "      <td>0</td>\n",
       "    </tr>\n",
       "    <tr>\n",
       "      <th>17</th>\n",
       "      <td>0</td>\n",
       "      <td>0</td>\n",
       "      <td>0</td>\n",
       "      <td>0</td>\n",
       "      <td>0</td>\n",
       "      <td>0</td>\n",
       "      <td>0</td>\n",
       "      <td>0</td>\n",
       "      <td>0</td>\n",
       "      <td>0</td>\n",
       "      <td>...</td>\n",
       "      <td>0</td>\n",
       "      <td>0</td>\n",
       "      <td>0</td>\n",
       "      <td>0</td>\n",
       "      <td>0</td>\n",
       "      <td>0</td>\n",
       "      <td>0</td>\n",
       "      <td>0</td>\n",
       "      <td>0</td>\n",
       "      <td>0</td>\n",
       "    </tr>\n",
       "    <tr>\n",
       "      <th>53</th>\n",
       "      <td>0</td>\n",
       "      <td>0</td>\n",
       "      <td>0</td>\n",
       "      <td>0</td>\n",
       "      <td>0</td>\n",
       "      <td>0</td>\n",
       "      <td>0</td>\n",
       "      <td>0</td>\n",
       "      <td>0</td>\n",
       "      <td>0</td>\n",
       "      <td>...</td>\n",
       "      <td>0</td>\n",
       "      <td>0</td>\n",
       "      <td>0</td>\n",
       "      <td>0</td>\n",
       "      <td>0</td>\n",
       "      <td>0</td>\n",
       "      <td>0</td>\n",
       "      <td>0</td>\n",
       "      <td>0</td>\n",
       "      <td>0</td>\n",
       "    </tr>\n",
       "    <tr>\n",
       "      <th>92</th>\n",
       "      <td>0</td>\n",
       "      <td>0</td>\n",
       "      <td>0</td>\n",
       "      <td>0</td>\n",
       "      <td>0</td>\n",
       "      <td>0</td>\n",
       "      <td>0</td>\n",
       "      <td>0</td>\n",
       "      <td>0</td>\n",
       "      <td>0</td>\n",
       "      <td>...</td>\n",
       "      <td>0</td>\n",
       "      <td>0</td>\n",
       "      <td>0</td>\n",
       "      <td>0</td>\n",
       "      <td>0</td>\n",
       "      <td>0</td>\n",
       "      <td>0</td>\n",
       "      <td>0</td>\n",
       "      <td>0</td>\n",
       "      <td>0</td>\n",
       "    </tr>\n",
       "    <tr>\n",
       "      <th>99</th>\n",
       "      <td>0</td>\n",
       "      <td>0</td>\n",
       "      <td>0</td>\n",
       "      <td>0</td>\n",
       "      <td>0</td>\n",
       "      <td>0</td>\n",
       "      <td>0</td>\n",
       "      <td>0</td>\n",
       "      <td>0</td>\n",
       "      <td>0</td>\n",
       "      <td>...</td>\n",
       "      <td>0</td>\n",
       "      <td>0</td>\n",
       "      <td>0</td>\n",
       "      <td>0</td>\n",
       "      <td>0</td>\n",
       "      <td>0</td>\n",
       "      <td>0</td>\n",
       "      <td>0</td>\n",
       "      <td>0</td>\n",
       "      <td>0</td>\n",
       "    </tr>\n",
       "  </tbody>\n",
       "</table>\n",
       "<p>5 rows × 13740 columns</p>\n",
       "</div>"
      ],
      "text/plain": [
       "ISBN    0002005018  0002251760  0002558122  0003300277  000617616X  \\\n",
       "userID                                                               \n",
       "8                5           0           0           0           0   \n",
       "17               0           0           0           0           0   \n",
       "53               0           0           0           0           0   \n",
       "92               0           0           0           0           0   \n",
       "99               0           0           0           0           0   \n",
       "\n",
       "ISBN    0006480764  000648302X  0006485200  000649840X  0006511767  ...  \\\n",
       "userID                                                              ...   \n",
       "8                0           0           0           0           0  ...   \n",
       "17               0           0           0           0           0  ...   \n",
       "53               0           0           0           0           0  ...   \n",
       "92               0           0           0           0           0  ...   \n",
       "99               0           0           0           0           0  ...   \n",
       "\n",
       "ISBN    9500723832  950491036X  9505156642  9505156944  9580464162  \\\n",
       "userID                                                               \n",
       "8                0           0           0           0           0   \n",
       "17               0           0           0           0           0   \n",
       "53               0           0           0           0           0   \n",
       "92               0           0           0           0           0   \n",
       "99               0           0           0           0           0   \n",
       "\n",
       "ISBN    958704049X  9681500555  9722016563  9812327975  9871138148  \n",
       "userID                                                              \n",
       "8                0           0           0           0           0  \n",
       "17               0           0           0           0           0  \n",
       "53               0           0           0           0           0  \n",
       "92               0           0           0           0           0  \n",
       "99               0           0           0           0           0  \n",
       "\n",
       "[5 rows x 13740 columns]"
      ]
     },
     "execution_count": 107,
     "metadata": {},
     "output_type": "execute_result"
    }
   ],
   "source": [
    "#checking first few rows\n",
    "ratings_matrix.head(5)"
   ]
  },
  {
   "cell_type": "code",
   "execution_count": 108,
   "id": "977b2379-c17f-4071-972f-5e7ae4adf4fe",
   "metadata": {},
   "outputs": [
    {
     "name": "stdout",
     "output_type": "stream",
     "text": [
      "The sparsity level of Book Crossing dataset is 99.99272197962155 %\n"
     ]
    }
   ],
   "source": [
    "sparsity = 1.0-len(ratings_explicit)/float(ratings_explicit.shape[0]*n_books)\n",
    "print ('The sparsity level of Book Crossing dataset is ' +  str(sparsity*100) + ' %')"
   ]
  },
  {
   "cell_type": "code",
   "execution_count": 109,
   "id": "c0d3a76d-3a27-4e55-bd66-5458c6b6d3e4",
   "metadata": {},
   "outputs": [],
   "source": [
    "combine_book_rating = pd.merge(ratings, books, on = 'ISBN')\n",
    "columns = ['Book-Author','Year-Of-Publication', 'Publisher']"
   ]
  },
  {
   "cell_type": "code",
   "execution_count": 110,
   "id": "1763cd40-99d2-4249-aa1c-7e73f8983784",
   "metadata": {},
   "outputs": [
    {
     "data": {
      "text/html": [
       "<div>\n",
       "<style scoped>\n",
       "    .dataframe tbody tr th:only-of-type {\n",
       "        vertical-align: middle;\n",
       "    }\n",
       "\n",
       "    .dataframe tbody tr th {\n",
       "        vertical-align: top;\n",
       "    }\n",
       "\n",
       "    .dataframe thead th {\n",
       "        text-align: right;\n",
       "    }\n",
       "</style>\n",
       "<table border=\"1\" class=\"dataframe\">\n",
       "  <thead>\n",
       "    <tr style=\"text-align: right;\">\n",
       "      <th></th>\n",
       "      <th>userID</th>\n",
       "      <th>ISBN</th>\n",
       "      <th>bookRating</th>\n",
       "      <th>bookTitle</th>\n",
       "    </tr>\n",
       "  </thead>\n",
       "  <tbody>\n",
       "    <tr>\n",
       "      <th>0</th>\n",
       "      <td>276725</td>\n",
       "      <td>034545104X</td>\n",
       "      <td>0</td>\n",
       "      <td>Flesh Tones: A Novel</td>\n",
       "    </tr>\n",
       "    <tr>\n",
       "      <th>1</th>\n",
       "      <td>276726</td>\n",
       "      <td>0155061224</td>\n",
       "      <td>5</td>\n",
       "      <td>Rites of Passage</td>\n",
       "    </tr>\n",
       "    <tr>\n",
       "      <th>2</th>\n",
       "      <td>276727</td>\n",
       "      <td>0446520802</td>\n",
       "      <td>0</td>\n",
       "      <td>The Notebook</td>\n",
       "    </tr>\n",
       "    <tr>\n",
       "      <th>3</th>\n",
       "      <td>276729</td>\n",
       "      <td>052165615X</td>\n",
       "      <td>3</td>\n",
       "      <td>Help!: Level 1</td>\n",
       "    </tr>\n",
       "    <tr>\n",
       "      <th>4</th>\n",
       "      <td>276729</td>\n",
       "      <td>0521795028</td>\n",
       "      <td>6</td>\n",
       "      <td>The Amsterdam Connection : Level 4 (Cambridge ...</td>\n",
       "    </tr>\n",
       "  </tbody>\n",
       "</table>\n",
       "</div>"
      ],
      "text/plain": [
       "   userID        ISBN  bookRating  \\\n",
       "0  276725  034545104X           0   \n",
       "1  276726  0155061224           5   \n",
       "2  276727  0446520802           0   \n",
       "3  276729  052165615X           3   \n",
       "4  276729  0521795028           6   \n",
       "\n",
       "                                           bookTitle  \n",
       "0                               Flesh Tones: A Novel  \n",
       "1                                   Rites of Passage  \n",
       "2                                       The Notebook  \n",
       "3                                     Help!: Level 1  \n",
       "4  The Amsterdam Connection : Level 4 (Cambridge ...  "
      ]
     },
     "execution_count": 110,
     "metadata": {},
     "output_type": "execute_result"
    }
   ],
   "source": [
    "combine_book_rating = combine_book_rating.drop(columns, axis = 1)\n",
    "combine_book_rating.rename(columns={'User-ID':'userID','Book-Title':'bookTitle','Book-Rating':'bookRating'},inplace=True)\n",
    "combine_book_rating.head()"
   ]
  },
  {
   "cell_type": "code",
   "execution_count": 111,
   "id": "e9542f64-9e95-43e0-a9a8-a4ae0aad4a88",
   "metadata": {},
   "outputs": [],
   "source": [
    "combine_book_rating = combine_book_rating.dropna(axis = 0, subset = ['bookTitle'])"
   ]
  },
  {
   "cell_type": "code",
   "execution_count": 112,
   "id": "b54234ae-438d-460d-93a5-c5d35b8b5a60",
   "metadata": {},
   "outputs": [],
   "source": [
    "book_ratingcount = (combine_book_rating.\n",
    "                    groupby(by = ['bookTitle',])['bookRating'].\n",
    "                    count().\n",
    "                    reset_index().\n",
    "                    rename(columns = {'bookRating':'TotalRatingCount'})\n",
    "                    [['bookTitle','TotalRatingCount']])"
   ]
  },
  {
   "cell_type": "code",
   "execution_count": 113,
   "id": "b4e0e313-f605-4743-9806-b9c5608247ae",
   "metadata": {},
   "outputs": [
    {
     "data": {
      "text/html": [
       "<div>\n",
       "<style scoped>\n",
       "    .dataframe tbody tr th:only-of-type {\n",
       "        vertical-align: middle;\n",
       "    }\n",
       "\n",
       "    .dataframe tbody tr th {\n",
       "        vertical-align: top;\n",
       "    }\n",
       "\n",
       "    .dataframe thead th {\n",
       "        text-align: right;\n",
       "    }\n",
       "</style>\n",
       "<table border=\"1\" class=\"dataframe\">\n",
       "  <thead>\n",
       "    <tr style=\"text-align: right;\">\n",
       "      <th></th>\n",
       "      <th>bookTitle</th>\n",
       "      <th>TotalRatingCount</th>\n",
       "    </tr>\n",
       "  </thead>\n",
       "  <tbody>\n",
       "    <tr>\n",
       "      <th>0</th>\n",
       "      <td>A Light in the Storm: The Civil War Diary of ...</td>\n",
       "      <td>4</td>\n",
       "    </tr>\n",
       "    <tr>\n",
       "      <th>1</th>\n",
       "      <td>Always Have Popsicles</td>\n",
       "      <td>1</td>\n",
       "    </tr>\n",
       "    <tr>\n",
       "      <th>2</th>\n",
       "      <td>Apple Magic (The Collector's series)</td>\n",
       "      <td>1</td>\n",
       "    </tr>\n",
       "    <tr>\n",
       "      <th>3</th>\n",
       "      <td>Ask Lily (Young Women of Faith: Lily Series, ...</td>\n",
       "      <td>1</td>\n",
       "    </tr>\n",
       "    <tr>\n",
       "      <th>4</th>\n",
       "      <td>Beyond IBM: Leadership Marketing and Finance ...</td>\n",
       "      <td>1</td>\n",
       "    </tr>\n",
       "  </tbody>\n",
       "</table>\n",
       "</div>"
      ],
      "text/plain": [
       "                                           bookTitle  TotalRatingCount\n",
       "0   A Light in the Storm: The Civil War Diary of ...                 4\n",
       "1                              Always Have Popsicles                 1\n",
       "2               Apple Magic (The Collector's series)                 1\n",
       "3   Ask Lily (Young Women of Faith: Lily Series, ...                 1\n",
       "4   Beyond IBM: Leadership Marketing and Finance ...                 1"
      ]
     },
     "execution_count": 113,
     "metadata": {},
     "output_type": "execute_result"
    }
   ],
   "source": [
    "book_ratingcount.head()"
   ]
  },
  {
   "cell_type": "markdown",
   "id": "1fc1ec6d-be6a-4e65-ab6f-7c086bd55e83",
   "metadata": {},
   "source": [
    "Combine the rating data with the total rating count data, this gives us exactly what we need to filter out the lesser known books"
   ]
  },
  {
   "cell_type": "code",
   "execution_count": 114,
   "id": "aa62bd70-f32e-4f60-9e6a-de75688dba40",
   "metadata": {},
   "outputs": [],
   "source": [
    "rating_with_totalratingcount = combine_book_rating.merge(book_ratingcount, left_on = 'bookTitle', right_on = 'bookTitle', how = 'inner' )"
   ]
  },
  {
   "cell_type": "code",
   "execution_count": 115,
   "id": "88e6692b-8f5b-4008-a59f-07c3a4733881",
   "metadata": {},
   "outputs": [
    {
     "data": {
      "text/html": [
       "<div>\n",
       "<style scoped>\n",
       "    .dataframe tbody tr th:only-of-type {\n",
       "        vertical-align: middle;\n",
       "    }\n",
       "\n",
       "    .dataframe tbody tr th {\n",
       "        vertical-align: top;\n",
       "    }\n",
       "\n",
       "    .dataframe thead th {\n",
       "        text-align: right;\n",
       "    }\n",
       "</style>\n",
       "<table border=\"1\" class=\"dataframe\">\n",
       "  <thead>\n",
       "    <tr style=\"text-align: right;\">\n",
       "      <th></th>\n",
       "      <th>userID</th>\n",
       "      <th>ISBN</th>\n",
       "      <th>bookRating</th>\n",
       "      <th>bookTitle</th>\n",
       "      <th>TotalRatingCount</th>\n",
       "    </tr>\n",
       "  </thead>\n",
       "  <tbody>\n",
       "    <tr>\n",
       "      <th>0</th>\n",
       "      <td>276725</td>\n",
       "      <td>034545104X</td>\n",
       "      <td>0</td>\n",
       "      <td>Flesh Tones: A Novel</td>\n",
       "      <td>60</td>\n",
       "    </tr>\n",
       "    <tr>\n",
       "      <th>1</th>\n",
       "      <td>276726</td>\n",
       "      <td>0155061224</td>\n",
       "      <td>5</td>\n",
       "      <td>Rites of Passage</td>\n",
       "      <td>14</td>\n",
       "    </tr>\n",
       "    <tr>\n",
       "      <th>2</th>\n",
       "      <td>276727</td>\n",
       "      <td>0446520802</td>\n",
       "      <td>0</td>\n",
       "      <td>The Notebook</td>\n",
       "      <td>650</td>\n",
       "    </tr>\n",
       "    <tr>\n",
       "      <th>3</th>\n",
       "      <td>276729</td>\n",
       "      <td>052165615X</td>\n",
       "      <td>3</td>\n",
       "      <td>Help!: Level 1</td>\n",
       "      <td>1</td>\n",
       "    </tr>\n",
       "    <tr>\n",
       "      <th>4</th>\n",
       "      <td>276729</td>\n",
       "      <td>0521795028</td>\n",
       "      <td>6</td>\n",
       "      <td>The Amsterdam Connection : Level 4 (Cambridge ...</td>\n",
       "      <td>1</td>\n",
       "    </tr>\n",
       "  </tbody>\n",
       "</table>\n",
       "</div>"
      ],
      "text/plain": [
       "   userID        ISBN  bookRating  \\\n",
       "0  276725  034545104X           0   \n",
       "1  276726  0155061224           5   \n",
       "2  276727  0446520802           0   \n",
       "3  276729  052165615X           3   \n",
       "4  276729  0521795028           6   \n",
       "\n",
       "                                           bookTitle  TotalRatingCount  \n",
       "0                               Flesh Tones: A Novel                60  \n",
       "1                                   Rites of Passage                14  \n",
       "2                                       The Notebook               650  \n",
       "3                                     Help!: Level 1                 1  \n",
       "4  The Amsterdam Connection : Level 4 (Cambridge ...                 1  "
      ]
     },
     "execution_count": 115,
     "metadata": {},
     "output_type": "execute_result"
    }
   ],
   "source": [
    "rating_with_totalratingcount.head()"
   ]
  },
  {
   "cell_type": "code",
   "execution_count": 116,
   "id": "6762f8d7-4be2-46c1-8f77-55d81c94bd73",
   "metadata": {},
   "outputs": [
    {
     "name": "stdout",
     "output_type": "stream",
     "text": [
      "count   241071.000\n",
      "mean         4.277\n",
      "std         16.739\n",
      "min          1.000\n",
      "25%          1.000\n",
      "50%          1.000\n",
      "75%          3.000\n",
      "max       2502.000\n",
      "Name: TotalRatingCount, dtype: float64\n"
     ]
    }
   ],
   "source": [
    "pd.set_option('display.float_format', lambda x: '%.3f' % x)\n",
    "print(book_ratingcount['TotalRatingCount'].describe())"
   ]
  },
  {
   "cell_type": "markdown",
   "id": "0795ba89-48e4-4bab-a849-a64ee34e9c9b",
   "metadata": {},
   "source": [
    "The majority of books have been rated only once. Now, let’s examine the higher end of the distribution."
   ]
  },
  {
   "cell_type": "code",
   "execution_count": 117,
   "id": "b05b34ee-42f3-47c9-bb6b-683ae6d37f86",
   "metadata": {},
   "outputs": [
    {
     "name": "stdout",
     "output_type": "stream",
     "text": [
      "0.900    7.000\n",
      "0.910    8.000\n",
      "0.920    9.000\n",
      "0.930   10.000\n",
      "0.940   11.000\n",
      "0.950   13.000\n",
      "0.960   16.000\n",
      "0.970   20.000\n",
      "0.980   29.000\n",
      "0.990   50.000\n",
      "Name: TotalRatingCount, dtype: float64\n"
     ]
    }
   ],
   "source": [
    "print(book_ratingcount['TotalRatingCount'].quantile(np.arange(.9,1,.01)))"
   ]
  },
  {
   "cell_type": "markdown",
   "id": "1ec134ee-fddf-412b-b7b6-e400ab92a257",
   "metadata": {},
   "source": [
    "Approximately 1% of the books have received 50 or more ratings. Given the large number of books in our dataset, we will focus on the top 1%."
   ]
  },
  {
   "cell_type": "code",
   "execution_count": 118,
   "id": "05ef6e11-6ae9-447e-baff-6f162e9a0d20",
   "metadata": {},
   "outputs": [],
   "source": [
    "popularity_threshold = 50\n",
    "rating_popular_book = rating_with_totalratingcount.query('TotalRatingCount >= @popularity_threshold')"
   ]
  },
  {
   "cell_type": "code",
   "execution_count": 119,
   "id": "cee3b4b8-16c9-453b-960c-3b0537070a5e",
   "metadata": {},
   "outputs": [
    {
     "data": {
      "text/html": [
       "<div>\n",
       "<style scoped>\n",
       "    .dataframe tbody tr th:only-of-type {\n",
       "        vertical-align: middle;\n",
       "    }\n",
       "\n",
       "    .dataframe tbody tr th {\n",
       "        vertical-align: top;\n",
       "    }\n",
       "\n",
       "    .dataframe thead th {\n",
       "        text-align: right;\n",
       "    }\n",
       "</style>\n",
       "<table border=\"1\" class=\"dataframe\">\n",
       "  <thead>\n",
       "    <tr style=\"text-align: right;\">\n",
       "      <th></th>\n",
       "      <th>userID</th>\n",
       "      <th>ISBN</th>\n",
       "      <th>bookRating</th>\n",
       "      <th>bookTitle</th>\n",
       "      <th>TotalRatingCount</th>\n",
       "    </tr>\n",
       "  </thead>\n",
       "  <tbody>\n",
       "    <tr>\n",
       "      <th>0</th>\n",
       "      <td>276725</td>\n",
       "      <td>034545104X</td>\n",
       "      <td>0</td>\n",
       "      <td>Flesh Tones: A Novel</td>\n",
       "      <td>60</td>\n",
       "    </tr>\n",
       "    <tr>\n",
       "      <th>2</th>\n",
       "      <td>276727</td>\n",
       "      <td>0446520802</td>\n",
       "      <td>0</td>\n",
       "      <td>The Notebook</td>\n",
       "      <td>650</td>\n",
       "    </tr>\n",
       "    <tr>\n",
       "      <th>6</th>\n",
       "      <td>276744</td>\n",
       "      <td>038550120X</td>\n",
       "      <td>7</td>\n",
       "      <td>A Painted House</td>\n",
       "      <td>838</td>\n",
       "    </tr>\n",
       "    <tr>\n",
       "      <th>7</th>\n",
       "      <td>276746</td>\n",
       "      <td>0425115801</td>\n",
       "      <td>0</td>\n",
       "      <td>Lightning</td>\n",
       "      <td>274</td>\n",
       "    </tr>\n",
       "    <tr>\n",
       "      <th>8</th>\n",
       "      <td>276746</td>\n",
       "      <td>0449006522</td>\n",
       "      <td>0</td>\n",
       "      <td>Manhattan Hunt Club</td>\n",
       "      <td>111</td>\n",
       "    </tr>\n",
       "  </tbody>\n",
       "</table>\n",
       "</div>"
      ],
      "text/plain": [
       "   userID        ISBN  bookRating             bookTitle  TotalRatingCount\n",
       "0  276725  034545104X           0  Flesh Tones: A Novel                60\n",
       "2  276727  0446520802           0          The Notebook               650\n",
       "6  276744  038550120X           7       A Painted House               838\n",
       "7  276746  0425115801           0             Lightning               274\n",
       "8  276746  0449006522           0   Manhattan Hunt Club               111"
      ]
     },
     "execution_count": 119,
     "metadata": {},
     "output_type": "execute_result"
    }
   ],
   "source": [
    "rating_popular_book.head()"
   ]
  },
  {
   "cell_type": "code",
   "execution_count": 120,
   "id": "632169ff-79f6-4d5d-9814-feec36f84206",
   "metadata": {},
   "outputs": [
    {
     "name": "stdout",
     "output_type": "stream",
     "text": [
      "Initial dataframe shape (288740, 5)\n",
      "New dataframe shape (285518, 5)\n",
      "Removed 3222 rows\n"
     ]
    }
   ],
   "source": [
    "if not rating_popular_book[rating_popular_book.duplicated(['userID', 'bookTitle'])].empty:\n",
    "    initial_rows = rating_popular_book.shape[0]\n",
    "\n",
    "    print('Initial dataframe shape {0}'.format(rating_popular_book.shape))\n",
    "    rating_popular_book = rating_popular_book.drop_duplicates(['userID', 'bookTitle'])\n",
    "    current_rows = rating_popular_book.shape[0]\n",
    "    print('New dataframe shape {0}'.format(rating_popular_book.shape))\n",
    "    print('Removed {0} rows'.format(initial_rows - current_rows))"
   ]
  },
  {
   "cell_type": "code",
   "execution_count": 121,
   "id": "4edcf13f-c7f1-4d20-bc79-b750ccdf982e",
   "metadata": {},
   "outputs": [],
   "source": [
    "us_canada_user_rating_pivot = rating_popular_book.pivot(index = 'bookTitle',columns = 'userID', values = 'bookRating').fillna(0)\n",
    "us_canada_user_rating_matrix = csr_matrix(us_canada_user_rating_pivot.values)"
   ]
  },
  {
   "cell_type": "code",
   "execution_count": 122,
   "id": "89b674e5-291d-4800-9be9-55d9a566519c",
   "metadata": {},
   "outputs": [
    {
     "data": {
      "text/html": [
       "<style>#sk-container-id-1 {\n",
       "  /* Definition of color scheme common for light and dark mode */\n",
       "  --sklearn-color-text: black;\n",
       "  --sklearn-color-line: gray;\n",
       "  /* Definition of color scheme for unfitted estimators */\n",
       "  --sklearn-color-unfitted-level-0: #fff5e6;\n",
       "  --sklearn-color-unfitted-level-1: #f6e4d2;\n",
       "  --sklearn-color-unfitted-level-2: #ffe0b3;\n",
       "  --sklearn-color-unfitted-level-3: chocolate;\n",
       "  /* Definition of color scheme for fitted estimators */\n",
       "  --sklearn-color-fitted-level-0: #f0f8ff;\n",
       "  --sklearn-color-fitted-level-1: #d4ebff;\n",
       "  --sklearn-color-fitted-level-2: #b3dbfd;\n",
       "  --sklearn-color-fitted-level-3: cornflowerblue;\n",
       "\n",
       "  /* Specific color for light theme */\n",
       "  --sklearn-color-text-on-default-background: var(--sg-text-color, var(--theme-code-foreground, var(--jp-content-font-color1, black)));\n",
       "  --sklearn-color-background: var(--sg-background-color, var(--theme-background, var(--jp-layout-color0, white)));\n",
       "  --sklearn-color-border-box: var(--sg-text-color, var(--theme-code-foreground, var(--jp-content-font-color1, black)));\n",
       "  --sklearn-color-icon: #696969;\n",
       "\n",
       "  @media (prefers-color-scheme: dark) {\n",
       "    /* Redefinition of color scheme for dark theme */\n",
       "    --sklearn-color-text-on-default-background: var(--sg-text-color, var(--theme-code-foreground, var(--jp-content-font-color1, white)));\n",
       "    --sklearn-color-background: var(--sg-background-color, var(--theme-background, var(--jp-layout-color0, #111)));\n",
       "    --sklearn-color-border-box: var(--sg-text-color, var(--theme-code-foreground, var(--jp-content-font-color1, white)));\n",
       "    --sklearn-color-icon: #878787;\n",
       "  }\n",
       "}\n",
       "\n",
       "#sk-container-id-1 {\n",
       "  color: var(--sklearn-color-text);\n",
       "}\n",
       "\n",
       "#sk-container-id-1 pre {\n",
       "  padding: 0;\n",
       "}\n",
       "\n",
       "#sk-container-id-1 input.sk-hidden--visually {\n",
       "  border: 0;\n",
       "  clip: rect(1px 1px 1px 1px);\n",
       "  clip: rect(1px, 1px, 1px, 1px);\n",
       "  height: 1px;\n",
       "  margin: -1px;\n",
       "  overflow: hidden;\n",
       "  padding: 0;\n",
       "  position: absolute;\n",
       "  width: 1px;\n",
       "}\n",
       "\n",
       "#sk-container-id-1 div.sk-dashed-wrapped {\n",
       "  border: 1px dashed var(--sklearn-color-line);\n",
       "  margin: 0 0.4em 0.5em 0.4em;\n",
       "  box-sizing: border-box;\n",
       "  padding-bottom: 0.4em;\n",
       "  background-color: var(--sklearn-color-background);\n",
       "}\n",
       "\n",
       "#sk-container-id-1 div.sk-container {\n",
       "  /* jupyter's `normalize.less` sets `[hidden] { display: none; }`\n",
       "     but bootstrap.min.css set `[hidden] { display: none !important; }`\n",
       "     so we also need the `!important` here to be able to override the\n",
       "     default hidden behavior on the sphinx rendered scikit-learn.org.\n",
       "     See: https://github.com/scikit-learn/scikit-learn/issues/21755 */\n",
       "  display: inline-block !important;\n",
       "  position: relative;\n",
       "}\n",
       "\n",
       "#sk-container-id-1 div.sk-text-repr-fallback {\n",
       "  display: none;\n",
       "}\n",
       "\n",
       "div.sk-parallel-item,\n",
       "div.sk-serial,\n",
       "div.sk-item {\n",
       "  /* draw centered vertical line to link estimators */\n",
       "  background-image: linear-gradient(var(--sklearn-color-text-on-default-background), var(--sklearn-color-text-on-default-background));\n",
       "  background-size: 2px 100%;\n",
       "  background-repeat: no-repeat;\n",
       "  background-position: center center;\n",
       "}\n",
       "\n",
       "/* Parallel-specific style estimator block */\n",
       "\n",
       "#sk-container-id-1 div.sk-parallel-item::after {\n",
       "  content: \"\";\n",
       "  width: 100%;\n",
       "  border-bottom: 2px solid var(--sklearn-color-text-on-default-background);\n",
       "  flex-grow: 1;\n",
       "}\n",
       "\n",
       "#sk-container-id-1 div.sk-parallel {\n",
       "  display: flex;\n",
       "  align-items: stretch;\n",
       "  justify-content: center;\n",
       "  background-color: var(--sklearn-color-background);\n",
       "  position: relative;\n",
       "}\n",
       "\n",
       "#sk-container-id-1 div.sk-parallel-item {\n",
       "  display: flex;\n",
       "  flex-direction: column;\n",
       "}\n",
       "\n",
       "#sk-container-id-1 div.sk-parallel-item:first-child::after {\n",
       "  align-self: flex-end;\n",
       "  width: 50%;\n",
       "}\n",
       "\n",
       "#sk-container-id-1 div.sk-parallel-item:last-child::after {\n",
       "  align-self: flex-start;\n",
       "  width: 50%;\n",
       "}\n",
       "\n",
       "#sk-container-id-1 div.sk-parallel-item:only-child::after {\n",
       "  width: 0;\n",
       "}\n",
       "\n",
       "/* Serial-specific style estimator block */\n",
       "\n",
       "#sk-container-id-1 div.sk-serial {\n",
       "  display: flex;\n",
       "  flex-direction: column;\n",
       "  align-items: center;\n",
       "  background-color: var(--sklearn-color-background);\n",
       "  padding-right: 1em;\n",
       "  padding-left: 1em;\n",
       "}\n",
       "\n",
       "\n",
       "/* Toggleable style: style used for estimator/Pipeline/ColumnTransformer box that is\n",
       "clickable and can be expanded/collapsed.\n",
       "- Pipeline and ColumnTransformer use this feature and define the default style\n",
       "- Estimators will overwrite some part of the style using the `sk-estimator` class\n",
       "*/\n",
       "\n",
       "/* Pipeline and ColumnTransformer style (default) */\n",
       "\n",
       "#sk-container-id-1 div.sk-toggleable {\n",
       "  /* Default theme specific background. It is overwritten whether we have a\n",
       "  specific estimator or a Pipeline/ColumnTransformer */\n",
       "  background-color: var(--sklearn-color-background);\n",
       "}\n",
       "\n",
       "/* Toggleable label */\n",
       "#sk-container-id-1 label.sk-toggleable__label {\n",
       "  cursor: pointer;\n",
       "  display: block;\n",
       "  width: 100%;\n",
       "  margin-bottom: 0;\n",
       "  padding: 0.5em;\n",
       "  box-sizing: border-box;\n",
       "  text-align: center;\n",
       "}\n",
       "\n",
       "#sk-container-id-1 label.sk-toggleable__label-arrow:before {\n",
       "  /* Arrow on the left of the label */\n",
       "  content: \"▸\";\n",
       "  float: left;\n",
       "  margin-right: 0.25em;\n",
       "  color: var(--sklearn-color-icon);\n",
       "}\n",
       "\n",
       "#sk-container-id-1 label.sk-toggleable__label-arrow:hover:before {\n",
       "  color: var(--sklearn-color-text);\n",
       "}\n",
       "\n",
       "/* Toggleable content - dropdown */\n",
       "\n",
       "#sk-container-id-1 div.sk-toggleable__content {\n",
       "  max-height: 0;\n",
       "  max-width: 0;\n",
       "  overflow: hidden;\n",
       "  text-align: left;\n",
       "  /* unfitted */\n",
       "  background-color: var(--sklearn-color-unfitted-level-0);\n",
       "}\n",
       "\n",
       "#sk-container-id-1 div.sk-toggleable__content.fitted {\n",
       "  /* fitted */\n",
       "  background-color: var(--sklearn-color-fitted-level-0);\n",
       "}\n",
       "\n",
       "#sk-container-id-1 div.sk-toggleable__content pre {\n",
       "  margin: 0.2em;\n",
       "  border-radius: 0.25em;\n",
       "  color: var(--sklearn-color-text);\n",
       "  /* unfitted */\n",
       "  background-color: var(--sklearn-color-unfitted-level-0);\n",
       "}\n",
       "\n",
       "#sk-container-id-1 div.sk-toggleable__content.fitted pre {\n",
       "  /* unfitted */\n",
       "  background-color: var(--sklearn-color-fitted-level-0);\n",
       "}\n",
       "\n",
       "#sk-container-id-1 input.sk-toggleable__control:checked~div.sk-toggleable__content {\n",
       "  /* Expand drop-down */\n",
       "  max-height: 200px;\n",
       "  max-width: 100%;\n",
       "  overflow: auto;\n",
       "}\n",
       "\n",
       "#sk-container-id-1 input.sk-toggleable__control:checked~label.sk-toggleable__label-arrow:before {\n",
       "  content: \"▾\";\n",
       "}\n",
       "\n",
       "/* Pipeline/ColumnTransformer-specific style */\n",
       "\n",
       "#sk-container-id-1 div.sk-label input.sk-toggleable__control:checked~label.sk-toggleable__label {\n",
       "  color: var(--sklearn-color-text);\n",
       "  background-color: var(--sklearn-color-unfitted-level-2);\n",
       "}\n",
       "\n",
       "#sk-container-id-1 div.sk-label.fitted input.sk-toggleable__control:checked~label.sk-toggleable__label {\n",
       "  background-color: var(--sklearn-color-fitted-level-2);\n",
       "}\n",
       "\n",
       "/* Estimator-specific style */\n",
       "\n",
       "/* Colorize estimator box */\n",
       "#sk-container-id-1 div.sk-estimator input.sk-toggleable__control:checked~label.sk-toggleable__label {\n",
       "  /* unfitted */\n",
       "  background-color: var(--sklearn-color-unfitted-level-2);\n",
       "}\n",
       "\n",
       "#sk-container-id-1 div.sk-estimator.fitted input.sk-toggleable__control:checked~label.sk-toggleable__label {\n",
       "  /* fitted */\n",
       "  background-color: var(--sklearn-color-fitted-level-2);\n",
       "}\n",
       "\n",
       "#sk-container-id-1 div.sk-label label.sk-toggleable__label,\n",
       "#sk-container-id-1 div.sk-label label {\n",
       "  /* The background is the default theme color */\n",
       "  color: var(--sklearn-color-text-on-default-background);\n",
       "}\n",
       "\n",
       "/* On hover, darken the color of the background */\n",
       "#sk-container-id-1 div.sk-label:hover label.sk-toggleable__label {\n",
       "  color: var(--sklearn-color-text);\n",
       "  background-color: var(--sklearn-color-unfitted-level-2);\n",
       "}\n",
       "\n",
       "/* Label box, darken color on hover, fitted */\n",
       "#sk-container-id-1 div.sk-label.fitted:hover label.sk-toggleable__label.fitted {\n",
       "  color: var(--sklearn-color-text);\n",
       "  background-color: var(--sklearn-color-fitted-level-2);\n",
       "}\n",
       "\n",
       "/* Estimator label */\n",
       "\n",
       "#sk-container-id-1 div.sk-label label {\n",
       "  font-family: monospace;\n",
       "  font-weight: bold;\n",
       "  display: inline-block;\n",
       "  line-height: 1.2em;\n",
       "}\n",
       "\n",
       "#sk-container-id-1 div.sk-label-container {\n",
       "  text-align: center;\n",
       "}\n",
       "\n",
       "/* Estimator-specific */\n",
       "#sk-container-id-1 div.sk-estimator {\n",
       "  font-family: monospace;\n",
       "  border: 1px dotted var(--sklearn-color-border-box);\n",
       "  border-radius: 0.25em;\n",
       "  box-sizing: border-box;\n",
       "  margin-bottom: 0.5em;\n",
       "  /* unfitted */\n",
       "  background-color: var(--sklearn-color-unfitted-level-0);\n",
       "}\n",
       "\n",
       "#sk-container-id-1 div.sk-estimator.fitted {\n",
       "  /* fitted */\n",
       "  background-color: var(--sklearn-color-fitted-level-0);\n",
       "}\n",
       "\n",
       "/* on hover */\n",
       "#sk-container-id-1 div.sk-estimator:hover {\n",
       "  /* unfitted */\n",
       "  background-color: var(--sklearn-color-unfitted-level-2);\n",
       "}\n",
       "\n",
       "#sk-container-id-1 div.sk-estimator.fitted:hover {\n",
       "  /* fitted */\n",
       "  background-color: var(--sklearn-color-fitted-level-2);\n",
       "}\n",
       "\n",
       "/* Specification for estimator info (e.g. \"i\" and \"?\") */\n",
       "\n",
       "/* Common style for \"i\" and \"?\" */\n",
       "\n",
       ".sk-estimator-doc-link,\n",
       "a:link.sk-estimator-doc-link,\n",
       "a:visited.sk-estimator-doc-link {\n",
       "  float: right;\n",
       "  font-size: smaller;\n",
       "  line-height: 1em;\n",
       "  font-family: monospace;\n",
       "  background-color: var(--sklearn-color-background);\n",
       "  border-radius: 1em;\n",
       "  height: 1em;\n",
       "  width: 1em;\n",
       "  text-decoration: none !important;\n",
       "  margin-left: 1ex;\n",
       "  /* unfitted */\n",
       "  border: var(--sklearn-color-unfitted-level-1) 1pt solid;\n",
       "  color: var(--sklearn-color-unfitted-level-1);\n",
       "}\n",
       "\n",
       ".sk-estimator-doc-link.fitted,\n",
       "a:link.sk-estimator-doc-link.fitted,\n",
       "a:visited.sk-estimator-doc-link.fitted {\n",
       "  /* fitted */\n",
       "  border: var(--sklearn-color-fitted-level-1) 1pt solid;\n",
       "  color: var(--sklearn-color-fitted-level-1);\n",
       "}\n",
       "\n",
       "/* On hover */\n",
       "div.sk-estimator:hover .sk-estimator-doc-link:hover,\n",
       ".sk-estimator-doc-link:hover,\n",
       "div.sk-label-container:hover .sk-estimator-doc-link:hover,\n",
       ".sk-estimator-doc-link:hover {\n",
       "  /* unfitted */\n",
       "  background-color: var(--sklearn-color-unfitted-level-3);\n",
       "  color: var(--sklearn-color-background);\n",
       "  text-decoration: none;\n",
       "}\n",
       "\n",
       "div.sk-estimator.fitted:hover .sk-estimator-doc-link.fitted:hover,\n",
       ".sk-estimator-doc-link.fitted:hover,\n",
       "div.sk-label-container:hover .sk-estimator-doc-link.fitted:hover,\n",
       ".sk-estimator-doc-link.fitted:hover {\n",
       "  /* fitted */\n",
       "  background-color: var(--sklearn-color-fitted-level-3);\n",
       "  color: var(--sklearn-color-background);\n",
       "  text-decoration: none;\n",
       "}\n",
       "\n",
       "/* Span, style for the box shown on hovering the info icon */\n",
       ".sk-estimator-doc-link span {\n",
       "  display: none;\n",
       "  z-index: 9999;\n",
       "  position: relative;\n",
       "  font-weight: normal;\n",
       "  right: .2ex;\n",
       "  padding: .5ex;\n",
       "  margin: .5ex;\n",
       "  width: min-content;\n",
       "  min-width: 20ex;\n",
       "  max-width: 50ex;\n",
       "  color: var(--sklearn-color-text);\n",
       "  box-shadow: 2pt 2pt 4pt #999;\n",
       "  /* unfitted */\n",
       "  background: var(--sklearn-color-unfitted-level-0);\n",
       "  border: .5pt solid var(--sklearn-color-unfitted-level-3);\n",
       "}\n",
       "\n",
       ".sk-estimator-doc-link.fitted span {\n",
       "  /* fitted */\n",
       "  background: var(--sklearn-color-fitted-level-0);\n",
       "  border: var(--sklearn-color-fitted-level-3);\n",
       "}\n",
       "\n",
       ".sk-estimator-doc-link:hover span {\n",
       "  display: block;\n",
       "}\n",
       "\n",
       "/* \"?\"-specific style due to the `<a>` HTML tag */\n",
       "\n",
       "#sk-container-id-1 a.estimator_doc_link {\n",
       "  float: right;\n",
       "  font-size: 1rem;\n",
       "  line-height: 1em;\n",
       "  font-family: monospace;\n",
       "  background-color: var(--sklearn-color-background);\n",
       "  border-radius: 1rem;\n",
       "  height: 1rem;\n",
       "  width: 1rem;\n",
       "  text-decoration: none;\n",
       "  /* unfitted */\n",
       "  color: var(--sklearn-color-unfitted-level-1);\n",
       "  border: var(--sklearn-color-unfitted-level-1) 1pt solid;\n",
       "}\n",
       "\n",
       "#sk-container-id-1 a.estimator_doc_link.fitted {\n",
       "  /* fitted */\n",
       "  border: var(--sklearn-color-fitted-level-1) 1pt solid;\n",
       "  color: var(--sklearn-color-fitted-level-1);\n",
       "}\n",
       "\n",
       "/* On hover */\n",
       "#sk-container-id-1 a.estimator_doc_link:hover {\n",
       "  /* unfitted */\n",
       "  background-color: var(--sklearn-color-unfitted-level-3);\n",
       "  color: var(--sklearn-color-background);\n",
       "  text-decoration: none;\n",
       "}\n",
       "\n",
       "#sk-container-id-1 a.estimator_doc_link.fitted:hover {\n",
       "  /* fitted */\n",
       "  background-color: var(--sklearn-color-fitted-level-3);\n",
       "}\n",
       "</style><div id=\"sk-container-id-1\" class=\"sk-top-container\"><div class=\"sk-text-repr-fallback\"><pre>NearestNeighbors(algorithm=&#x27;brute&#x27;, metric=&#x27;cosine&#x27;)</pre><b>In a Jupyter environment, please rerun this cell to show the HTML representation or trust the notebook. <br />On GitHub, the HTML representation is unable to render, please try loading this page with nbviewer.org.</b></div><div class=\"sk-container\" hidden><div class=\"sk-item\"><div class=\"sk-estimator fitted sk-toggleable\"><input class=\"sk-toggleable__control sk-hidden--visually\" id=\"sk-estimator-id-1\" type=\"checkbox\" checked><label for=\"sk-estimator-id-1\" class=\"sk-toggleable__label fitted sk-toggleable__label-arrow fitted\">&nbsp;&nbsp;NearestNeighbors<a class=\"sk-estimator-doc-link fitted\" rel=\"noreferrer\" target=\"_blank\" href=\"https://scikit-learn.org/1.5/modules/generated/sklearn.neighbors.NearestNeighbors.html\">?<span>Documentation for NearestNeighbors</span></a><span class=\"sk-estimator-doc-link fitted\">i<span>Fitted</span></span></label><div class=\"sk-toggleable__content fitted\"><pre>NearestNeighbors(algorithm=&#x27;brute&#x27;, metric=&#x27;cosine&#x27;)</pre></div> </div></div></div></div>"
      ],
      "text/plain": [
       "NearestNeighbors(algorithm='brute', metric='cosine')"
      ]
     },
     "execution_count": 122,
     "metadata": {},
     "output_type": "execute_result"
    }
   ],
   "source": [
    "from sklearn.neighbors import NearestNeighbors\n",
    "\n",
    "model_knn = NearestNeighbors(metric = 'cosine', algorithm = 'brute')\n",
    "model_knn.fit(us_canada_user_rating_matrix)"
   ]
  },
  {
   "cell_type": "code",
   "execution_count": null,
   "id": "9a5c1376-2cb3-4396-a2c0-97cf98fe4f70",
   "metadata": {},
   "outputs": [],
   "source": []
  },
  {
   "cell_type": "code",
   "execution_count": 123,
   "id": "b8589edb-d5e9-47ba-8c79-617af65b8fc5",
   "metadata": {},
   "outputs": [
    {
     "name": "stdout",
     "output_type": "stream",
     "text": [
      "Recommendations for Animal Dreams:\n",
      "\n",
      "1: The Bean Trees, with distance of 0.8688453321056876:\n",
      "2: Pigs in Heaven, with distance of 0.8903784508278298:\n",
      "3: Creed for the Third Millennium, with distance of 0.8981296051977203:\n",
      "4: Private Eyes (Alex Delaware Novels (Paperback)), with distance of 0.9286929562044686:\n",
      "5: Last Orders, with distance of 0.9308220062542305:\n"
     ]
    }
   ],
   "source": [
    "query_index = np.random.choice(us_canada_user_rating_pivot.shape[0])\n",
    "distances, indices = model_knn.kneighbors(us_canada_user_rating_pivot.iloc[query_index, :].values.reshape((1, -1)), n_neighbors = 6)\n",
    "\n",
    "for i in range(0, len(distances.flatten())):\n",
    "    if i == 0:\n",
    "        print('Recommendations for {0}:\\n'.format(us_canada_user_rating_pivot.index[query_index]))\n",
    "    else:\n",
    "        print('{0}: {1}, with distance of {2}:'.format(i, us_canada_user_rating_pivot.index[indices.flatten()[i]], distances.flatten()[i]))"
   ]
  },
  {
   "cell_type": "code",
   "execution_count": 124,
   "id": "40986440-f0e4-4aea-8a5f-af67f36c14e8",
   "metadata": {},
   "outputs": [],
   "source": [
    "us_canada_user_rating_pivot2 = rating_popular_book.pivot(index = 'userID', columns = 'bookTitle', values = 'bookRating').fillna(0)"
   ]
  },
  {
   "cell_type": "code",
   "execution_count": 125,
   "id": "d5a96c40-bea0-4ed7-b4ad-119fb465dff8",
   "metadata": {},
   "outputs": [
    {
     "data": {
      "text/html": [
       "<div>\n",
       "<style scoped>\n",
       "    .dataframe tbody tr th:only-of-type {\n",
       "        vertical-align: middle;\n",
       "    }\n",
       "\n",
       "    .dataframe tbody tr th {\n",
       "        vertical-align: top;\n",
       "    }\n",
       "\n",
       "    .dataframe thead th {\n",
       "        text-align: right;\n",
       "    }\n",
       "</style>\n",
       "<table border=\"1\" class=\"dataframe\">\n",
       "  <thead>\n",
       "    <tr style=\"text-align: right;\">\n",
       "      <th>bookTitle</th>\n",
       "      <th>10 Lb. Penalty</th>\n",
       "      <th>16 Lighthouse Road</th>\n",
       "      <th>1984</th>\n",
       "      <th>1st to Die: A Novel</th>\n",
       "      <th>2010: Odyssey Two</th>\n",
       "      <th>204 Rosewood Lane</th>\n",
       "      <th>2061: Odyssey Three</th>\n",
       "      <th>24 Hours</th>\n",
       "      <th>2nd Chance</th>\n",
       "      <th>3rd Degree</th>\n",
       "      <th>...</th>\n",
       "      <th>YOU BELONG TO ME</th>\n",
       "      <th>Year of Wonders</th>\n",
       "      <th>You Belong To Me</th>\n",
       "      <th>You Shall Know Our Velocity</th>\n",
       "      <th>Young Wives</th>\n",
       "      <th>Zen and the Art of Motorcycle Maintenance: An Inquiry into Values</th>\n",
       "      <th>Zoya</th>\n",
       "      <th>\\O\\\" Is for Outlaw\"</th>\n",
       "      <th>\\Surely You're Joking, Mr. Feynman!\\\": Adventures of a Curious Character\"</th>\n",
       "      <th>stardust</th>\n",
       "    </tr>\n",
       "    <tr>\n",
       "      <th>userID</th>\n",
       "      <th></th>\n",
       "      <th></th>\n",
       "      <th></th>\n",
       "      <th></th>\n",
       "      <th></th>\n",
       "      <th></th>\n",
       "      <th></th>\n",
       "      <th></th>\n",
       "      <th></th>\n",
       "      <th></th>\n",
       "      <th></th>\n",
       "      <th></th>\n",
       "      <th></th>\n",
       "      <th></th>\n",
       "      <th></th>\n",
       "      <th></th>\n",
       "      <th></th>\n",
       "      <th></th>\n",
       "      <th></th>\n",
       "      <th></th>\n",
       "      <th></th>\n",
       "    </tr>\n",
       "  </thead>\n",
       "  <tbody>\n",
       "    <tr>\n",
       "      <th>8</th>\n",
       "      <td>0.000</td>\n",
       "      <td>0.000</td>\n",
       "      <td>0.000</td>\n",
       "      <td>0.000</td>\n",
       "      <td>0.000</td>\n",
       "      <td>0.000</td>\n",
       "      <td>0.000</td>\n",
       "      <td>0.000</td>\n",
       "      <td>0.000</td>\n",
       "      <td>0.000</td>\n",
       "      <td>...</td>\n",
       "      <td>0.000</td>\n",
       "      <td>0.000</td>\n",
       "      <td>0.000</td>\n",
       "      <td>0.000</td>\n",
       "      <td>0.000</td>\n",
       "      <td>0.000</td>\n",
       "      <td>0.000</td>\n",
       "      <td>0.000</td>\n",
       "      <td>0.000</td>\n",
       "      <td>0.000</td>\n",
       "    </tr>\n",
       "    <tr>\n",
       "      <th>9</th>\n",
       "      <td>0.000</td>\n",
       "      <td>0.000</td>\n",
       "      <td>0.000</td>\n",
       "      <td>0.000</td>\n",
       "      <td>0.000</td>\n",
       "      <td>0.000</td>\n",
       "      <td>0.000</td>\n",
       "      <td>0.000</td>\n",
       "      <td>0.000</td>\n",
       "      <td>0.000</td>\n",
       "      <td>...</td>\n",
       "      <td>0.000</td>\n",
       "      <td>0.000</td>\n",
       "      <td>0.000</td>\n",
       "      <td>0.000</td>\n",
       "      <td>0.000</td>\n",
       "      <td>0.000</td>\n",
       "      <td>0.000</td>\n",
       "      <td>0.000</td>\n",
       "      <td>0.000</td>\n",
       "      <td>0.000</td>\n",
       "    </tr>\n",
       "    <tr>\n",
       "      <th>14</th>\n",
       "      <td>0.000</td>\n",
       "      <td>0.000</td>\n",
       "      <td>0.000</td>\n",
       "      <td>0.000</td>\n",
       "      <td>0.000</td>\n",
       "      <td>0.000</td>\n",
       "      <td>0.000</td>\n",
       "      <td>0.000</td>\n",
       "      <td>0.000</td>\n",
       "      <td>0.000</td>\n",
       "      <td>...</td>\n",
       "      <td>0.000</td>\n",
       "      <td>0.000</td>\n",
       "      <td>0.000</td>\n",
       "      <td>0.000</td>\n",
       "      <td>0.000</td>\n",
       "      <td>0.000</td>\n",
       "      <td>0.000</td>\n",
       "      <td>0.000</td>\n",
       "      <td>0.000</td>\n",
       "      <td>0.000</td>\n",
       "    </tr>\n",
       "    <tr>\n",
       "      <th>16</th>\n",
       "      <td>0.000</td>\n",
       "      <td>0.000</td>\n",
       "      <td>0.000</td>\n",
       "      <td>0.000</td>\n",
       "      <td>0.000</td>\n",
       "      <td>0.000</td>\n",
       "      <td>0.000</td>\n",
       "      <td>0.000</td>\n",
       "      <td>0.000</td>\n",
       "      <td>0.000</td>\n",
       "      <td>...</td>\n",
       "      <td>0.000</td>\n",
       "      <td>0.000</td>\n",
       "      <td>0.000</td>\n",
       "      <td>0.000</td>\n",
       "      <td>0.000</td>\n",
       "      <td>0.000</td>\n",
       "      <td>0.000</td>\n",
       "      <td>0.000</td>\n",
       "      <td>0.000</td>\n",
       "      <td>0.000</td>\n",
       "    </tr>\n",
       "    <tr>\n",
       "      <th>17</th>\n",
       "      <td>0.000</td>\n",
       "      <td>0.000</td>\n",
       "      <td>0.000</td>\n",
       "      <td>0.000</td>\n",
       "      <td>0.000</td>\n",
       "      <td>0.000</td>\n",
       "      <td>0.000</td>\n",
       "      <td>0.000</td>\n",
       "      <td>0.000</td>\n",
       "      <td>0.000</td>\n",
       "      <td>...</td>\n",
       "      <td>0.000</td>\n",
       "      <td>0.000</td>\n",
       "      <td>0.000</td>\n",
       "      <td>0.000</td>\n",
       "      <td>0.000</td>\n",
       "      <td>0.000</td>\n",
       "      <td>0.000</td>\n",
       "      <td>0.000</td>\n",
       "      <td>0.000</td>\n",
       "      <td>0.000</td>\n",
       "    </tr>\n",
       "  </tbody>\n",
       "</table>\n",
       "<p>5 rows × 2444 columns</p>\n",
       "</div>"
      ],
      "text/plain": [
       "bookTitle  10 Lb. Penalty  16 Lighthouse Road  1984  1st to Die: A Novel  \\\n",
       "userID                                                                     \n",
       "8                   0.000               0.000 0.000                0.000   \n",
       "9                   0.000               0.000 0.000                0.000   \n",
       "14                  0.000               0.000 0.000                0.000   \n",
       "16                  0.000               0.000 0.000                0.000   \n",
       "17                  0.000               0.000 0.000                0.000   \n",
       "\n",
       "bookTitle  2010: Odyssey Two  204 Rosewood Lane  2061: Odyssey Three  \\\n",
       "userID                                                                 \n",
       "8                      0.000              0.000                0.000   \n",
       "9                      0.000              0.000                0.000   \n",
       "14                     0.000              0.000                0.000   \n",
       "16                     0.000              0.000                0.000   \n",
       "17                     0.000              0.000                0.000   \n",
       "\n",
       "bookTitle  24 Hours  2nd Chance  3rd Degree  ...  YOU BELONG TO ME  \\\n",
       "userID                                       ...                     \n",
       "8             0.000       0.000       0.000  ...             0.000   \n",
       "9             0.000       0.000       0.000  ...             0.000   \n",
       "14            0.000       0.000       0.000  ...             0.000   \n",
       "16            0.000       0.000       0.000  ...             0.000   \n",
       "17            0.000       0.000       0.000  ...             0.000   \n",
       "\n",
       "bookTitle  Year of Wonders  You Belong To Me  You Shall Know Our Velocity  \\\n",
       "userID                                                                      \n",
       "8                    0.000             0.000                        0.000   \n",
       "9                    0.000             0.000                        0.000   \n",
       "14                   0.000             0.000                        0.000   \n",
       "16                   0.000             0.000                        0.000   \n",
       "17                   0.000             0.000                        0.000   \n",
       "\n",
       "bookTitle  Young Wives  \\\n",
       "userID                   \n",
       "8                0.000   \n",
       "9                0.000   \n",
       "14               0.000   \n",
       "16               0.000   \n",
       "17               0.000   \n",
       "\n",
       "bookTitle  Zen and the Art of Motorcycle Maintenance: An Inquiry into Values  \\\n",
       "userID                                                                         \n",
       "8                                                      0.000                   \n",
       "9                                                      0.000                   \n",
       "14                                                     0.000                   \n",
       "16                                                     0.000                   \n",
       "17                                                     0.000                   \n",
       "\n",
       "bookTitle  Zoya  \\O\\\" Is for Outlaw\"  \\\n",
       "userID                                 \n",
       "8         0.000                0.000   \n",
       "9         0.000                0.000   \n",
       "14        0.000                0.000   \n",
       "16        0.000                0.000   \n",
       "17        0.000                0.000   \n",
       "\n",
       "bookTitle  \\Surely You're Joking, Mr. Feynman!\\\": Adventures of a Curious Character\"  \\\n",
       "userID                                                                                 \n",
       "8                                                      0.000                           \n",
       "9                                                      0.000                           \n",
       "14                                                     0.000                           \n",
       "16                                                     0.000                           \n",
       "17                                                     0.000                           \n",
       "\n",
       "bookTitle  stardust  \n",
       "userID               \n",
       "8             0.000  \n",
       "9             0.000  \n",
       "14            0.000  \n",
       "16            0.000  \n",
       "17            0.000  \n",
       "\n",
       "[5 rows x 2444 columns]"
      ]
     },
     "execution_count": 125,
     "metadata": {},
     "output_type": "execute_result"
    }
   ],
   "source": [
    "us_canada_user_rating_pivot2.head()"
   ]
  },
  {
   "cell_type": "code",
   "execution_count": 126,
   "id": "68d9b751-58b7-4fe4-915c-9460b21b8709",
   "metadata": {},
   "outputs": [
    {
     "data": {
      "text/plain": [
       "(47994, 2444)"
      ]
     },
     "execution_count": 126,
     "metadata": {},
     "output_type": "execute_result"
    }
   ],
   "source": [
    "us_canada_user_rating_pivot2.shape"
   ]
  },
  {
   "cell_type": "code",
   "execution_count": 127,
   "id": "d2f579d9-9367-4932-9111-09eefcd88d6a",
   "metadata": {},
   "outputs": [
    {
     "data": {
      "text/plain": [
       "(2444, 47994)"
      ]
     },
     "execution_count": 127,
     "metadata": {},
     "output_type": "execute_result"
    }
   ],
   "source": [
    "X = us_canada_user_rating_pivot2.values.T\n",
    "X.shape"
   ]
  },
  {
   "cell_type": "code",
   "execution_count": 128,
   "id": "9e2c6d0f-38ae-4b99-a17e-4fc46575188c",
   "metadata": {},
   "outputs": [
    {
     "data": {
      "text/plain": [
       "(2444, 12)"
      ]
     },
     "execution_count": 128,
     "metadata": {},
     "output_type": "execute_result"
    }
   ],
   "source": [
    "import sklearn\n",
    "from sklearn.decomposition import TruncatedSVD\n",
    "\n",
    "SVD = TruncatedSVD(n_components=12, random_state=17)\n",
    "matrix = SVD.fit_transform(X)\n",
    "matrix.shape"
   ]
  },
  {
   "cell_type": "code",
   "execution_count": 129,
   "id": "8bd35028-e90b-49d4-927c-8e7bdeeea280",
   "metadata": {},
   "outputs": [
    {
     "data": {
      "text/plain": [
       "(2444, 2444)"
      ]
     },
     "execution_count": 129,
     "metadata": {},
     "output_type": "execute_result"
    }
   ],
   "source": [
    "corr = np.corrcoef(matrix)\n",
    "corr.shape"
   ]
  },
  {
   "cell_type": "markdown",
   "id": "213efb7a-1f86-4ab7-8a81-809cda1267ac",
   "metadata": {},
   "source": [
    "Let's find books similar to Harry Potter and the Sorcerer's Stone (Book 1)"
   ]
  },
  {
   "cell_type": "code",
   "execution_count": 130,
   "id": "edbaacad-05f2-4a51-8923-2eecb52669ca",
   "metadata": {},
   "outputs": [],
   "source": [
    "us_canada_book_title = us_canada_user_rating_pivot2.columns\n",
    "us_canada_book_list = list(us_canada_book_title)\n",
    "coffey_hands = us_canada_book_list.index(\"Harry Potter and the Sorcerer's Stone (Book 1)\")"
   ]
  },
  {
   "cell_type": "code",
   "execution_count": 131,
   "id": "8741e564-4242-4441-8ba5-42c34248604e",
   "metadata": {},
   "outputs": [],
   "source": [
    "corr_coffey_hands  = corr[coffey_hands]"
   ]
  },
  {
   "cell_type": "code",
   "execution_count": 132,
   "id": "e2def52e-c03b-4178-a628-083868f899d2",
   "metadata": {},
   "outputs": [
    {
     "data": {
      "text/plain": [
       "['Harry Potter and the Chamber of Secrets (Book 2)',\n",
       " 'Harry Potter and the Goblet of Fire (Book 4)',\n",
       " 'Harry Potter and the Order of the Phoenix (Book 5)',\n",
       " 'Harry Potter and the Prisoner of Azkaban (Book 3)',\n",
       " \"Harry Potter and the Sorcerer's Stone (Harry Potter (Paperback))\"]"
      ]
     },
     "execution_count": 132,
     "metadata": {},
     "output_type": "execute_result"
    }
   ],
   "source": [
    "list(us_canada_book_title[(corr_coffey_hands<1.0) & (corr_coffey_hands>0.9)])"
   ]
  },
  {
   "cell_type": "code",
   "execution_count": 133,
   "id": "c580473c-6481-43ac-a929-4a5f127d8d11",
   "metadata": {},
   "outputs": [],
   "source": [
    "ratings_explicit.head()\n",
    "ratings_explicit.rename(columns={'user_id':'User-ID','isbn':'ISBN','book_rating':'Book-Rating'},inplace=True)"
   ]
  },
  {
   "cell_type": "code",
   "execution_count": 134,
   "id": "1f17206c-fee4-4307-a0de-c5bbe6e793f0",
   "metadata": {},
   "outputs": [
    {
     "data": {
      "text/html": [
       "<div>\n",
       "<style scoped>\n",
       "    .dataframe tbody tr th:only-of-type {\n",
       "        vertical-align: middle;\n",
       "    }\n",
       "\n",
       "    .dataframe tbody tr th {\n",
       "        vertical-align: top;\n",
       "    }\n",
       "\n",
       "    .dataframe thead th {\n",
       "        text-align: right;\n",
       "    }\n",
       "</style>\n",
       "<table border=\"1\" class=\"dataframe\">\n",
       "  <thead>\n",
       "    <tr style=\"text-align: right;\">\n",
       "      <th></th>\n",
       "      <th>User-ID</th>\n",
       "      <th>ISBN</th>\n",
       "      <th>Book-Rating</th>\n",
       "      <th>Avg_Rating</th>\n",
       "      <th>Total_No_Of_Users_Rated</th>\n",
       "    </tr>\n",
       "  </thead>\n",
       "  <tbody>\n",
       "    <tr>\n",
       "      <th>1</th>\n",
       "      <td>276726</td>\n",
       "      <td>0155061224</td>\n",
       "      <td>5</td>\n",
       "      <td>5.000</td>\n",
       "      <td>1</td>\n",
       "    </tr>\n",
       "    <tr>\n",
       "      <th>3</th>\n",
       "      <td>276729</td>\n",
       "      <td>052165615X</td>\n",
       "      <td>3</td>\n",
       "      <td>3.000</td>\n",
       "      <td>1</td>\n",
       "    </tr>\n",
       "    <tr>\n",
       "      <th>4</th>\n",
       "      <td>276729</td>\n",
       "      <td>0521795028</td>\n",
       "      <td>6</td>\n",
       "      <td>6.000</td>\n",
       "      <td>1</td>\n",
       "    </tr>\n",
       "    <tr>\n",
       "      <th>8</th>\n",
       "      <td>276744</td>\n",
       "      <td>038550120X</td>\n",
       "      <td>7</td>\n",
       "      <td>7.580</td>\n",
       "      <td>81</td>\n",
       "    </tr>\n",
       "    <tr>\n",
       "      <th>16</th>\n",
       "      <td>276747</td>\n",
       "      <td>0060517794</td>\n",
       "      <td>9</td>\n",
       "      <td>8.000</td>\n",
       "      <td>30</td>\n",
       "    </tr>\n",
       "  </tbody>\n",
       "</table>\n",
       "</div>"
      ],
      "text/plain": [
       "    User-ID        ISBN  Book-Rating  Avg_Rating  Total_No_Of_Users_Rated\n",
       "1    276726  0155061224            5       5.000                        1\n",
       "3    276729  052165615X            3       3.000                        1\n",
       "4    276729  0521795028            6       6.000                        1\n",
       "8    276744  038550120X            7       7.580                       81\n",
       "16   276747  0060517794            9       8.000                       30"
      ]
     },
     "execution_count": 134,
     "metadata": {},
     "output_type": "execute_result"
    }
   ],
   "source": [
    "ratings_explicit.head()"
   ]
  },
  {
   "cell_type": "code",
   "execution_count": 135,
   "id": "b51c57e7-dcbf-4e6e-99a1-c9bc430f166c",
   "metadata": {},
   "outputs": [
    {
     "name": "stdout",
     "output_type": "stream",
     "text": [
      "# of users: 68091\n",
      "# of users with at least 5 interactions: 449\n"
     ]
    }
   ],
   "source": [
    "users_interactions_count_df = ratings_explicit.groupby(['ISBN', 'User-ID']).size().groupby('User-ID').size()\n",
    "print('# of users: %d' % len(users_interactions_count_df))\n",
    "\n",
    "users_with_enough_interactions_df = users_interactions_count_df[users_interactions_count_df >= 100].reset_index()[['User-ID']]\n",
    "print('# of users with at least 5 interactions: %d' % len(users_with_enough_interactions_df))"
   ]
  },
  {
   "cell_type": "code",
   "execution_count": 136,
   "id": "2187e11d-59b8-4ba2-8850-942490c8a441",
   "metadata": {},
   "outputs": [
    {
     "name": "stdout",
     "output_type": "stream",
     "text": [
      "# of interactions: 383842\n",
      "# of interactions from users with at least 5 interactions: 103271\n"
     ]
    }
   ],
   "source": [
    "print('# of interactions: %d' % len(ratings_explicit))\n",
    "interactions_from_selected_users_df = ratings_explicit.merge(users_with_enough_interactions_df, \n",
    "               how = 'right',\n",
    "               left_on = 'User-ID',\n",
    "               right_on = 'User-ID')\n",
    "print('# of interactions from users with at least 5 interactions: %d' % len(interactions_from_selected_users_df))"
   ]
  },
  {
   "cell_type": "code",
   "execution_count": 137,
   "id": "8abf9a47-6bdb-4ceb-8b12-06f1a8ca41f6",
   "metadata": {},
   "outputs": [
    {
     "data": {
      "text/html": [
       "<div>\n",
       "<style scoped>\n",
       "    .dataframe tbody tr th:only-of-type {\n",
       "        vertical-align: middle;\n",
       "    }\n",
       "\n",
       "    .dataframe tbody tr th {\n",
       "        vertical-align: top;\n",
       "    }\n",
       "\n",
       "    .dataframe thead th {\n",
       "        text-align: right;\n",
       "    }\n",
       "</style>\n",
       "<table border=\"1\" class=\"dataframe\">\n",
       "  <thead>\n",
       "    <tr style=\"text-align: right;\">\n",
       "      <th></th>\n",
       "      <th>User-ID</th>\n",
       "      <th>ISBN</th>\n",
       "      <th>Book-Rating</th>\n",
       "      <th>Avg_Rating</th>\n",
       "      <th>Total_No_Of_Users_Rated</th>\n",
       "    </tr>\n",
       "  </thead>\n",
       "  <tbody>\n",
       "    <tr>\n",
       "      <th>0</th>\n",
       "      <td>2033</td>\n",
       "      <td>0030020786</td>\n",
       "      <td>7</td>\n",
       "      <td>7.000</td>\n",
       "      <td>1</td>\n",
       "    </tr>\n",
       "    <tr>\n",
       "      <th>1</th>\n",
       "      <td>2033</td>\n",
       "      <td>0060248025</td>\n",
       "      <td>10</td>\n",
       "      <td>8.767</td>\n",
       "      <td>30</td>\n",
       "    </tr>\n",
       "    <tr>\n",
       "      <th>2</th>\n",
       "      <td>2033</td>\n",
       "      <td>0060256664</td>\n",
       "      <td>10</td>\n",
       "      <td>8.333</td>\n",
       "      <td>6</td>\n",
       "    </tr>\n",
       "    <tr>\n",
       "      <th>3</th>\n",
       "      <td>2033</td>\n",
       "      <td>0060256737</td>\n",
       "      <td>10</td>\n",
       "      <td>9.045</td>\n",
       "      <td>22</td>\n",
       "    </tr>\n",
       "    <tr>\n",
       "      <th>4</th>\n",
       "      <td>2033</td>\n",
       "      <td>0060950536</td>\n",
       "      <td>10</td>\n",
       "      <td>9.400</td>\n",
       "      <td>5</td>\n",
       "    </tr>\n",
       "    <tr>\n",
       "      <th>5</th>\n",
       "      <td>2033</td>\n",
       "      <td>0061020419</td>\n",
       "      <td>7</td>\n",
       "      <td>7.000</td>\n",
       "      <td>1</td>\n",
       "    </tr>\n",
       "    <tr>\n",
       "      <th>6</th>\n",
       "      <td>2033</td>\n",
       "      <td>0061020427</td>\n",
       "      <td>6</td>\n",
       "      <td>6.000</td>\n",
       "      <td>1</td>\n",
       "    </tr>\n",
       "    <tr>\n",
       "      <th>7</th>\n",
       "      <td>2033</td>\n",
       "      <td>0061056278</td>\n",
       "      <td>10</td>\n",
       "      <td>9.000</td>\n",
       "      <td>2</td>\n",
       "    </tr>\n",
       "    <tr>\n",
       "      <th>8</th>\n",
       "      <td>2033</td>\n",
       "      <td>0061056286</td>\n",
       "      <td>8</td>\n",
       "      <td>7.667</td>\n",
       "      <td>3</td>\n",
       "    </tr>\n",
       "    <tr>\n",
       "      <th>9</th>\n",
       "      <td>2033</td>\n",
       "      <td>0061056294</td>\n",
       "      <td>9</td>\n",
       "      <td>7.000</td>\n",
       "      <td>2</td>\n",
       "    </tr>\n",
       "  </tbody>\n",
       "</table>\n",
       "</div>"
      ],
      "text/plain": [
       "   User-ID        ISBN  Book-Rating  Avg_Rating  Total_No_Of_Users_Rated\n",
       "0     2033  0030020786            7       7.000                        1\n",
       "1     2033  0060248025           10       8.767                       30\n",
       "2     2033  0060256664           10       8.333                        6\n",
       "3     2033  0060256737           10       9.045                       22\n",
       "4     2033  0060950536           10       9.400                        5\n",
       "5     2033  0061020419            7       7.000                        1\n",
       "6     2033  0061020427            6       6.000                        1\n",
       "7     2033  0061056278           10       9.000                        2\n",
       "8     2033  0061056286            8       7.667                        3\n",
       "9     2033  0061056294            9       7.000                        2"
      ]
     },
     "execution_count": 137,
     "metadata": {},
     "output_type": "execute_result"
    }
   ],
   "source": [
    "interactions_from_selected_users_df.head(10)"
   ]
  },
  {
   "cell_type": "code",
   "execution_count": 138,
   "id": "1dd452e2-a4b5-4bb9-8c77-d3829d357286",
   "metadata": {},
   "outputs": [],
   "source": [
    "import math"
   ]
  },
  {
   "cell_type": "code",
   "execution_count": 139,
   "id": "45bb5055-3c9e-4ad2-90b5-bf8cd24e9daa",
   "metadata": {},
   "outputs": [
    {
     "name": "stdout",
     "output_type": "stream",
     "text": [
      "# of unique user/item interactions: 103271\n"
     ]
    },
    {
     "data": {
      "text/html": [
       "<div>\n",
       "<style scoped>\n",
       "    .dataframe tbody tr th:only-of-type {\n",
       "        vertical-align: middle;\n",
       "    }\n",
       "\n",
       "    .dataframe tbody tr th {\n",
       "        vertical-align: top;\n",
       "    }\n",
       "\n",
       "    .dataframe thead th {\n",
       "        text-align: right;\n",
       "    }\n",
       "</style>\n",
       "<table border=\"1\" class=\"dataframe\">\n",
       "  <thead>\n",
       "    <tr style=\"text-align: right;\">\n",
       "      <th></th>\n",
       "      <th>ISBN</th>\n",
       "      <th>User-ID</th>\n",
       "      <th>Book-Rating</th>\n",
       "    </tr>\n",
       "  </thead>\n",
       "  <tbody>\n",
       "    <tr>\n",
       "      <th>0</th>\n",
       "      <td>0000913154</td>\n",
       "      <td>171118</td>\n",
       "      <td>3.170</td>\n",
       "    </tr>\n",
       "    <tr>\n",
       "      <th>1</th>\n",
       "      <td>0001046438</td>\n",
       "      <td>23902</td>\n",
       "      <td>3.322</td>\n",
       "    </tr>\n",
       "    <tr>\n",
       "      <th>2</th>\n",
       "      <td>000104687X</td>\n",
       "      <td>23902</td>\n",
       "      <td>2.807</td>\n",
       "    </tr>\n",
       "    <tr>\n",
       "      <th>3</th>\n",
       "      <td>0001047213</td>\n",
       "      <td>23902</td>\n",
       "      <td>3.322</td>\n",
       "    </tr>\n",
       "    <tr>\n",
       "      <th>4</th>\n",
       "      <td>0001047973</td>\n",
       "      <td>23902</td>\n",
       "      <td>3.322</td>\n",
       "    </tr>\n",
       "  </tbody>\n",
       "</table>\n",
       "</div>"
      ],
      "text/plain": [
       "         ISBN  User-ID  Book-Rating\n",
       "0  0000913154   171118        3.170\n",
       "1  0001046438    23902        3.322\n",
       "2  000104687X    23902        2.807\n",
       "3  0001047213    23902        3.322\n",
       "4  0001047973    23902        3.322"
      ]
     },
     "execution_count": 139,
     "metadata": {},
     "output_type": "execute_result"
    }
   ],
   "source": [
    "def smooth_user_preference(x):\n",
    "    return math.log(1+x, 2)\n",
    "    \n",
    "interactions_full_df = interactions_from_selected_users_df.groupby(['ISBN', 'User-ID'])['Book-Rating'].sum().apply(smooth_user_preference).reset_index()\n",
    "print('# of unique user/item interactions: %d' % len(interactions_full_df))\n",
    "interactions_full_df.head()"
   ]
  },
  {
   "cell_type": "code",
   "execution_count": 140,
   "id": "103d4520-e92c-400c-b9fc-9c4cd91fa79b",
   "metadata": {},
   "outputs": [],
   "source": [
    "from sklearn.model_selection import train_test_split"
   ]
  },
  {
   "cell_type": "code",
   "execution_count": 141,
   "id": "4325bf59-84de-44ad-9770-cc5a91be4af9",
   "metadata": {},
   "outputs": [
    {
     "name": "stdout",
     "output_type": "stream",
     "text": [
      "# interactions on Train set: 82616\n",
      "# interactions on Test set: 20655\n"
     ]
    }
   ],
   "source": [
    "interactions_train_df, interactions_test_df = train_test_split(interactions_full_df,\n",
    "                                   stratify=interactions_full_df['User-ID'], \n",
    "                                   test_size=0.20,\n",
    "                                   random_state=42)\n",
    "\n",
    "print('# interactions on Train set: %d' % len(interactions_train_df))\n",
    "print('# interactions on Test set: %d' % len(interactions_test_df))"
   ]
  },
  {
   "cell_type": "code",
   "execution_count": 142,
   "id": "2b078b1a-bdbc-413f-96f0-c1e89b51ebaf",
   "metadata": {},
   "outputs": [
    {
     "data": {
      "text/html": [
       "<div>\n",
       "<style scoped>\n",
       "    .dataframe tbody tr th:only-of-type {\n",
       "        vertical-align: middle;\n",
       "    }\n",
       "\n",
       "    .dataframe tbody tr th {\n",
       "        vertical-align: top;\n",
       "    }\n",
       "\n",
       "    .dataframe thead th {\n",
       "        text-align: right;\n",
       "    }\n",
       "</style>\n",
       "<table border=\"1\" class=\"dataframe\">\n",
       "  <thead>\n",
       "    <tr style=\"text-align: right;\">\n",
       "      <th></th>\n",
       "      <th>ISBN</th>\n",
       "      <th>User-ID</th>\n",
       "      <th>Book-Rating</th>\n",
       "    </tr>\n",
       "  </thead>\n",
       "  <tbody>\n",
       "    <tr>\n",
       "      <th>87596</th>\n",
       "      <td>0879051213</td>\n",
       "      <td>95010</td>\n",
       "      <td>3.000</td>\n",
       "    </tr>\n",
       "    <tr>\n",
       "      <th>52630</th>\n",
       "      <td>0515101230</td>\n",
       "      <td>129074</td>\n",
       "      <td>3.000</td>\n",
       "    </tr>\n",
       "    <tr>\n",
       "      <th>68434</th>\n",
       "      <td>0679427724</td>\n",
       "      <td>75819</td>\n",
       "      <td>3.170</td>\n",
       "    </tr>\n",
       "    <tr>\n",
       "      <th>85835</th>\n",
       "      <td>0843951346</td>\n",
       "      <td>135149</td>\n",
       "      <td>3.322</td>\n",
       "    </tr>\n",
       "    <tr>\n",
       "      <th>92752</th>\n",
       "      <td>1551665727</td>\n",
       "      <td>158295</td>\n",
       "      <td>3.170</td>\n",
       "    </tr>\n",
       "  </tbody>\n",
       "</table>\n",
       "</div>"
      ],
      "text/plain": [
       "             ISBN  User-ID  Book-Rating\n",
       "87596  0879051213    95010        3.000\n",
       "52630  0515101230   129074        3.000\n",
       "68434  0679427724    75819        3.170\n",
       "85835  0843951346   135149        3.322\n",
       "92752  1551665727   158295        3.170"
      ]
     },
     "execution_count": 142,
     "metadata": {},
     "output_type": "execute_result"
    }
   ],
   "source": [
    "interactions_test_df.head()"
   ]
  },
  {
   "cell_type": "code",
   "execution_count": 143,
   "id": "8fb50846-50af-420e-92f1-6b0954b8c2a4",
   "metadata": {},
   "outputs": [
    {
     "data": {
      "text/html": [
       "<div>\n",
       "<style scoped>\n",
       "    .dataframe tbody tr th:only-of-type {\n",
       "        vertical-align: middle;\n",
       "    }\n",
       "\n",
       "    .dataframe tbody tr th {\n",
       "        vertical-align: top;\n",
       "    }\n",
       "\n",
       "    .dataframe thead th {\n",
       "        text-align: right;\n",
       "    }\n",
       "</style>\n",
       "<table border=\"1\" class=\"dataframe\">\n",
       "  <thead>\n",
       "    <tr style=\"text-align: right;\">\n",
       "      <th>ISBN</th>\n",
       "      <th>0000913154</th>\n",
       "      <th>000104687X</th>\n",
       "      <th>0001047213</th>\n",
       "      <th>0001047973</th>\n",
       "      <th>000104799X</th>\n",
       "      <th>0001048082</th>\n",
       "      <th>0001053736</th>\n",
       "      <th>0001055607</th>\n",
       "      <th>0001056107</th>\n",
       "      <th>0001845039</th>\n",
       "      <th>...</th>\n",
       "      <th>B00007FYKW</th>\n",
       "      <th>B00008RWPV</th>\n",
       "      <th>B00009NDAN</th>\n",
       "      <th>B0000DYXID</th>\n",
       "      <th>B0000T6KHI</th>\n",
       "      <th>B0000VZEJQ</th>\n",
       "      <th>B0000X8HIE</th>\n",
       "      <th>B00013AX9E</th>\n",
       "      <th>B0001I1KOG</th>\n",
       "      <th>B000234N3A</th>\n",
       "    </tr>\n",
       "    <tr>\n",
       "      <th>User-ID</th>\n",
       "      <th></th>\n",
       "      <th></th>\n",
       "      <th></th>\n",
       "      <th></th>\n",
       "      <th></th>\n",
       "      <th></th>\n",
       "      <th></th>\n",
       "      <th></th>\n",
       "      <th></th>\n",
       "      <th></th>\n",
       "      <th></th>\n",
       "      <th></th>\n",
       "      <th></th>\n",
       "      <th></th>\n",
       "      <th></th>\n",
       "      <th></th>\n",
       "      <th></th>\n",
       "      <th></th>\n",
       "      <th></th>\n",
       "      <th></th>\n",
       "      <th></th>\n",
       "    </tr>\n",
       "  </thead>\n",
       "  <tbody>\n",
       "    <tr>\n",
       "      <th>2033</th>\n",
       "      <td>0.000</td>\n",
       "      <td>0.000</td>\n",
       "      <td>0.000</td>\n",
       "      <td>0.000</td>\n",
       "      <td>0.000</td>\n",
       "      <td>0.000</td>\n",
       "      <td>0.000</td>\n",
       "      <td>0.000</td>\n",
       "      <td>0.000</td>\n",
       "      <td>0.000</td>\n",
       "      <td>...</td>\n",
       "      <td>0.000</td>\n",
       "      <td>0.000</td>\n",
       "      <td>0.000</td>\n",
       "      <td>0.000</td>\n",
       "      <td>0.000</td>\n",
       "      <td>0.000</td>\n",
       "      <td>0.000</td>\n",
       "      <td>0.000</td>\n",
       "      <td>0.000</td>\n",
       "      <td>0.000</td>\n",
       "    </tr>\n",
       "    <tr>\n",
       "      <th>2110</th>\n",
       "      <td>0.000</td>\n",
       "      <td>0.000</td>\n",
       "      <td>0.000</td>\n",
       "      <td>0.000</td>\n",
       "      <td>0.000</td>\n",
       "      <td>0.000</td>\n",
       "      <td>0.000</td>\n",
       "      <td>0.000</td>\n",
       "      <td>0.000</td>\n",
       "      <td>0.000</td>\n",
       "      <td>...</td>\n",
       "      <td>0.000</td>\n",
       "      <td>0.000</td>\n",
       "      <td>0.000</td>\n",
       "      <td>0.000</td>\n",
       "      <td>0.000</td>\n",
       "      <td>0.000</td>\n",
       "      <td>0.000</td>\n",
       "      <td>0.000</td>\n",
       "      <td>0.000</td>\n",
       "      <td>0.000</td>\n",
       "    </tr>\n",
       "    <tr>\n",
       "      <th>2276</th>\n",
       "      <td>0.000</td>\n",
       "      <td>0.000</td>\n",
       "      <td>0.000</td>\n",
       "      <td>0.000</td>\n",
       "      <td>0.000</td>\n",
       "      <td>0.000</td>\n",
       "      <td>0.000</td>\n",
       "      <td>0.000</td>\n",
       "      <td>0.000</td>\n",
       "      <td>0.000</td>\n",
       "      <td>...</td>\n",
       "      <td>0.000</td>\n",
       "      <td>0.000</td>\n",
       "      <td>0.000</td>\n",
       "      <td>0.000</td>\n",
       "      <td>0.000</td>\n",
       "      <td>0.000</td>\n",
       "      <td>0.000</td>\n",
       "      <td>0.000</td>\n",
       "      <td>0.000</td>\n",
       "      <td>0.000</td>\n",
       "    </tr>\n",
       "    <tr>\n",
       "      <th>4017</th>\n",
       "      <td>0.000</td>\n",
       "      <td>0.000</td>\n",
       "      <td>0.000</td>\n",
       "      <td>0.000</td>\n",
       "      <td>0.000</td>\n",
       "      <td>0.000</td>\n",
       "      <td>0.000</td>\n",
       "      <td>0.000</td>\n",
       "      <td>0.000</td>\n",
       "      <td>0.000</td>\n",
       "      <td>...</td>\n",
       "      <td>0.000</td>\n",
       "      <td>0.000</td>\n",
       "      <td>0.000</td>\n",
       "      <td>0.000</td>\n",
       "      <td>0.000</td>\n",
       "      <td>0.000</td>\n",
       "      <td>0.000</td>\n",
       "      <td>0.000</td>\n",
       "      <td>0.000</td>\n",
       "      <td>0.000</td>\n",
       "    </tr>\n",
       "    <tr>\n",
       "      <th>4385</th>\n",
       "      <td>0.000</td>\n",
       "      <td>0.000</td>\n",
       "      <td>0.000</td>\n",
       "      <td>0.000</td>\n",
       "      <td>0.000</td>\n",
       "      <td>0.000</td>\n",
       "      <td>0.000</td>\n",
       "      <td>0.000</td>\n",
       "      <td>0.000</td>\n",
       "      <td>0.000</td>\n",
       "      <td>...</td>\n",
       "      <td>0.000</td>\n",
       "      <td>0.000</td>\n",
       "      <td>0.000</td>\n",
       "      <td>0.000</td>\n",
       "      <td>0.000</td>\n",
       "      <td>0.000</td>\n",
       "      <td>0.000</td>\n",
       "      <td>0.000</td>\n",
       "      <td>0.000</td>\n",
       "      <td>0.000</td>\n",
       "    </tr>\n",
       "  </tbody>\n",
       "</table>\n",
       "<p>5 rows × 55743 columns</p>\n",
       "</div>"
      ],
      "text/plain": [
       "ISBN     0000913154  000104687X  0001047213  0001047973  000104799X  \\\n",
       "User-ID                                                               \n",
       "2033          0.000       0.000       0.000       0.000       0.000   \n",
       "2110          0.000       0.000       0.000       0.000       0.000   \n",
       "2276          0.000       0.000       0.000       0.000       0.000   \n",
       "4017          0.000       0.000       0.000       0.000       0.000   \n",
       "4385          0.000       0.000       0.000       0.000       0.000   \n",
       "\n",
       "ISBN     0001048082  0001053736  0001055607  0001056107  0001845039  ...  \\\n",
       "User-ID                                                              ...   \n",
       "2033          0.000       0.000       0.000       0.000       0.000  ...   \n",
       "2110          0.000       0.000       0.000       0.000       0.000  ...   \n",
       "2276          0.000       0.000       0.000       0.000       0.000  ...   \n",
       "4017          0.000       0.000       0.000       0.000       0.000  ...   \n",
       "4385          0.000       0.000       0.000       0.000       0.000  ...   \n",
       "\n",
       "ISBN     B00007FYKW  B00008RWPV  B00009NDAN  B0000DYXID  B0000T6KHI  \\\n",
       "User-ID                                                               \n",
       "2033          0.000       0.000       0.000       0.000       0.000   \n",
       "2110          0.000       0.000       0.000       0.000       0.000   \n",
       "2276          0.000       0.000       0.000       0.000       0.000   \n",
       "4017          0.000       0.000       0.000       0.000       0.000   \n",
       "4385          0.000       0.000       0.000       0.000       0.000   \n",
       "\n",
       "ISBN     B0000VZEJQ  B0000X8HIE  B00013AX9E  B0001I1KOG  B000234N3A  \n",
       "User-ID                                                              \n",
       "2033          0.000       0.000       0.000       0.000       0.000  \n",
       "2110          0.000       0.000       0.000       0.000       0.000  \n",
       "2276          0.000       0.000       0.000       0.000       0.000  \n",
       "4017          0.000       0.000       0.000       0.000       0.000  \n",
       "4385          0.000       0.000       0.000       0.000       0.000  \n",
       "\n",
       "[5 rows x 55743 columns]"
      ]
     },
     "execution_count": 143,
     "metadata": {},
     "output_type": "execute_result"
    }
   ],
   "source": [
    "#Creating a sparse pivot table with users in rows and items in columns\n",
    "users_items_pivot_matrix_df = interactions_train_df.pivot(index='User-ID', \n",
    "                                                          columns='ISBN', \n",
    "                                                          values='Book-Rating').fillna(0)\n",
    "\n",
    "users_items_pivot_matrix_df.head()"
   ]
  },
  {
   "cell_type": "code",
   "execution_count": 144,
   "id": "02e11188-1e67-413a-a26b-41cf914bd66a",
   "metadata": {},
   "outputs": [
    {
     "data": {
      "text/plain": [
       "array([[0., 0., 0., ..., 0., 0., 0.],\n",
       "       [0., 0., 0., ..., 0., 0., 0.],\n",
       "       [0., 0., 0., ..., 0., 0., 0.],\n",
       "       ...,\n",
       "       [0., 0., 0., ..., 0., 0., 0.],\n",
       "       [0., 0., 0., ..., 0., 0., 0.],\n",
       "       [0., 0., 0., ..., 0., 0., 0.]])"
      ]
     },
     "execution_count": 144,
     "metadata": {},
     "output_type": "execute_result"
    }
   ],
   "source": [
    "users_items_pivot_matrix = users_items_pivot_matrix_df.values\n",
    "users_items_pivot_matrix[:10]"
   ]
  },
  {
   "cell_type": "code",
   "execution_count": 145,
   "id": "a1a3987c-b6bb-4a5f-abe0-ad00c35bf7ff",
   "metadata": {},
   "outputs": [
    {
     "data": {
      "text/plain": [
       "[2033, 2110, 2276, 4017, 4385, 5582, 6242, 6251, 6543, 6575]"
      ]
     },
     "execution_count": 145,
     "metadata": {},
     "output_type": "execute_result"
    }
   ],
   "source": [
    "users_ids = list(users_items_pivot_matrix_df.index)\n",
    "users_ids[:10]"
   ]
  },
  {
   "cell_type": "code",
   "execution_count": 146,
   "id": "2e8ca5b6-7bbb-4c02-8965-35c9ff8a27b2",
   "metadata": {},
   "outputs": [],
   "source": [
    "from sklearn.metrics.pairwise import cosine_similarity\n",
    "from scipy.sparse.linalg import svds"
   ]
  },
  {
   "cell_type": "code",
   "execution_count": 147,
   "id": "28e81759-fdd0-4f5d-90ab-90bc9b1a50ba",
   "metadata": {},
   "outputs": [],
   "source": [
    "# The number of factors to factor the user-item matrix.\n",
    "NUMBER_OF_FACTORS_MF = 15\n",
    "\n",
    "#Performs matrix factorization of the original user item matrix\n",
    "U, sigma, Vt = svds(users_items_pivot_matrix, k = NUMBER_OF_FACTORS_MF)"
   ]
  },
  {
   "cell_type": "code",
   "execution_count": 148,
   "id": "e309fe32-81b7-4d30-b6e5-5d36401beadb",
   "metadata": {},
   "outputs": [
    {
     "data": {
      "text/plain": [
       "(449, 55743)"
      ]
     },
     "execution_count": 148,
     "metadata": {},
     "output_type": "execute_result"
    }
   ],
   "source": [
    "users_items_pivot_matrix.shape"
   ]
  },
  {
   "cell_type": "code",
   "execution_count": 149,
   "id": "9d9d76b9-951b-41fa-b1a7-9fbb5ff2ab27",
   "metadata": {},
   "outputs": [
    {
     "data": {
      "text/plain": [
       "(449, 15)"
      ]
     },
     "execution_count": 149,
     "metadata": {},
     "output_type": "execute_result"
    }
   ],
   "source": [
    "U.shape"
   ]
  },
  {
   "cell_type": "code",
   "execution_count": 150,
   "id": "9cf0148d-c2b4-43e6-af52-54552fe9dda1",
   "metadata": {},
   "outputs": [
    {
     "data": {
      "text/plain": [
       "(15, 15)"
      ]
     },
     "execution_count": 150,
     "metadata": {},
     "output_type": "execute_result"
    }
   ],
   "source": [
    "sigma = np.diag(sigma)\n",
    "sigma.shape"
   ]
  },
  {
   "cell_type": "code",
   "execution_count": 151,
   "id": "67f812dd-432e-4ef1-94b7-fb48932c526f",
   "metadata": {},
   "outputs": [
    {
     "data": {
      "text/plain": [
       "(15, 55743)"
      ]
     },
     "execution_count": 151,
     "metadata": {},
     "output_type": "execute_result"
    }
   ],
   "source": [
    "Vt.shape"
   ]
  },
  {
   "cell_type": "markdown",
   "id": "c67e12e4-af7b-42e2-a541-933dc48e419f",
   "metadata": {},
   "source": [
    "After factorization, we reconstruct the original matrix by multiplying its factors. The resulting matrix is no longer sparse, as it generates predictions for items the user has not yet interacted with. We can leverage this for making recommendations."
   ]
  },
  {
   "cell_type": "code",
   "execution_count": 152,
   "id": "98a5fc0d-395c-48b1-8fce-8d9af133d420",
   "metadata": {},
   "outputs": [
    {
     "data": {
      "text/plain": [
       "array([[ 1.48048195e-02,  2.31728082e-03,  2.74202603e-03, ...,\n",
       "         2.27788796e-04,  5.49322969e-04,  1.26270997e-02],\n",
       "       [-7.38279388e-04, -8.94254584e-04, -1.05816668e-03, ...,\n",
       "         8.58241199e-05,  1.78651132e-04,  4.24690377e-03],\n",
       "       [-2.00559626e-03, -1.73047641e-03, -2.04766350e-03, ...,\n",
       "         1.78220412e-04,  4.04160623e-04,  7.29766631e-03],\n",
       "       ...,\n",
       "       [ 4.20550556e-03,  1.96625381e-03,  2.32665764e-03, ...,\n",
       "         2.49809614e-04,  4.73258210e-04,  8.35154052e-03],\n",
       "       [ 1.13675090e-02, -2.21445596e-03, -2.62035392e-03, ...,\n",
       "         3.41186005e-04,  6.59446393e-04,  1.16707765e-02],\n",
       "       [-1.44606285e-03,  5.14009860e-03,  6.08225124e-03, ...,\n",
       "         8.58660344e-05,  1.46974496e-04,  2.89210573e-03]])"
      ]
     },
     "execution_count": 152,
     "metadata": {},
     "output_type": "execute_result"
    }
   ],
   "source": [
    "all_user_predicted_ratings = np.dot(np.dot(U, sigma), Vt) \n",
    "all_user_predicted_ratings"
   ]
  },
  {
   "cell_type": "code",
   "execution_count": 153,
   "id": "f530633f-d3f1-4ca9-a4c8-9a6b5376b215",
   "metadata": {},
   "outputs": [
    {
     "data": {
      "text/plain": [
       "(449, 55743)"
      ]
     },
     "execution_count": 153,
     "metadata": {},
     "output_type": "execute_result"
    }
   ],
   "source": [
    "all_user_predicted_ratings.shape"
   ]
  },
  {
   "cell_type": "code",
   "execution_count": 154,
   "id": "2fe8367a-a01a-4efa-a273-5004ef33adc7",
   "metadata": {},
   "outputs": [
    {
     "data": {
      "text/html": [
       "<div>\n",
       "<style scoped>\n",
       "    .dataframe tbody tr th:only-of-type {\n",
       "        vertical-align: middle;\n",
       "    }\n",
       "\n",
       "    .dataframe tbody tr th {\n",
       "        vertical-align: top;\n",
       "    }\n",
       "\n",
       "    .dataframe thead th {\n",
       "        text-align: right;\n",
       "    }\n",
       "</style>\n",
       "<table border=\"1\" class=\"dataframe\">\n",
       "  <thead>\n",
       "    <tr style=\"text-align: right;\">\n",
       "      <th></th>\n",
       "      <th>2033</th>\n",
       "      <th>2110</th>\n",
       "      <th>2276</th>\n",
       "      <th>4017</th>\n",
       "      <th>4385</th>\n",
       "      <th>5582</th>\n",
       "      <th>6242</th>\n",
       "      <th>6251</th>\n",
       "      <th>6543</th>\n",
       "      <th>6575</th>\n",
       "      <th>...</th>\n",
       "      <th>269566</th>\n",
       "      <th>270713</th>\n",
       "      <th>271448</th>\n",
       "      <th>271705</th>\n",
       "      <th>273113</th>\n",
       "      <th>274061</th>\n",
       "      <th>274301</th>\n",
       "      <th>275970</th>\n",
       "      <th>277427</th>\n",
       "      <th>278418</th>\n",
       "    </tr>\n",
       "    <tr>\n",
       "      <th>ISBN</th>\n",
       "      <th></th>\n",
       "      <th></th>\n",
       "      <th></th>\n",
       "      <th></th>\n",
       "      <th></th>\n",
       "      <th></th>\n",
       "      <th></th>\n",
       "      <th></th>\n",
       "      <th></th>\n",
       "      <th></th>\n",
       "      <th></th>\n",
       "      <th></th>\n",
       "      <th></th>\n",
       "      <th></th>\n",
       "      <th></th>\n",
       "      <th></th>\n",
       "      <th></th>\n",
       "      <th></th>\n",
       "      <th></th>\n",
       "      <th></th>\n",
       "      <th></th>\n",
       "    </tr>\n",
       "  </thead>\n",
       "  <tbody>\n",
       "    <tr>\n",
       "      <th>0000913154</th>\n",
       "      <td>0.015</td>\n",
       "      <td>-0.001</td>\n",
       "      <td>-0.002</td>\n",
       "      <td>0.001</td>\n",
       "      <td>-0.002</td>\n",
       "      <td>-0.003</td>\n",
       "      <td>-0.003</td>\n",
       "      <td>0.007</td>\n",
       "      <td>0.001</td>\n",
       "      <td>0.013</td>\n",
       "      <td>...</td>\n",
       "      <td>0.001</td>\n",
       "      <td>0.003</td>\n",
       "      <td>-0.002</td>\n",
       "      <td>0.008</td>\n",
       "      <td>-0.012</td>\n",
       "      <td>0.001</td>\n",
       "      <td>0.008</td>\n",
       "      <td>0.004</td>\n",
       "      <td>0.011</td>\n",
       "      <td>-0.001</td>\n",
       "    </tr>\n",
       "    <tr>\n",
       "      <th>000104687X</th>\n",
       "      <td>0.002</td>\n",
       "      <td>-0.001</td>\n",
       "      <td>-0.002</td>\n",
       "      <td>0.017</td>\n",
       "      <td>-0.001</td>\n",
       "      <td>0.009</td>\n",
       "      <td>0.014</td>\n",
       "      <td>0.007</td>\n",
       "      <td>-0.003</td>\n",
       "      <td>0.016</td>\n",
       "      <td>...</td>\n",
       "      <td>-0.002</td>\n",
       "      <td>0.013</td>\n",
       "      <td>-0.001</td>\n",
       "      <td>0.014</td>\n",
       "      <td>-0.005</td>\n",
       "      <td>-0.006</td>\n",
       "      <td>0.008</td>\n",
       "      <td>0.002</td>\n",
       "      <td>-0.002</td>\n",
       "      <td>0.005</td>\n",
       "    </tr>\n",
       "    <tr>\n",
       "      <th>0001047213</th>\n",
       "      <td>0.003</td>\n",
       "      <td>-0.001</td>\n",
       "      <td>-0.002</td>\n",
       "      <td>0.020</td>\n",
       "      <td>-0.001</td>\n",
       "      <td>0.010</td>\n",
       "      <td>0.016</td>\n",
       "      <td>0.009</td>\n",
       "      <td>-0.004</td>\n",
       "      <td>0.019</td>\n",
       "      <td>...</td>\n",
       "      <td>-0.003</td>\n",
       "      <td>0.016</td>\n",
       "      <td>-0.001</td>\n",
       "      <td>0.016</td>\n",
       "      <td>-0.005</td>\n",
       "      <td>-0.007</td>\n",
       "      <td>0.009</td>\n",
       "      <td>0.002</td>\n",
       "      <td>-0.003</td>\n",
       "      <td>0.006</td>\n",
       "    </tr>\n",
       "    <tr>\n",
       "      <th>0001047973</th>\n",
       "      <td>0.003</td>\n",
       "      <td>-0.001</td>\n",
       "      <td>-0.002</td>\n",
       "      <td>0.020</td>\n",
       "      <td>-0.001</td>\n",
       "      <td>0.010</td>\n",
       "      <td>0.016</td>\n",
       "      <td>0.009</td>\n",
       "      <td>-0.004</td>\n",
       "      <td>0.019</td>\n",
       "      <td>...</td>\n",
       "      <td>-0.003</td>\n",
       "      <td>0.016</td>\n",
       "      <td>-0.001</td>\n",
       "      <td>0.016</td>\n",
       "      <td>-0.005</td>\n",
       "      <td>-0.007</td>\n",
       "      <td>0.009</td>\n",
       "      <td>0.002</td>\n",
       "      <td>-0.003</td>\n",
       "      <td>0.006</td>\n",
       "    </tr>\n",
       "    <tr>\n",
       "      <th>000104799X</th>\n",
       "      <td>0.001</td>\n",
       "      <td>0.000</td>\n",
       "      <td>0.001</td>\n",
       "      <td>0.002</td>\n",
       "      <td>0.000</td>\n",
       "      <td>0.001</td>\n",
       "      <td>0.001</td>\n",
       "      <td>0.002</td>\n",
       "      <td>0.002</td>\n",
       "      <td>0.004</td>\n",
       "      <td>...</td>\n",
       "      <td>0.001</td>\n",
       "      <td>0.002</td>\n",
       "      <td>0.003</td>\n",
       "      <td>0.001</td>\n",
       "      <td>0.002</td>\n",
       "      <td>0.002</td>\n",
       "      <td>0.002</td>\n",
       "      <td>0.001</td>\n",
       "      <td>0.001</td>\n",
       "      <td>0.000</td>\n",
       "    </tr>\n",
       "  </tbody>\n",
       "</table>\n",
       "<p>5 rows × 449 columns</p>\n",
       "</div>"
      ],
      "text/plain": [
       "            2033    2110    2276    4017    4385    5582    6242    6251    \\\n",
       "ISBN                                                                         \n",
       "0000913154   0.015  -0.001  -0.002   0.001  -0.002  -0.003  -0.003   0.007   \n",
       "000104687X   0.002  -0.001  -0.002   0.017  -0.001   0.009   0.014   0.007   \n",
       "0001047213   0.003  -0.001  -0.002   0.020  -0.001   0.010   0.016   0.009   \n",
       "0001047973   0.003  -0.001  -0.002   0.020  -0.001   0.010   0.016   0.009   \n",
       "000104799X   0.001   0.000   0.001   0.002   0.000   0.001   0.001   0.002   \n",
       "\n",
       "            6543    6575    ...  269566  270713  271448  271705  273113  \\\n",
       "ISBN                        ...                                           \n",
       "0000913154   0.001   0.013  ...   0.001   0.003  -0.002   0.008  -0.012   \n",
       "000104687X  -0.003   0.016  ...  -0.002   0.013  -0.001   0.014  -0.005   \n",
       "0001047213  -0.004   0.019  ...  -0.003   0.016  -0.001   0.016  -0.005   \n",
       "0001047973  -0.004   0.019  ...  -0.003   0.016  -0.001   0.016  -0.005   \n",
       "000104799X   0.002   0.004  ...   0.001   0.002   0.003   0.001   0.002   \n",
       "\n",
       "            274061  274301  275970  277427  278418  \n",
       "ISBN                                                \n",
       "0000913154   0.001   0.008   0.004   0.011  -0.001  \n",
       "000104687X  -0.006   0.008   0.002  -0.002   0.005  \n",
       "0001047213  -0.007   0.009   0.002  -0.003   0.006  \n",
       "0001047973  -0.007   0.009   0.002  -0.003   0.006  \n",
       "000104799X   0.002   0.002   0.001   0.001   0.000  \n",
       "\n",
       "[5 rows x 449 columns]"
      ]
     },
     "execution_count": 154,
     "metadata": {},
     "output_type": "execute_result"
    }
   ],
   "source": [
    "#Converting the reconstructed matrix back to a Pandas dataframe\n",
    "cf_preds_df = pd.DataFrame(all_user_predicted_ratings, columns = users_items_pivot_matrix_df.columns, index=users_ids).transpose()\n",
    "cf_preds_df.head()"
   ]
  },
  {
   "cell_type": "code",
   "execution_count": 155,
   "id": "14d7e3d1-4030-4e4a-948d-6d0f5ae6afa2",
   "metadata": {},
   "outputs": [
    {
     "data": {
      "text/plain": [
       "449"
      ]
     },
     "execution_count": 155,
     "metadata": {},
     "output_type": "execute_result"
    }
   ],
   "source": [
    "len(cf_preds_df.columns)"
   ]
  },
  {
   "cell_type": "code",
   "execution_count": 156,
   "id": "5cddf2e1-dd78-481d-a538-6646d5629a2b",
   "metadata": {},
   "outputs": [
    {
     "data": {
      "text/html": [
       "<div>\n",
       "<style scoped>\n",
       "    .dataframe tbody tr th:only-of-type {\n",
       "        vertical-align: middle;\n",
       "    }\n",
       "\n",
       "    .dataframe tbody tr th {\n",
       "        vertical-align: top;\n",
       "    }\n",
       "\n",
       "    .dataframe thead th {\n",
       "        text-align: right;\n",
       "    }\n",
       "</style>\n",
       "<table border=\"1\" class=\"dataframe\">\n",
       "  <thead>\n",
       "    <tr style=\"text-align: right;\">\n",
       "      <th></th>\n",
       "      <th>ISBN</th>\n",
       "      <th>Book-Title</th>\n",
       "      <th>Book-Author</th>\n",
       "      <th>Year-Of-Publication</th>\n",
       "      <th>Publisher</th>\n",
       "    </tr>\n",
       "  </thead>\n",
       "  <tbody>\n",
       "    <tr>\n",
       "      <th>0</th>\n",
       "      <td>0195153448</td>\n",
       "      <td>Classical Mythology</td>\n",
       "      <td>Mark P. O. Morford</td>\n",
       "      <td>2002.000</td>\n",
       "      <td>Oxford University Press</td>\n",
       "    </tr>\n",
       "    <tr>\n",
       "      <th>1</th>\n",
       "      <td>0002005018</td>\n",
       "      <td>Clara Callan</td>\n",
       "      <td>Richard Bruce Wright</td>\n",
       "      <td>2001.000</td>\n",
       "      <td>HarperFlamingo Canada</td>\n",
       "    </tr>\n",
       "    <tr>\n",
       "      <th>2</th>\n",
       "      <td>0060973129</td>\n",
       "      <td>Decision in Normandy</td>\n",
       "      <td>Carlo D'Este</td>\n",
       "      <td>1991.000</td>\n",
       "      <td>HarperPerennial</td>\n",
       "    </tr>\n",
       "    <tr>\n",
       "      <th>3</th>\n",
       "      <td>0374157065</td>\n",
       "      <td>Flu: The Story of the Great Influenza Pandemic...</td>\n",
       "      <td>Gina Bari Kolata</td>\n",
       "      <td>1999.000</td>\n",
       "      <td>Farrar Straus Giroux</td>\n",
       "    </tr>\n",
       "    <tr>\n",
       "      <th>4</th>\n",
       "      <td>0393045218</td>\n",
       "      <td>The Mummies of Urumchi</td>\n",
       "      <td>E. J. W. Barber</td>\n",
       "      <td>1999.000</td>\n",
       "      <td>W. W. Norton &amp;amp; Company</td>\n",
       "    </tr>\n",
       "  </tbody>\n",
       "</table>\n",
       "</div>"
      ],
      "text/plain": [
       "         ISBN                                         Book-Title  \\\n",
       "0  0195153448                                Classical Mythology   \n",
       "1  0002005018                                       Clara Callan   \n",
       "2  0060973129                               Decision in Normandy   \n",
       "3  0374157065  Flu: The Story of the Great Influenza Pandemic...   \n",
       "4  0393045218                             The Mummies of Urumchi   \n",
       "\n",
       "            Book-Author  Year-Of-Publication                   Publisher  \n",
       "0    Mark P. O. Morford             2002.000     Oxford University Press  \n",
       "1  Richard Bruce Wright             2001.000       HarperFlamingo Canada  \n",
       "2          Carlo D'Este             1991.000             HarperPerennial  \n",
       "3      Gina Bari Kolata             1999.000        Farrar Straus Giroux  \n",
       "4       E. J. W. Barber             1999.000  W. W. Norton &amp; Company  "
      ]
     },
     "execution_count": 156,
     "metadata": {},
     "output_type": "execute_result"
    }
   ],
   "source": [
    "global books\n",
    "books.head()"
   ]
  },
  {
   "cell_type": "code",
   "execution_count": 157,
   "id": "f27baa4e-922d-427d-bb77-ea1fdf1a5040",
   "metadata": {},
   "outputs": [],
   "source": [
    "#Indexing by personId to speed up the searches during evaluation\n",
    "interactions_full_indexed_df = interactions_full_df.set_index('User-ID')\n",
    "interactions_train_indexed_df = interactions_train_df.set_index('User-ID')\n",
    "interactions_test_indexed_df = interactions_test_df.set_index('User-ID')"
   ]
  },
  {
   "cell_type": "code",
   "execution_count": 160,
   "id": "8df0e982-c3d9-4644-ae3e-a4dab13eb8cd",
   "metadata": {},
   "outputs": [],
   "source": [
    "def get_items_interacted(UserID, interactions_df):\n",
    "    interacted_items = interactions_df.loc[UserID]['ISBN']\n",
    "    return set(interacted_items if type(interacted_items) == pd.Series else [interacted_items])"
   ]
  },
  {
   "cell_type": "code",
   "execution_count": 174,
   "id": "2e5f220a",
   "metadata": {},
   "outputs": [],
   "source": [
    "import random as rd\n",
    "import pandas as pd\n",
    "class RecommenderSystem:\n",
    "    def __init__(self, model, books_df, cf_preds_df):\n",
    "        self.model = model\n",
    "        self.books_df = books_df\n",
    "        self.cf_preds_df = cf_preds_df\n",
    "    \n",
    "    # Get items a user has interacted with\n",
    "    def get_items_interacted(self, UserID, interactions_df):\n",
    "        try:\n",
    "            # Try directly accessing the user data - works for MultiIndex\n",
    "            user_data = interactions_df.xs(UserID, level='User-ID')\n",
    "            # Return unique ISBN values\n",
    "            return set(user_data.index)\n",
    "        except Exception:\n",
    "            # If above method fails, try using a filter\n",
    "            try:\n",
    "                # Try selecting rows where User-ID equals UserID\n",
    "                user_items = interactions_df.reset_index().query(f'`User-ID` == {UserID}')['ISBN'].unique()\n",
    "                return set(user_items)\n",
    "            except Exception:\n",
    "                # If all else fails\n",
    "                return set()\n",
    "\n",
    "    # Get a sample of items a user has not interacted with\n",
    "    def get_not_interacted_items_sample(self, UserID, sample_size, interactions_full_indexed_df, seed=42):\n",
    "        import random\n",
    "        interacted_items = self.get_items_interacted(UserID, interactions_full_indexed_df)\n",
    "        all_items = set(self.cf_preds_df.index)\n",
    "        non_interacted_items = all_items - interacted_items\n",
    "\n",
    "        random.seed(seed)\n",
    "        non_interacted_items_sample = random.sample(non_interacted_items, min(sample_size, len(non_interacted_items)))\n",
    "        return set(non_interacted_items_sample)\n",
    "\n",
    "    # Function to verify whether an item is in the top-N recommendations\n",
    "    def _verify_hit_top_n(self, item_id, recommended_items, topn):        \n",
    "        try:\n",
    "            index = next(i for i, c in enumerate(recommended_items) if c == item_id)\n",
    "            hit = int(index in range(0, topn))\n",
    "        except StopIteration:\n",
    "            index = -1\n",
    "            hit = 0\n",
    "        return hit, index\n",
    "    \n",
    "    # Generate recommendations for a user - FIXED to avoid merge ambiguity\n",
    "    def recommend_items(self, user_id, items_to_ignore=None, topn=10):\n",
    "        if items_to_ignore is None:\n",
    "            items_to_ignore = []\n",
    "            \n",
    "        # Check if user_id exists in cf_preds_df\n",
    "        if user_id not in self.cf_preds_df.columns:\n",
    "            print(f\"User {user_id} not found in prediction data\")\n",
    "            return pd.DataFrame()\n",
    "            \n",
    "        # Get the user's predicted ratings\n",
    "        user_column_idx = self.cf_preds_df.columns.get_loc(user_id)\n",
    "        \n",
    "        # Create a DataFrame of the user's predicted ratings\n",
    "        # Reset the index to convert the ISBN index to a column\n",
    "        recommendations = pd.DataFrame({\n",
    "            'ISBN': self.cf_preds_df.index.tolist(),\n",
    "            'predicted_rating': self.cf_preds_df.iloc[:, user_column_idx].values\n",
    "        })\n",
    "        \n",
    "        # Remove items that should be ignored\n",
    "        recommendations = recommendations[~recommendations['ISBN'].isin(items_to_ignore)]\n",
    "        \n",
    "        # Sort by predicted rating\n",
    "        recommendations = recommendations.sort_values('predicted_rating', ascending=False)\n",
    "        \n",
    "        # Create a dictionary mapping ISBN to book title for fast lookup\n",
    "        isbn_to_title = dict(zip(self.books_df['ISBN'], self.books_df['Book-Title']))\n",
    "        \n",
    "        # Add book titles using the dictionary (avoiding merge)\n",
    "        recommendations['book_title'] = recommendations['ISBN'].map(isbn_to_title)\n",
    "        \n",
    "        # Filter out books where we couldn't find a title\n",
    "        recommendations = recommendations.dropna(subset=['book_title'])\n",
    "        \n",
    "        return recommendations.head(topn)\n",
    "\n",
    "    # Function to evaluate the model for a user and print recommendations\n",
    "    def evaluate_model_for_user(self, user_id):\n",
    "        print(f\"Finding recommendations for user {user_id}...\")\n",
    "        \n",
    "        # Get items the user has interacted with in the training set\n",
    "        items_to_ignore = self.get_items_interacted(user_id, interactions_train_indexed_df)\n",
    "        \n",
    "        print(f\"User has interacted with {len(items_to_ignore)} items.\")\n",
    "        \n",
    "        # Get recommendations for this user\n",
    "        recommendations = self.recommend_items(user_id, items_to_ignore=items_to_ignore, topn=10)\n",
    "        \n",
    "        if not recommendations.empty:\n",
    "            print(f'Recommendations for User-ID = {user_id}')\n",
    "            print(recommendations[['book_title', 'predicted_rating']].head(10))\n",
    "        else:\n",
    "            print(f\"No recommendations found for user {user_id}\")\n",
    "\n",
    "    # Main function to recommend books\n",
    "    def recommend_book(self, user_id):        \n",
    "        self.evaluate_model_for_user(user_id)"
   ]
  },
  {
   "cell_type": "code",
   "execution_count": 175,
   "id": "6c7a8219",
   "metadata": {},
   "outputs": [
    {
     "name": "stdout",
     "output_type": "stream",
     "text": [
      "First few column names in cf_preds_df: Index([2033, 2110, 2276, 4017, 4385], dtype='int64')\n",
      "Trying users: [2033, 2110, 2276]\n",
      "\n",
      "==================================================\n",
      "\n",
      "Recommendations for User 2033:\n",
      "Finding recommendations for user 2033...\n",
      "User has interacted with 103 items.\n",
      "Recommendations for User-ID = 2033\n",
      "                                              book_title  predicted_rating\n",
      "20185                                     A Time to Kill             0.212\n",
      "29723  Harry Potter and the Sorcerer's Stone (Harry P...             0.196\n",
      "8719                           The Lovely Bones: A Novel             0.170\n",
      "40352                                  The Joy Luck Club             0.158\n",
      "29722     Harry Potter and the Sorcerer's Stone (Book 1)             0.149\n",
      "43307  Homicidal Psycho Jungle Cat: A Calvin and Hobb...             0.145\n",
      "43310                    The Essential Calvin and Hobbes             0.143\n",
      "21446                              To Kill a Mockingbird             0.142\n",
      "18360                                  Lord of the Flies             0.137\n",
      "9932                                       Jurassic Park             0.134\n",
      "\n",
      "==================================================\n",
      "\n",
      "Recommendations for User 2110:\n",
      "Finding recommendations for user 2110...\n",
      "User has interacted with 82 items.\n",
      "Recommendations for User-ID = 2110\n",
      "                                              book_title  predicted_rating\n",
      "8719                           The Lovely Bones: A Novel             0.092\n",
      "20185                                     A Time to Kill             0.072\n",
      "19788  Harry Potter and the Order of the Phoenix (Boo...             0.065\n",
      "19663   Harry Potter and the Chamber of Secrets (Book 2)             0.063\n",
      "19696  Harry Potter and the Prisoner of Azkaban (Book 3)             0.063\n",
      "9932                                       Jurassic Park             0.058\n",
      "19701       Harry Potter and the Goblet of Fire (Book 4)             0.057\n",
      "14698  Cruel &amp; Unusual (Kay Scarpetta Mysteries (...             0.056\n",
      "8273                   Seven Up (A Stephanie Plum Novel)             0.055\n",
      "6860                 The Red Tent (Bestselling Backlist)             0.055\n",
      "\n",
      "==================================================\n",
      "\n",
      "Recommendations for User 2276:\n",
      "Finding recommendations for user 2276...\n",
      "User has interacted with 157 items.\n",
      "Recommendations for User-ID = 2276\n",
      "                                              book_title  predicted_rating\n",
      "8719                           The Lovely Bones: A Novel             0.191\n",
      "29723  Harry Potter and the Sorcerer's Stone (Harry P...             0.134\n",
      "9932                                       Jurassic Park             0.125\n",
      "20185                                     A Time to Kill             0.118\n",
      "19788  Harry Potter and the Order of the Phoenix (Boo...             0.103\n",
      "19701       Harry Potter and the Goblet of Fire (Book 4)             0.102\n",
      "19663   Harry Potter and the Chamber of Secrets (Book 2)             0.102\n",
      "19696  Harry Potter and the Prisoner of Azkaban (Book 3)             0.100\n",
      "21446                              To Kill a Mockingbird             0.098\n",
      "6860                 The Red Tent (Bestselling Backlist)             0.096\n"
     ]
    }
   ],
   "source": [
    "import pandas as pd\n",
    "import numpy as np\n",
    "import random\n",
    "\n",
    "# Initialize the recommender system with your model and data\n",
    "recommender = RecommenderSystem(model, books, cf_preds_df)\n",
    "\n",
    "# Let's get some user IDs that definitely exist in both datasets\n",
    "# First, check the column names in cf_preds_df to make sure we're accessing it correctly\n",
    "print(f\"First few column names in cf_preds_df: {cf_preds_df.columns[:5]}\")\n",
    "\n",
    "# Generate recommendations for a few users from cf_preds_df columns\n",
    "users_to_try = list(cf_preds_df.columns[:3])  # First 3 users from predictions\n",
    "print(f\"Trying users: {users_to_try}\")\n",
    "\n",
    "for user_id in users_to_try:\n",
    "    try:\n",
    "        print(\"\\n\" + \"=\"*50)\n",
    "        print(f\"\\nRecommendations for User {user_id}:\")\n",
    "        recommender.recommend_book(user_id)\n",
    "    except Exception as e:\n",
    "        print(f\"Error generating recommendations for user {user_id}: {str(e)}\")\n",
    "        import traceback\n",
    "        traceback.print_exc()"
   ]
  },
  {
   "cell_type": "code",
   "execution_count": null,
   "id": "84b190ef",
   "metadata": {},
   "outputs": [],
   "source": []
  }
 ],
 "metadata": {
  "kernelspec": {
   "display_name": "assignments",
   "language": "python",
   "name": "python3"
  },
  "language_info": {
   "codemirror_mode": {
    "name": "ipython",
    "version": 3
   },
   "file_extension": ".py",
   "mimetype": "text/x-python",
   "name": "python",
   "nbconvert_exporter": "python",
   "pygments_lexer": "ipython3",
   "version": "3.12.9"
  }
 },
 "nbformat": 4,
 "nbformat_minor": 5
}
